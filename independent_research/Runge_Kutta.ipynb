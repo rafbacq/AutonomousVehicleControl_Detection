{
 "cells": [
  {
   "cell_type": "code",
   "execution_count": 1,
   "id": "9a6a3e60-76de-4c0b-87e2-4082d612e83d",
   "metadata": {},
   "outputs": [],
   "source": [
    "import numpy as np\n",
    "import sys\n",
    "import io\n",
    "import pandas \n",
    "import plotly.express as px\n",
    "import math \n"
   ]
  },
  {
   "cell_type": "code",
   "execution_count": 2,
   "id": "e6beddf5-0959-4d08-95ee-53fa87388f45",
   "metadata": {},
   "outputs": [],
   "source": [
    "fin = open('Independent_File.in.txt', mode='r', encoding='utf-8-sig')"
   ]
  },
  {
   "cell_type": "code",
   "execution_count": 3,
   "id": "bc92da44",
   "metadata": {},
   "outputs": [],
   "source": [
    "#read all the inputs in variables\n",
    "k1 = float(fin.readline()) #gain #1\n",
    "k2 = float(fin.readline()) #gain #2\n",
    "k3 = float(fin.readline()) #gain #3\n",
    "k4 = float(fin.readline()) #gain #4 \n",
    "x1 = float(fin.readline()) #initial vehicle position\n",
    "x2 = float(fin.readline()) #initial vehicle velocity\n",
    "x3 = float(fin.readline()) #initial wheel angular velocity\n",
    "x2cmd = float(fin.readline())#command controller of vehicle velocity\n",
    "tn = int(fin.readline()) #number of time steps\n",
    "ts = float(fin.readline()) #time steps duration\n",
    "controlTorque = fin.readline()#names what control torque is currently being used"
   ]
  },
  {
   "cell_type": "code",
   "execution_count": 4,
   "id": "3f849ab7",
   "metadata": {},
   "outputs": [],
   "source": [
    "#define all the variables\n",
    "A21 = 29.6\n",
    "A22 = 0.0000559\n",
    "A31 = 1459.327\n",
    "A32 = 0.00157\n",
    "d3 = -14.3201\n",
    "B = 0.0225\n",
    "rw = 15.37/12.0\n",
    "lpk = 0.17\n",
    "x3cmd =0\n",
    "if(controlTorque == 'Lyapunov Control Torque'):\n",
    "    x3cmd = x2cmd/(rw*(1-lpk)) \n",
    "else:\n",
    "    x3cmd = x2cmd/(rw*(1-lpk))\n",
    "\n",
    "x3Old =x3 #x3 one time step before\n",
    "\n",
    "l=0 #temporary lambda value\n",
    "\n",
    "if(x2==0 and x3==0):\n",
    "    l=0\n",
    "elif (x2<= rw*x3):\n",
    "    l = 1-(x2/(rw*x3))\n",
    "elif(x2>rw*x3):\n",
    "    l = ((rw*x3)/x2)-1\n",
    "al = (2*(l/lpk))/(1+((l/lpk)**2)) #attenuation from wheel slip\n",
    "\n",
    "Tcon =0.0 #temporary control torque value\n",
    "#if controlTorque==\"Sliding Mode Control Torque\":\n",
    "    #Tcon = (1/B)*(((A31-k4*A21)*al) + ((A32+k4*A22)*(x2**2)) +d3-((k3*k4)*(x2-x2cmd))-((k3)*(x3-x3cmd)))#for Sliding Mode Control Torque\n",
    "#else:\n",
    "    #Tcon = (1/B)*(((A31-A21)*al) + ((A32+A22)*(x2**2)) +d3-((k3)*(x2-x2cmd)) + ((1/(tn*ts))*(x3-x3Old)))#for Lyapunov Control Torque\n",
    "    \n",
    "\n",
    "\n",
    "\n",
    "\n",
    "\n"
   ]
  },
  {
   "cell_type": "code",
   "execution_count": 5,
   "id": "9f7105a6-0bd6-4b47-a5e9-36b1e4a89ad0",
   "metadata": {},
   "outputs": [
    {
     "name": "stdout",
     "output_type": "stream",
     "text": [
      "yuh\n",
      "yuh2\n",
      "yuh3\n",
      "yuh3\n",
      "1.0\n",
      "[[nan]\n",
      " [nan]\n",
      " [nan]]\n",
      "261174658907.31714\n",
      "\n",
      "yuh3\n",
      "yuh3\n",
      "yuh3\n",
      "yuh3\n",
      "2.0\n",
      "[[nan]\n",
      " [nan]\n",
      " [nan]]\n",
      "261174658907.31714\n",
      "\n",
      "yuh3\n",
      "yuh3\n",
      "yuh3\n",
      "yuh3\n",
      "3.0\n",
      "[[nan]\n",
      " [nan]\n",
      " [nan]]\n",
      "261174658907.31714\n",
      "\n",
      "yuh3\n",
      "yuh3\n",
      "yuh3\n",
      "yuh3\n",
      "4.0\n",
      "[[nan]\n",
      " [nan]\n",
      " [nan]]\n",
      "261174658907.31714\n",
      "\n",
      "yuh3\n",
      "yuh3\n",
      "yuh3\n",
      "yuh3\n",
      "5.0\n",
      "[[nan]\n",
      " [nan]\n",
      " [nan]]\n",
      "261174658907.31714\n",
      "\n",
      "yuh3\n",
      "yuh3\n",
      "yuh3\n",
      "yuh3\n",
      "6.0\n",
      "[[nan]\n",
      " [nan]\n",
      " [nan]]\n",
      "261174658907.31714\n",
      "\n",
      "yuh3\n",
      "yuh3\n",
      "yuh3\n",
      "yuh3\n",
      "7.0\n",
      "[[nan]\n",
      " [nan]\n",
      " [nan]]\n",
      "261174658907.31714\n",
      "\n",
      "yuh3\n",
      "yuh3\n",
      "yuh3\n",
      "yuh3\n",
      "8.0\n",
      "[[nan]\n",
      " [nan]\n",
      " [nan]]\n",
      "261174658907.31714\n",
      "\n",
      "yuh3\n",
      "yuh3\n",
      "yuh3\n",
      "yuh3\n",
      "9.0\n",
      "[[nan]\n",
      " [nan]\n",
      " [nan]]\n",
      "261174658907.31714\n",
      "\n",
      "yuh3\n",
      "yuh3\n",
      "yuh3\n",
      "yuh3\n",
      "10.0\n",
      "[[nan]\n",
      " [nan]\n",
      " [nan]]\n",
      "261174658907.31714\n",
      "\n",
      "yuh3\n",
      "yuh3\n",
      "yuh3\n",
      "yuh3\n",
      "11.0\n",
      "[[nan]\n",
      " [nan]\n",
      " [nan]]\n",
      "261174658907.31714\n",
      "\n",
      "yuh3\n",
      "yuh3\n",
      "yuh3\n",
      "yuh3\n",
      "12.0\n",
      "[[nan]\n",
      " [nan]\n",
      " [nan]]\n",
      "261174658907.31714\n",
      "\n",
      "yuh3\n",
      "yuh3\n",
      "yuh3\n",
      "yuh3\n",
      "13.0\n",
      "[[nan]\n",
      " [nan]\n",
      " [nan]]\n",
      "261174658907.31714\n",
      "\n",
      "yuh3\n",
      "yuh3\n",
      "yuh3\n",
      "yuh3\n",
      "14.0\n",
      "[[nan]\n",
      " [nan]\n",
      " [nan]]\n",
      "261174658907.31714\n",
      "\n",
      "yuh3\n",
      "yuh3\n",
      "yuh3\n",
      "yuh3\n",
      "15.0\n",
      "[[nan]\n",
      " [nan]\n",
      " [nan]]\n",
      "261174658907.31714\n",
      "\n",
      "yuh3\n",
      "yuh3\n",
      "yuh3\n",
      "yuh3\n",
      "16.0\n",
      "[[nan]\n",
      " [nan]\n",
      " [nan]]\n",
      "261174658907.31714\n",
      "\n",
      "yuh3\n",
      "yuh3\n",
      "yuh3\n",
      "yuh3\n",
      "17.0\n",
      "[[nan]\n",
      " [nan]\n",
      " [nan]]\n",
      "261174658907.31714\n",
      "\n",
      "yuh3\n",
      "yuh3\n",
      "yuh3\n",
      "yuh3\n",
      "18.0\n",
      "[[nan]\n",
      " [nan]\n",
      " [nan]]\n",
      "261174658907.31714\n",
      "\n",
      "yuh3\n",
      "yuh3\n",
      "yuh3\n",
      "yuh3\n",
      "19.0\n",
      "[[nan]\n",
      " [nan]\n",
      " [nan]]\n",
      "261174658907.31714\n",
      "\n",
      "yuh3\n",
      "yuh3\n",
      "yuh3\n",
      "yuh3\n",
      "20.0\n",
      "[[nan]\n",
      " [nan]\n",
      " [nan]]\n",
      "261174658907.31714\n",
      "\n",
      "yuh3\n",
      "yuh3\n",
      "yuh3\n",
      "yuh3\n",
      "21.0\n",
      "[[nan]\n",
      " [nan]\n",
      " [nan]]\n",
      "261174658907.31714\n",
      "\n",
      "yuh3\n",
      "yuh3\n",
      "yuh3\n",
      "yuh3\n",
      "22.0\n",
      "[[nan]\n",
      " [nan]\n",
      " [nan]]\n",
      "261174658907.31714\n",
      "\n",
      "yuh3\n",
      "yuh3\n",
      "yuh3\n",
      "yuh3\n",
      "23.0\n",
      "[[nan]\n",
      " [nan]\n",
      " [nan]]\n",
      "261174658907.31714\n",
      "\n",
      "yuh3\n",
      "yuh3\n",
      "yuh3\n",
      "yuh3\n",
      "24.0\n",
      "[[nan]\n",
      " [nan]\n",
      " [nan]]\n",
      "261174658907.31714\n",
      "\n",
      "yuh3\n",
      "yuh3\n",
      "yuh3\n",
      "yuh3\n",
      "25.0\n",
      "[[nan]\n",
      " [nan]\n",
      " [nan]]\n",
      "261174658907.31714\n",
      "\n",
      "yuh3\n",
      "yuh3\n",
      "yuh3\n",
      "yuh3\n",
      "26.0\n",
      "[[nan]\n",
      " [nan]\n",
      " [nan]]\n",
      "261174658907.31714\n",
      "\n",
      "yuh3\n",
      "yuh3\n",
      "yuh3\n",
      "yuh3\n",
      "27.0\n",
      "[[nan]\n",
      " [nan]\n",
      " [nan]]\n",
      "261174658907.31714\n",
      "\n",
      "yuh3\n",
      "yuh3\n",
      "yuh3\n",
      "yuh3\n",
      "28.0\n",
      "[[nan]\n",
      " [nan]\n",
      " [nan]]\n",
      "261174658907.31714\n",
      "\n",
      "yuh3\n",
      "yuh3\n",
      "yuh3\n",
      "yuh3\n",
      "29.0\n",
      "[[nan]\n",
      " [nan]\n",
      " [nan]]\n",
      "261174658907.31714\n",
      "\n",
      "yuh3\n",
      "yuh3\n",
      "yuh3\n",
      "yuh3\n",
      "30.0\n",
      "[[nan]\n",
      " [nan]\n",
      " [nan]]\n",
      "261174658907.31714\n",
      "\n",
      "yuh3\n",
      "yuh3\n",
      "yuh3\n",
      "yuh3\n",
      "31.0\n",
      "[[nan]\n",
      " [nan]\n",
      " [nan]]\n",
      "261174658907.31714\n",
      "\n",
      "yuh3\n",
      "yuh3\n",
      "yuh3\n",
      "yuh3\n",
      "32.0\n",
      "[[nan]\n",
      " [nan]\n",
      " [nan]]\n",
      "261174658907.31714\n",
      "\n",
      "yuh3\n",
      "yuh3\n",
      "yuh3\n",
      "yuh3\n",
      "33.0\n",
      "[[nan]\n",
      " [nan]\n",
      " [nan]]\n",
      "261174658907.31714\n",
      "\n",
      "yuh3\n",
      "yuh3\n",
      "yuh3\n",
      "yuh3\n",
      "34.0\n",
      "[[nan]\n",
      " [nan]\n",
      " [nan]]\n",
      "261174658907.31714\n",
      "\n",
      "yuh3\n",
      "yuh3\n",
      "yuh3\n",
      "yuh3\n",
      "35.0\n",
      "[[nan]\n",
      " [nan]\n",
      " [nan]]\n",
      "261174658907.31714\n",
      "\n",
      "yuh3\n",
      "yuh3\n",
      "yuh3\n",
      "yuh3\n",
      "36.0\n",
      "[[nan]\n",
      " [nan]\n",
      " [nan]]\n",
      "261174658907.31714\n",
      "\n",
      "yuh3\n",
      "yuh3\n",
      "yuh3\n",
      "yuh3\n",
      "37.0\n",
      "[[nan]\n",
      " [nan]\n",
      " [nan]]\n",
      "261174658907.31714\n",
      "\n",
      "yuh3\n",
      "yuh3\n",
      "yuh3\n",
      "yuh3\n",
      "38.0\n",
      "[[nan]\n",
      " [nan]\n",
      " [nan]]\n",
      "261174658907.31714\n",
      "\n",
      "yuh3\n",
      "yuh3\n",
      "yuh3\n",
      "yuh3\n",
      "39.0\n",
      "[[nan]\n",
      " [nan]\n",
      " [nan]]\n",
      "261174658907.31714\n",
      "\n",
      "yuh3\n",
      "yuh3\n",
      "yuh3\n",
      "yuh3\n",
      "40.0\n",
      "[[nan]\n",
      " [nan]\n",
      " [nan]]\n",
      "261174658907.31714\n",
      "\n",
      "yuh3\n",
      "yuh3\n",
      "yuh3\n",
      "yuh3\n",
      "41.0\n",
      "[[nan]\n",
      " [nan]\n",
      " [nan]]\n",
      "261174658907.31714\n",
      "\n",
      "yuh3\n",
      "yuh3\n",
      "yuh3\n",
      "yuh3\n",
      "42.0\n",
      "[[nan]\n",
      " [nan]\n",
      " [nan]]\n",
      "261174658907.31714\n",
      "\n",
      "yuh3\n",
      "yuh3\n",
      "yuh3\n",
      "yuh3\n",
      "43.0\n",
      "[[nan]\n",
      " [nan]\n",
      " [nan]]\n",
      "261174658907.31714\n",
      "\n",
      "yuh3\n",
      "yuh3\n",
      "yuh3\n",
      "yuh3\n",
      "44.0\n",
      "[[nan]\n",
      " [nan]\n",
      " [nan]]\n",
      "261174658907.31714\n",
      "\n",
      "yuh3\n",
      "yuh3\n",
      "yuh3\n",
      "yuh3\n",
      "45.0\n",
      "[[nan]\n",
      " [nan]\n",
      " [nan]]\n",
      "261174658907.31714\n",
      "\n",
      "yuh3\n",
      "yuh3\n",
      "yuh3\n",
      "yuh3\n",
      "46.0\n",
      "[[nan]\n",
      " [nan]\n",
      " [nan]]\n",
      "261174658907.31714\n",
      "\n",
      "yuh3\n",
      "yuh3\n",
      "yuh3\n",
      "yuh3\n",
      "47.0\n",
      "[[nan]\n",
      " [nan]\n",
      " [nan]]\n",
      "261174658907.31714\n",
      "\n",
      "yuh3\n",
      "yuh3\n",
      "yuh3\n",
      "yuh3\n",
      "48.0\n",
      "[[nan]\n",
      " [nan]\n",
      " [nan]]\n",
      "261174658907.31714\n",
      "\n",
      "yuh3\n",
      "yuh3\n",
      "yuh3\n",
      "yuh3\n",
      "49.0\n",
      "[[nan]\n",
      " [nan]\n",
      " [nan]]\n",
      "261174658907.31714\n",
      "\n",
      "yuh3\n",
      "yuh3\n",
      "yuh3\n",
      "yuh3\n",
      "50.0\n",
      "[[nan]\n",
      " [nan]\n",
      " [nan]]\n",
      "261174658907.31714\n",
      "\n",
      "yuh3\n",
      "yuh3\n",
      "yuh3\n",
      "yuh3\n",
      "51.0\n",
      "[[nan]\n",
      " [nan]\n",
      " [nan]]\n",
      "261174658907.31714\n",
      "\n",
      "yuh3\n",
      "yuh3\n",
      "yuh3\n",
      "yuh3\n",
      "52.0\n",
      "[[nan]\n",
      " [nan]\n",
      " [nan]]\n",
      "261174658907.31714\n",
      "\n",
      "yuh3\n",
      "yuh3\n",
      "yuh3\n",
      "yuh3\n",
      "53.0\n",
      "[[nan]\n",
      " [nan]\n",
      " [nan]]\n",
      "261174658907.31714\n",
      "\n",
      "yuh3\n",
      "yuh3\n",
      "yuh3\n",
      "yuh3\n",
      "54.0\n",
      "[[nan]\n",
      " [nan]\n",
      " [nan]]\n",
      "261174658907.31714\n",
      "\n",
      "yuh3\n",
      "yuh3\n",
      "yuh3\n",
      "yuh3\n",
      "55.0\n",
      "[[nan]\n",
      " [nan]\n",
      " [nan]]\n",
      "261174658907.31714\n",
      "\n",
      "yuh3\n",
      "yuh3\n",
      "yuh3\n",
      "yuh3\n",
      "56.0\n",
      "[[nan]\n",
      " [nan]\n",
      " [nan]]\n",
      "261174658907.31714\n",
      "\n",
      "yuh3\n",
      "yuh3\n",
      "yuh3\n",
      "yuh3\n",
      "57.0\n",
      "[[nan]\n",
      " [nan]\n",
      " [nan]]\n",
      "261174658907.31714\n",
      "\n",
      "yuh3\n",
      "yuh3\n",
      "yuh3\n",
      "yuh3\n",
      "58.0\n",
      "[[nan]\n",
      " [nan]\n",
      " [nan]]\n",
      "261174658907.31714\n",
      "\n",
      "yuh3\n",
      "yuh3\n",
      "yuh3\n",
      "yuh3\n",
      "59.0\n",
      "[[nan]\n",
      " [nan]\n",
      " [nan]]\n",
      "261174658907.31714\n",
      "\n",
      "yuh3\n",
      "yuh3\n",
      "yuh3\n",
      "yuh3\n",
      "60.0\n",
      "[[nan]\n",
      " [nan]\n",
      " [nan]]\n",
      "261174658907.31714\n",
      "\n",
      "yuh3\n",
      "yuh3\n",
      "yuh3\n",
      "yuh3\n",
      "61.0\n",
      "[[nan]\n",
      " [nan]\n",
      " [nan]]\n",
      "261174658907.31714\n",
      "\n",
      "yuh3\n",
      "yuh3\n",
      "yuh3\n",
      "yuh3\n",
      "62.0\n",
      "[[nan]\n",
      " [nan]\n",
      " [nan]]\n",
      "261174658907.31714\n",
      "\n",
      "yuh3\n",
      "yuh3\n",
      "yuh3\n",
      "yuh3\n",
      "63.0\n",
      "[[nan]\n",
      " [nan]\n",
      " [nan]]\n",
      "261174658907.31714\n",
      "\n",
      "yuh3\n",
      "yuh3\n",
      "yuh3\n",
      "yuh3\n",
      "64.0\n",
      "[[nan]\n",
      " [nan]\n",
      " [nan]]\n",
      "261174658907.31714\n",
      "\n",
      "yuh3\n",
      "yuh3\n",
      "yuh3\n",
      "yuh3\n",
      "65.0\n",
      "[[nan]\n",
      " [nan]\n",
      " [nan]]\n",
      "261174658907.31714\n",
      "\n",
      "yuh3\n",
      "yuh3\n",
      "yuh3\n",
      "yuh3\n",
      "66.0\n",
      "[[nan]\n",
      " [nan]\n",
      " [nan]]\n",
      "261174658907.31714\n",
      "\n",
      "yuh3\n",
      "yuh3\n",
      "yuh3\n",
      "yuh3\n",
      "67.0\n",
      "[[nan]\n",
      " [nan]\n",
      " [nan]]\n",
      "261174658907.31714\n",
      "\n",
      "yuh3\n",
      "yuh3\n",
      "yuh3\n",
      "yuh3\n",
      "68.0\n",
      "[[nan]\n",
      " [nan]\n",
      " [nan]]\n",
      "261174658907.31714\n",
      "\n",
      "yuh3\n",
      "yuh3\n",
      "yuh3\n",
      "yuh3\n",
      "69.0\n",
      "[[nan]\n",
      " [nan]\n",
      " [nan]]\n",
      "261174658907.31714\n",
      "\n",
      "yuh3\n",
      "yuh3\n",
      "yuh3\n",
      "yuh3\n",
      "70.0\n",
      "[[nan]\n",
      " [nan]\n",
      " [nan]]\n",
      "261174658907.31714\n",
      "\n",
      "yuh3\n",
      "yuh3\n",
      "yuh3\n",
      "yuh3\n",
      "71.0\n",
      "[[nan]\n",
      " [nan]\n",
      " [nan]]\n",
      "261174658907.31714\n",
      "\n",
      "yuh3\n",
      "yuh3\n",
      "yuh3\n",
      "yuh3\n",
      "72.0\n",
      "[[nan]\n",
      " [nan]\n",
      " [nan]]\n",
      "261174658907.31714\n",
      "\n",
      "yuh3\n",
      "yuh3\n",
      "yuh3\n",
      "yuh3\n",
      "73.0\n",
      "[[nan]\n",
      " [nan]\n",
      " [nan]]\n",
      "261174658907.31714\n",
      "\n",
      "yuh3\n",
      "yuh3\n",
      "yuh3\n",
      "yuh3\n",
      "74.0\n",
      "[[nan]\n",
      " [nan]\n",
      " [nan]]\n",
      "261174658907.31714\n",
      "\n",
      "yuh3\n",
      "yuh3\n",
      "yuh3\n",
      "yuh3\n",
      "75.0\n",
      "[[nan]\n",
      " [nan]\n",
      " [nan]]\n",
      "261174658907.31714\n",
      "\n",
      "yuh3\n",
      "yuh3\n",
      "yuh3\n",
      "yuh3\n",
      "76.0\n",
      "[[nan]\n",
      " [nan]\n",
      " [nan]]\n",
      "261174658907.31714\n",
      "\n",
      "yuh3\n",
      "yuh3\n",
      "yuh3\n",
      "yuh3\n",
      "77.0\n",
      "[[nan]\n",
      " [nan]\n",
      " [nan]]\n",
      "261174658907.31714\n",
      "\n",
      "yuh3\n",
      "yuh3\n",
      "yuh3\n",
      "yuh3\n",
      "78.0\n",
      "[[nan]\n",
      " [nan]\n",
      " [nan]]\n",
      "261174658907.31714\n",
      "\n",
      "yuh3\n",
      "yuh3\n",
      "yuh3\n",
      "yuh3\n",
      "79.0\n",
      "[[nan]\n",
      " [nan]\n",
      " [nan]]\n",
      "261174658907.31714\n",
      "\n",
      "yuh3\n",
      "yuh3\n",
      "yuh3\n",
      "yuh3\n",
      "80.0\n",
      "[[nan]\n",
      " [nan]\n",
      " [nan]]\n",
      "261174658907.31714\n",
      "\n",
      "yuh3\n",
      "yuh3\n",
      "yuh3\n",
      "yuh3\n",
      "81.0\n",
      "[[nan]\n",
      " [nan]\n",
      " [nan]]\n",
      "261174658907.31714\n",
      "\n",
      "yuh3\n",
      "yuh3\n",
      "yuh3\n",
      "yuh3\n",
      "82.0\n",
      "[[nan]\n",
      " [nan]\n",
      " [nan]]\n",
      "261174658907.31714\n",
      "\n",
      "yuh3\n",
      "yuh3\n",
      "yuh3\n",
      "yuh3\n",
      "83.0\n",
      "[[nan]\n",
      " [nan]\n",
      " [nan]]\n",
      "261174658907.31714\n",
      "\n",
      "yuh3\n",
      "yuh3\n",
      "yuh3\n",
      "yuh3\n",
      "84.0\n",
      "[[nan]\n",
      " [nan]\n",
      " [nan]]\n",
      "261174658907.31714\n",
      "\n",
      "yuh3\n",
      "yuh3\n",
      "yuh3\n",
      "yuh3\n",
      "85.0\n",
      "[[nan]\n",
      " [nan]\n",
      " [nan]]\n",
      "261174658907.31714\n",
      "\n",
      "yuh3\n",
      "yuh3\n",
      "yuh3\n",
      "yuh3\n",
      "86.0\n",
      "[[nan]\n",
      " [nan]\n",
      " [nan]]\n",
      "261174658907.31714\n",
      "\n",
      "yuh3\n",
      "yuh3\n",
      "yuh3\n",
      "yuh3\n",
      "87.0\n",
      "[[nan]\n",
      " [nan]\n",
      " [nan]]\n",
      "261174658907.31714\n",
      "\n",
      "yuh3\n",
      "yuh3\n",
      "yuh3\n",
      "yuh3\n",
      "88.0\n",
      "[[nan]\n",
      " [nan]\n",
      " [nan]]\n",
      "261174658907.31714\n",
      "\n",
      "yuh3\n",
      "yuh3\n",
      "yuh3\n",
      "yuh3\n",
      "89.0\n",
      "[[nan]\n",
      " [nan]\n",
      " [nan]]\n",
      "261174658907.31714\n",
      "\n",
      "yuh3\n",
      "yuh3\n",
      "yuh3\n",
      "yuh3\n",
      "90.0\n",
      "[[nan]\n",
      " [nan]\n",
      " [nan]]\n",
      "261174658907.31714\n",
      "\n",
      "yuh3\n",
      "yuh3\n",
      "yuh3\n",
      "yuh3\n",
      "91.0\n",
      "[[nan]\n",
      " [nan]\n",
      " [nan]]\n",
      "261174658907.31714\n",
      "\n",
      "yuh3\n",
      "yuh3\n",
      "yuh3\n",
      "yuh3\n",
      "92.0\n",
      "[[nan]\n",
      " [nan]\n",
      " [nan]]\n",
      "261174658907.31714\n",
      "\n",
      "yuh3\n",
      "yuh3\n",
      "yuh3\n",
      "yuh3\n",
      "93.0\n",
      "[[nan]\n",
      " [nan]\n",
      " [nan]]\n",
      "261174658907.31714\n",
      "\n",
      "yuh3\n",
      "yuh3\n",
      "yuh3\n",
      "yuh3\n",
      "94.0\n",
      "[[nan]\n",
      " [nan]\n",
      " [nan]]\n",
      "261174658907.31714\n",
      "\n",
      "yuh3\n",
      "yuh3\n",
      "yuh3\n",
      "yuh3\n",
      "95.0\n",
      "[[nan]\n",
      " [nan]\n",
      " [nan]]\n",
      "261174658907.31714\n",
      "\n",
      "yuh3\n",
      "yuh3\n",
      "yuh3\n",
      "yuh3\n",
      "96.0\n",
      "[[nan]\n",
      " [nan]\n",
      " [nan]]\n",
      "261174658907.31714\n",
      "\n",
      "yuh3\n",
      "yuh3\n",
      "yuh3\n",
      "yuh3\n",
      "97.0\n",
      "[[nan]\n",
      " [nan]\n",
      " [nan]]\n",
      "261174658907.31714\n",
      "\n",
      "yuh3\n",
      "yuh3\n",
      "yuh3\n",
      "yuh3\n",
      "98.0\n",
      "[[nan]\n",
      " [nan]\n",
      " [nan]]\n",
      "261174658907.31714\n",
      "\n",
      "yuh3\n",
      "yuh3\n",
      "yuh3\n",
      "yuh3\n",
      "99.0\n",
      "[[nan]\n",
      " [nan]\n",
      " [nan]]\n",
      "261174658907.31714\n",
      "\n",
      "yuh3\n",
      "yuh3\n",
      "yuh3\n",
      "yuh3\n",
      "100.0\n",
      "[[nan]\n",
      " [nan]\n",
      " [nan]]\n",
      "261174658907.31714\n",
      "\n",
      "yuh3\n",
      "yuh3\n",
      "yuh3\n",
      "yuh3\n",
      "101.0\n",
      "[[nan]\n",
      " [nan]\n",
      " [nan]]\n",
      "261174658907.31714\n",
      "\n",
      "yuh3\n",
      "yuh3\n",
      "yuh3\n",
      "yuh3\n",
      "102.0\n",
      "[[nan]\n",
      " [nan]\n",
      " [nan]]\n",
      "261174658907.31714\n",
      "\n",
      "yuh3\n",
      "yuh3\n",
      "yuh3\n",
      "yuh3\n",
      "103.0\n",
      "[[nan]\n",
      " [nan]\n",
      " [nan]]\n",
      "261174658907.31714\n",
      "\n",
      "yuh3\n",
      "yuh3\n",
      "yuh3\n",
      "yuh3\n",
      "104.0\n",
      "[[nan]\n",
      " [nan]\n",
      " [nan]]\n",
      "261174658907.31714\n",
      "\n",
      "yuh3\n",
      "yuh3\n",
      "yuh3\n",
      "yuh3\n",
      "105.0\n",
      "[[nan]\n",
      " [nan]\n",
      " [nan]]\n",
      "261174658907.31714\n",
      "\n",
      "yuh3\n",
      "yuh3\n",
      "yuh3\n",
      "yuh3\n",
      "106.0\n",
      "[[nan]\n",
      " [nan]\n",
      " [nan]]\n",
      "261174658907.31714\n",
      "\n",
      "yuh3\n",
      "yuh3\n",
      "yuh3\n",
      "yuh3\n",
      "107.0\n",
      "[[nan]\n",
      " [nan]\n",
      " [nan]]\n",
      "261174658907.31714\n",
      "\n",
      "yuh3\n",
      "yuh3\n",
      "yuh3\n",
      "yuh3\n",
      "108.0\n",
      "[[nan]\n",
      " [nan]\n",
      " [nan]]\n",
      "261174658907.31714\n",
      "\n",
      "yuh3\n",
      "yuh3\n",
      "yuh3\n",
      "yuh3\n",
      "109.0\n",
      "[[nan]\n",
      " [nan]\n",
      " [nan]]\n",
      "261174658907.31714\n",
      "\n",
      "yuh3\n",
      "yuh3\n",
      "yuh3\n",
      "yuh3\n",
      "110.0\n",
      "[[nan]\n",
      " [nan]\n",
      " [nan]]\n",
      "261174658907.31714\n",
      "\n",
      "yuh3\n",
      "yuh3\n",
      "yuh3\n",
      "yuh3\n",
      "111.0\n",
      "[[nan]\n",
      " [nan]\n",
      " [nan]]\n",
      "261174658907.31714\n",
      "\n",
      "yuh3\n",
      "yuh3\n",
      "yuh3\n",
      "yuh3\n",
      "112.0\n",
      "[[nan]\n",
      " [nan]\n",
      " [nan]]\n",
      "261174658907.31714\n",
      "\n",
      "yuh3\n",
      "yuh3\n",
      "yuh3\n",
      "yuh3\n",
      "113.0\n",
      "[[nan]\n",
      " [nan]\n",
      " [nan]]\n",
      "261174658907.31714\n",
      "\n",
      "yuh3\n",
      "yuh3\n",
      "yuh3\n",
      "yuh3\n",
      "114.0\n",
      "[[nan]\n",
      " [nan]\n",
      " [nan]]\n",
      "261174658907.31714\n",
      "\n",
      "yuh3\n",
      "yuh3\n",
      "yuh3\n",
      "yuh3\n",
      "115.0\n",
      "[[nan]\n",
      " [nan]\n",
      " [nan]]\n",
      "261174658907.31714\n",
      "\n",
      "yuh3\n",
      "yuh3\n",
      "yuh3\n",
      "yuh3\n",
      "116.0\n",
      "[[nan]\n",
      " [nan]\n",
      " [nan]]\n",
      "261174658907.31714\n",
      "\n",
      "yuh3\n",
      "yuh3\n",
      "yuh3\n",
      "yuh3\n",
      "117.0\n",
      "[[nan]\n",
      " [nan]\n",
      " [nan]]\n",
      "261174658907.31714\n",
      "\n",
      "yuh3\n",
      "yuh3\n",
      "yuh3\n",
      "yuh3\n",
      "118.0\n",
      "[[nan]\n",
      " [nan]\n",
      " [nan]]\n",
      "261174658907.31714\n",
      "\n",
      "yuh3\n",
      "yuh3\n",
      "yuh3\n",
      "yuh3\n",
      "119.0\n",
      "[[nan]\n",
      " [nan]\n",
      " [nan]]\n",
      "261174658907.31714\n",
      "\n",
      "yuh3\n",
      "yuh3\n",
      "yuh3\n",
      "yuh3\n",
      "120.0\n",
      "[[nan]\n",
      " [nan]\n",
      " [nan]]\n",
      "261174658907.31714\n",
      "\n",
      "yuh3\n",
      "yuh3\n",
      "yuh3\n",
      "yuh3\n",
      "121.0\n",
      "[[nan]\n",
      " [nan]\n",
      " [nan]]\n",
      "261174658907.31714\n",
      "\n",
      "yuh3\n",
      "yuh3\n",
      "yuh3\n",
      "yuh3\n",
      "122.0\n",
      "[[nan]\n",
      " [nan]\n",
      " [nan]]\n",
      "261174658907.31714\n",
      "\n",
      "yuh3\n",
      "yuh3\n",
      "yuh3\n",
      "yuh3\n",
      "123.0\n",
      "[[nan]\n",
      " [nan]\n",
      " [nan]]\n",
      "261174658907.31714\n",
      "\n",
      "yuh3\n",
      "yuh3\n",
      "yuh3\n",
      "yuh3\n",
      "124.0\n",
      "[[nan]\n",
      " [nan]\n",
      " [nan]]\n",
      "261174658907.31714\n",
      "\n",
      "yuh3\n",
      "yuh3\n",
      "yuh3\n",
      "yuh3\n",
      "125.0\n",
      "[[nan]\n",
      " [nan]\n",
      " [nan]]\n",
      "261174658907.31714\n",
      "\n",
      "yuh3\n",
      "yuh3\n",
      "yuh3\n",
      "yuh3\n",
      "126.0\n",
      "[[nan]\n",
      " [nan]\n",
      " [nan]]\n",
      "261174658907.31714\n",
      "\n",
      "yuh3\n",
      "yuh3\n",
      "yuh3\n",
      "yuh3\n",
      "127.0\n",
      "[[nan]\n",
      " [nan]\n",
      " [nan]]\n",
      "261174658907.31714\n",
      "\n",
      "yuh3\n",
      "yuh3\n",
      "yuh3\n",
      "yuh3\n",
      "128.0\n",
      "[[nan]\n",
      " [nan]\n",
      " [nan]]\n",
      "261174658907.31714\n",
      "\n",
      "yuh3\n",
      "yuh3\n",
      "yuh3\n",
      "yuh3\n",
      "129.0\n",
      "[[nan]\n",
      " [nan]\n",
      " [nan]]\n",
      "261174658907.31714\n",
      "\n",
      "yuh3\n",
      "yuh3\n",
      "yuh3\n",
      "yuh3\n",
      "130.0\n",
      "[[nan]\n",
      " [nan]\n",
      " [nan]]\n",
      "261174658907.31714\n",
      "\n",
      "yuh3\n",
      "yuh3\n",
      "yuh3\n",
      "yuh3\n",
      "131.0\n",
      "[[nan]\n",
      " [nan]\n",
      " [nan]]\n",
      "261174658907.31714\n",
      "\n",
      "yuh3\n",
      "yuh3\n",
      "yuh3\n",
      "yuh3\n",
      "132.0\n",
      "[[nan]\n",
      " [nan]\n",
      " [nan]]\n",
      "261174658907.31714\n",
      "\n",
      "yuh3\n",
      "yuh3\n",
      "yuh3\n",
      "yuh3\n",
      "133.0\n",
      "[[nan]\n",
      " [nan]\n",
      " [nan]]\n",
      "261174658907.31714\n",
      "\n",
      "yuh3\n",
      "yuh3\n",
      "yuh3\n",
      "yuh3\n",
      "134.0\n",
      "[[nan]\n",
      " [nan]\n",
      " [nan]]\n",
      "261174658907.31714\n",
      "\n",
      "yuh3\n",
      "yuh3\n",
      "yuh3\n",
      "yuh3\n",
      "135.0\n",
      "[[nan]\n",
      " [nan]\n",
      " [nan]]\n",
      "261174658907.31714\n",
      "\n",
      "yuh3\n",
      "yuh3\n",
      "yuh3\n",
      "yuh3\n",
      "136.0\n",
      "[[nan]\n",
      " [nan]\n",
      " [nan]]\n",
      "261174658907.31714\n",
      "\n",
      "yuh3\n",
      "yuh3\n",
      "yuh3\n",
      "yuh3\n",
      "137.0\n",
      "[[nan]\n",
      " [nan]\n",
      " [nan]]\n",
      "261174658907.31714\n",
      "\n",
      "yuh3\n",
      "yuh3\n",
      "yuh3\n",
      "yuh3\n",
      "138.0\n",
      "[[nan]\n",
      " [nan]\n",
      " [nan]]\n",
      "261174658907.31714\n",
      "\n",
      "yuh3\n",
      "yuh3\n",
      "yuh3\n",
      "yuh3\n",
      "139.0\n",
      "[[nan]\n",
      " [nan]\n",
      " [nan]]\n",
      "261174658907.31714\n",
      "\n",
      "yuh3\n",
      "yuh3\n",
      "yuh3\n",
      "yuh3\n",
      "140.0\n",
      "[[nan]\n",
      " [nan]\n",
      " [nan]]\n",
      "261174658907.31714\n",
      "\n",
      "yuh3\n",
      "yuh3\n",
      "yuh3\n",
      "yuh3\n",
      "141.0\n",
      "[[nan]\n",
      " [nan]\n",
      " [nan]]\n",
      "261174658907.31714\n",
      "\n",
      "yuh3\n",
      "yuh3\n",
      "yuh3\n",
      "yuh3\n",
      "142.0\n",
      "[[nan]\n",
      " [nan]\n",
      " [nan]]\n",
      "261174658907.31714\n",
      "\n",
      "yuh3\n",
      "yuh3\n",
      "yuh3\n",
      "yuh3\n",
      "143.0\n",
      "[[nan]\n",
      " [nan]\n",
      " [nan]]\n",
      "261174658907.31714\n",
      "\n",
      "yuh3\n",
      "yuh3\n",
      "yuh3\n",
      "yuh3\n",
      "144.0\n",
      "[[nan]\n",
      " [nan]\n",
      " [nan]]\n",
      "261174658907.31714\n",
      "\n",
      "yuh3\n",
      "yuh3\n",
      "yuh3\n",
      "yuh3\n",
      "145.0\n",
      "[[nan]\n",
      " [nan]\n",
      " [nan]]\n",
      "261174658907.31714\n",
      "\n",
      "yuh3\n",
      "yuh3\n",
      "yuh3\n",
      "yuh3\n",
      "146.0\n",
      "[[nan]\n",
      " [nan]\n",
      " [nan]]\n",
      "261174658907.31714\n",
      "\n",
      "yuh3\n",
      "yuh3\n",
      "yuh3\n",
      "yuh3\n",
      "147.0\n",
      "[[nan]\n",
      " [nan]\n",
      " [nan]]\n",
      "261174658907.31714\n",
      "\n",
      "yuh3\n",
      "yuh3\n",
      "yuh3\n",
      "yuh3\n",
      "148.0\n",
      "[[nan]\n",
      " [nan]\n",
      " [nan]]\n",
      "261174658907.31714\n",
      "\n",
      "yuh3\n",
      "yuh3\n",
      "yuh3\n",
      "yuh3\n",
      "149.0\n",
      "[[nan]\n",
      " [nan]\n",
      " [nan]]\n",
      "261174658907.31714\n",
      "\n",
      "yuh3\n",
      "yuh3\n",
      "yuh3\n",
      "yuh3\n",
      "150.0\n",
      "[[nan]\n",
      " [nan]\n",
      " [nan]]\n",
      "261174658907.31714\n",
      "\n",
      "yuh3\n",
      "yuh3\n",
      "yuh3\n",
      "yuh3\n",
      "151.0\n",
      "[[nan]\n",
      " [nan]\n",
      " [nan]]\n",
      "261174658907.31714\n",
      "\n",
      "yuh3\n",
      "yuh3\n",
      "yuh3\n",
      "yuh3\n",
      "152.0\n",
      "[[nan]\n",
      " [nan]\n",
      " [nan]]\n",
      "261174658907.31714\n",
      "\n",
      "yuh3\n",
      "yuh3\n",
      "yuh3\n",
      "yuh3\n",
      "153.0\n",
      "[[nan]\n",
      " [nan]\n",
      " [nan]]\n",
      "261174658907.31714\n",
      "\n",
      "yuh3\n",
      "yuh3\n",
      "yuh3\n",
      "yuh3\n",
      "154.0\n",
      "[[nan]\n",
      " [nan]\n",
      " [nan]]\n",
      "261174658907.31714\n",
      "\n",
      "yuh3\n",
      "yuh3\n",
      "yuh3\n",
      "yuh3\n",
      "155.0\n",
      "[[nan]\n",
      " [nan]\n",
      " [nan]]\n",
      "261174658907.31714\n",
      "\n",
      "yuh3\n",
      "yuh3\n",
      "yuh3\n",
      "yuh3\n",
      "156.0\n",
      "[[nan]\n",
      " [nan]\n",
      " [nan]]\n",
      "261174658907.31714\n",
      "\n",
      "yuh3\n",
      "yuh3\n",
      "yuh3\n",
      "yuh3\n",
      "157.0\n",
      "[[nan]\n",
      " [nan]\n",
      " [nan]]\n",
      "261174658907.31714\n",
      "\n",
      "yuh3\n",
      "yuh3\n",
      "yuh3\n",
      "yuh3\n",
      "158.0\n",
      "[[nan]\n",
      " [nan]\n",
      " [nan]]\n",
      "261174658907.31714\n",
      "\n",
      "yuh3\n",
      "yuh3\n",
      "yuh3\n",
      "yuh3\n",
      "159.0\n",
      "[[nan]\n",
      " [nan]\n",
      " [nan]]\n",
      "261174658907.31714\n",
      "\n",
      "yuh3\n",
      "yuh3\n",
      "yuh3\n",
      "yuh3\n",
      "160.0\n",
      "[[nan]\n",
      " [nan]\n",
      " [nan]]\n",
      "261174658907.31714\n",
      "\n",
      "yuh3\n",
      "yuh3\n",
      "yuh3\n",
      "yuh3\n",
      "161.0\n",
      "[[nan]\n",
      " [nan]\n",
      " [nan]]\n",
      "261174658907.31714\n",
      "\n",
      "yuh3\n",
      "yuh3\n",
      "yuh3\n",
      "yuh3\n",
      "162.0\n",
      "[[nan]\n",
      " [nan]\n",
      " [nan]]\n",
      "261174658907.31714\n",
      "\n",
      "yuh3\n",
      "yuh3\n",
      "yuh3\n",
      "yuh3\n",
      "163.0\n",
      "[[nan]\n",
      " [nan]\n",
      " [nan]]\n",
      "261174658907.31714\n",
      "\n",
      "yuh3\n",
      "yuh3\n",
      "yuh3\n",
      "yuh3\n",
      "164.0\n",
      "[[nan]\n",
      " [nan]\n",
      " [nan]]\n",
      "261174658907.31714\n",
      "\n",
      "yuh3\n",
      "yuh3\n",
      "yuh3\n",
      "yuh3\n",
      "165.0\n",
      "[[nan]\n",
      " [nan]\n",
      " [nan]]\n",
      "261174658907.31714\n",
      "\n",
      "yuh3\n",
      "yuh3\n",
      "yuh3\n",
      "yuh3\n",
      "166.0\n",
      "[[nan]\n",
      " [nan]\n",
      " [nan]]\n",
      "261174658907.31714\n",
      "\n",
      "yuh3\n",
      "yuh3\n",
      "yuh3\n",
      "yuh3\n",
      "167.0\n",
      "[[nan]\n",
      " [nan]\n",
      " [nan]]\n",
      "261174658907.31714\n",
      "\n",
      "yuh3\n",
      "yuh3\n",
      "yuh3\n",
      "yuh3\n",
      "168.0\n",
      "[[nan]\n",
      " [nan]\n",
      " [nan]]\n",
      "261174658907.31714\n",
      "\n",
      "yuh3\n",
      "yuh3\n",
      "yuh3\n",
      "yuh3\n",
      "169.0\n",
      "[[nan]\n",
      " [nan]\n",
      " [nan]]\n",
      "261174658907.31714\n",
      "\n",
      "yuh3\n",
      "yuh3\n",
      "yuh3\n",
      "yuh3\n",
      "170.0\n",
      "[[nan]\n",
      " [nan]\n",
      " [nan]]\n",
      "261174658907.31714\n",
      "\n",
      "yuh3\n",
      "yuh3\n",
      "yuh3\n",
      "yuh3\n",
      "171.0\n",
      "[[nan]\n",
      " [nan]\n",
      " [nan]]\n",
      "261174658907.31714\n",
      "\n",
      "yuh3\n",
      "yuh3\n",
      "yuh3\n",
      "yuh3\n",
      "172.0\n",
      "[[nan]\n",
      " [nan]\n",
      " [nan]]\n",
      "261174658907.31714\n",
      "\n",
      "yuh3\n",
      "yuh3\n",
      "yuh3\n",
      "yuh3\n",
      "173.0\n",
      "[[nan]\n",
      " [nan]\n",
      " [nan]]\n",
      "261174658907.31714\n",
      "\n",
      "yuh3\n",
      "yuh3\n",
      "yuh3\n",
      "yuh3\n",
      "174.0\n",
      "[[nan]\n",
      " [nan]\n",
      " [nan]]\n",
      "261174658907.31714\n",
      "\n",
      "yuh3\n",
      "yuh3\n",
      "yuh3\n",
      "yuh3\n",
      "175.0\n",
      "[[nan]\n",
      " [nan]\n",
      " [nan]]\n",
      "261174658907.31714\n",
      "\n",
      "yuh3\n",
      "yuh3\n",
      "yuh3\n",
      "yuh3\n",
      "176.0\n",
      "[[nan]\n",
      " [nan]\n",
      " [nan]]\n",
      "261174658907.31714\n",
      "\n",
      "yuh3\n",
      "yuh3\n",
      "yuh3\n",
      "yuh3\n",
      "177.0\n",
      "[[nan]\n",
      " [nan]\n",
      " [nan]]\n",
      "261174658907.31714\n",
      "\n",
      "yuh3\n",
      "yuh3\n",
      "yuh3\n",
      "yuh3\n",
      "178.0\n",
      "[[nan]\n",
      " [nan]\n",
      " [nan]]\n",
      "261174658907.31714\n",
      "\n",
      "yuh3\n",
      "yuh3\n",
      "yuh3\n",
      "yuh3\n",
      "179.0\n",
      "[[nan]\n",
      " [nan]\n",
      " [nan]]\n",
      "261174658907.31714\n",
      "\n",
      "yuh3\n",
      "yuh3\n",
      "yuh3\n",
      "yuh3\n",
      "180.0\n",
      "[[nan]\n",
      " [nan]\n",
      " [nan]]\n",
      "261174658907.31714\n",
      "\n",
      "yuh3\n",
      "yuh3\n",
      "yuh3\n",
      "yuh3\n",
      "181.0\n",
      "[[nan]\n",
      " [nan]\n",
      " [nan]]\n",
      "261174658907.31714\n",
      "\n",
      "yuh3\n",
      "yuh3\n",
      "yuh3\n",
      "yuh3\n",
      "182.0\n",
      "[[nan]\n",
      " [nan]\n",
      " [nan]]\n",
      "261174658907.31714\n",
      "\n",
      "yuh3\n",
      "yuh3\n",
      "yuh3\n",
      "yuh3\n",
      "183.0\n",
      "[[nan]\n",
      " [nan]\n",
      " [nan]]\n",
      "261174658907.31714\n",
      "\n",
      "yuh3\n",
      "yuh3\n",
      "yuh3\n",
      "yuh3\n",
      "184.0\n",
      "[[nan]\n",
      " [nan]\n",
      " [nan]]\n",
      "261174658907.31714\n",
      "\n",
      "yuh3\n",
      "yuh3\n",
      "yuh3\n",
      "yuh3\n",
      "185.0\n",
      "[[nan]\n",
      " [nan]\n",
      " [nan]]\n",
      "261174658907.31714\n",
      "\n",
      "yuh3\n",
      "yuh3\n",
      "yuh3\n",
      "yuh3\n",
      "186.0\n",
      "[[nan]\n",
      " [nan]\n",
      " [nan]]\n",
      "261174658907.31714\n",
      "\n",
      "yuh3\n",
      "yuh3\n",
      "yuh3\n",
      "yuh3\n",
      "187.0\n",
      "[[nan]\n",
      " [nan]\n",
      " [nan]]\n",
      "261174658907.31714\n",
      "\n",
      "yuh3\n",
      "yuh3\n",
      "yuh3\n",
      "yuh3\n",
      "188.0\n",
      "[[nan]\n",
      " [nan]\n",
      " [nan]]\n",
      "261174658907.31714\n",
      "\n",
      "yuh3\n",
      "yuh3\n",
      "yuh3\n",
      "yuh3\n",
      "189.0\n",
      "[[nan]\n",
      " [nan]\n",
      " [nan]]\n",
      "261174658907.31714\n",
      "\n",
      "yuh3\n",
      "yuh3\n",
      "yuh3\n",
      "yuh3\n",
      "190.0\n",
      "[[nan]\n",
      " [nan]\n",
      " [nan]]\n",
      "261174658907.31714\n",
      "\n",
      "yuh3\n",
      "yuh3\n",
      "yuh3\n",
      "yuh3\n",
      "191.0\n",
      "[[nan]\n",
      " [nan]\n",
      " [nan]]\n",
      "261174658907.31714\n",
      "\n",
      "yuh3\n",
      "yuh3\n",
      "yuh3\n",
      "yuh3\n",
      "192.0\n",
      "[[nan]\n",
      " [nan]\n",
      " [nan]]\n",
      "261174658907.31714\n",
      "\n",
      "yuh3\n",
      "yuh3\n",
      "yuh3\n",
      "yuh3\n",
      "193.0\n",
      "[[nan]\n",
      " [nan]\n",
      " [nan]]\n",
      "261174658907.31714\n",
      "\n",
      "yuh3\n",
      "yuh3\n",
      "yuh3\n",
      "yuh3\n",
      "194.0\n",
      "[[nan]\n",
      " [nan]\n",
      " [nan]]\n",
      "261174658907.31714\n",
      "\n",
      "yuh3\n",
      "yuh3\n",
      "yuh3\n",
      "yuh3\n",
      "195.0\n",
      "[[nan]\n",
      " [nan]\n",
      " [nan]]\n",
      "261174658907.31714\n",
      "\n",
      "yuh3\n",
      "yuh3\n",
      "yuh3\n",
      "yuh3\n",
      "196.0\n",
      "[[nan]\n",
      " [nan]\n",
      " [nan]]\n",
      "261174658907.31714\n",
      "\n",
      "yuh3\n",
      "yuh3\n",
      "yuh3\n",
      "yuh3\n",
      "197.0\n",
      "[[nan]\n",
      " [nan]\n",
      " [nan]]\n",
      "261174658907.31714\n",
      "\n",
      "yuh3\n",
      "yuh3\n",
      "yuh3\n",
      "yuh3\n",
      "198.0\n",
      "[[nan]\n",
      " [nan]\n",
      " [nan]]\n",
      "261174658907.31714\n",
      "\n",
      "yuh3\n",
      "yuh3\n",
      "yuh3\n",
      "yuh3\n",
      "199.0\n",
      "[[nan]\n",
      " [nan]\n",
      " [nan]]\n",
      "261174658907.31714\n",
      "\n",
      "yuh3\n",
      "yuh3\n",
      "yuh3\n",
      "yuh3\n",
      "200.0\n",
      "[[nan]\n",
      " [nan]\n",
      " [nan]]\n",
      "261174658907.31714\n",
      "\n"
     ]
    },
    {
     "name": "stderr",
     "output_type": "stream",
     "text": [
      "/var/folders/qb/rwbr2swx5mj2yxj7djs76m4w0000gn/T/ipykernel_45260/2527656039.py:11: RuntimeWarning: divide by zero encountered in scalar divide\n",
      "  l = ((rw*x[2][0])/x[1][0])-1\n",
      "/var/folders/qb/rwbr2swx5mj2yxj7djs76m4w0000gn/T/ipykernel_45260/2527656039.py:17: RuntimeWarning: invalid value encountered in scalar divide\n",
      "  al = (2*(l/lpk))/(1+((l/lpk)**2))\n"
     ]
    }
   ],
   "source": [
    "#Performing the Runge-Kutta Method on Autonomous Vehicle Equations XD\n",
    "\n",
    "def f(x):\n",
    "    if(x[1][0]==0 and x[2][0]==0):\n",
    "        l=0\n",
    "        print(\"yuh\")\n",
    "    elif (x[1][0]<= rw*x[2][0]):\n",
    "        l = 1-(x[1][0]/(rw*x[2][0]))\n",
    "        print(\"yuh1\")\n",
    "    elif(x[1][0]>rw*x[2][0]):\n",
    "        l = ((rw*x[2][0])/x[1][0])-1\n",
    "        print(\"yuh2\")\n",
    "    else:\n",
    "        l=0\n",
    "        print(\"yuh3\")\n",
    "        \n",
    "    al = (2*(l/lpk))/(1+((l/lpk)**2))\n",
    "    \n",
    "    x1dot = x[1][0]\n",
    "    x2dot = A21*al -(A22)*(x[1][0]**2)\n",
    "    x3dot = (-A31*al)-(A32*(x[1][0]**2))+d3+B*Tcon\n",
    "    \n",
    "    return np.array([[x1dot],[x2dot],[x3dot]])\n",
    "\n",
    "\n",
    "\n",
    "\n",
    "x0= [[x1],[x2],[x3]]\n",
    "x_values= []\n",
    "y_values=[]\n",
    "z_values=[]\n",
    "Tcon_values=[]\n",
    "time= []\n",
    "x2Error = []\n",
    "x3kError = []\n",
    "x2MPH = []\n",
    "x3MPH = []\n",
    "\n",
    "for i in range(1,(tn+1)):\n",
    "    \n",
    "    \n",
    "    K1 = f(x0)\n",
    "    K2 = f(x0+np.dot((K1),(ts)*(0.5)))\n",
    "    K3 = f(x0 + np.dot((K2),(ts)*(0.5)))\n",
    "    K4 = f(x0+ np.dot(K3,ts))\n",
    "    xK = x0 + np.dot(np.array(K1) + np.array(np.dot(K2,2)) + np.array(np.dot(K3,2)) + np.array(K4), (ts)*(1/6))\n",
    "    x3_k1 = x0[2][0]\n",
    "    x3_k=xK[2][0]\n",
    "    if(xK[1][0]==0 and xK[2][0]==0):\n",
    "        l=0\n",
    "    elif (xK[1][0]<= rw*xK[2][0]):\n",
    "        l = 1-(xK[1][0]/(rw*xK[2][0]))\n",
    "    elif(xK[1][0]>rw*xK[2][0]):\n",
    "        l = ((rw*xK[2][0])/xK[1][0])-1\n",
    "    alOLD = al\n",
    "    al = (2*(l/lpk))/(1+((l/lpk)**2))\n",
    "\n",
    "    x2_k1= x0[1][0]\n",
    "    #Tcon = (1/B)*(((A31-A21)*al) + ((A32+A22)*(xK[1][0]**2)) +d3-((k3)*(xK[1][0]-x2cmd)) + ((1/(ts))*(x3_k-x3_k1)))\n",
    "\n",
    "    \n",
    "    y1=3600/5280*xK[1][0]\n",
    "    y2=(60/(2*math.pi))*xK[2][0]\n",
    "    x0=xK \n",
    "    if(controlTorque == 'Lyapunov Control Torque'):\n",
    "        Tcon = Tcon + (1/B)((A31*(al-alOLD) + A32 * ((x0[1][0]**2)-(x2_k1**2)) - k3*(x3_k-x3_k1) + (1/(k2(x3_k-x3_k1)))*(-k4*((x0[1][0]-x2cmd)**2)-k1*(x0[1][0]-x2cmd)*(A21*al-A22*(x0[1][0]**2)))))\n",
    "    else:\n",
    "        Tcon = (1.0/B)*(((A31-k4*A21)*al) + ((A32+k4*A22)*(x2**2)) +d3-((k3*k4)*(x2-x2cmd))-((k3)*(x3-x3cmd)))#for Sliding Mode Control Torque\n",
    "    \n",
    "    print(i*ts)\n",
    "    print(x0)\n",
    "    print(Tcon)\n",
    "    x_values.append(x0[0][0])\n",
    "    y_values.append(x0[1][0])\n",
    "    z_values.append(x0[2][0])\n",
    "    Tcon_values.append(Tcon)\n",
    "    x2Error.append(x2-x2cmd)\n",
    "    x3kError.append(x3_k-x3_k1)\n",
    "    time.append(i*ts)\n",
    "    x2MPH.append(y1)\n",
    "    x3MPH.append(y2)\n",
    "    \n",
    "\n",
    "    print()\n",
    "x_ValuesNum=np.array(x_values)\n",
    "y_ValuesNum=np.array(y_values)\n",
    "z_ValuesNum = np.array(z_values)\n",
    "Tcon_ValuesNum=np.array(Tcon_values)\n",
    "x2Error_ValuesNum = np.array(x2Error)\n",
    "x3kError_ValuesNum = np.array(x3kError)\n",
    "x2MPH_ValuesNum = np.array(x2MPH)\n",
    "x3MPH_ValuesNum = np.array(x3MPH)\n",
    "\n",
    "                \n",
    "\n"
   ]
  },
  {
   "cell_type": "code",
   "execution_count": 6,
   "id": "4a19f2d2",
   "metadata": {},
   "outputs": [],
   "source": [
    "def plot_xy_values(x_values, y_values,title):\n",
    "    # Create a scatter plot using Plotly\n",
    "    fig = px.line(x=x_values, y=y_values, title = title)\n",
    "\n",
    "    # Show the plot\n",
    "    fig.show()"
   ]
  },
  {
   "cell_type": "code",
   "execution_count": 7,
   "id": "85d8704b",
   "metadata": {},
   "outputs": [
    {
     "data": {
      "application/vnd.plotly.v1+json": {
       "config": {
        "plotlyServerURL": "https://plot.ly"
       },
       "data": [
        {
         "hovertemplate": "x=%{x}<br>y=%{y}<extra></extra>",
         "legendgroup": "",
         "line": {
          "color": "#636efa",
          "dash": "solid"
         },
         "marker": {
          "symbol": "circle"
         },
         "mode": "lines",
         "name": "",
         "orientation": "v",
         "showlegend": false,
         "type": "scatter",
         "x": [
          1,
          2,
          3,
          4,
          5,
          6,
          7,
          8,
          9,
          10,
          11,
          12,
          13,
          14,
          15,
          16,
          17,
          18,
          19,
          20,
          21,
          22,
          23,
          24,
          25,
          26,
          27,
          28,
          29,
          30,
          31,
          32,
          33,
          34,
          35,
          36,
          37,
          38,
          39,
          40,
          41,
          42,
          43,
          44,
          45,
          46,
          47,
          48,
          49,
          50,
          51,
          52,
          53,
          54,
          55,
          56,
          57,
          58,
          59,
          60,
          61,
          62,
          63,
          64,
          65,
          66,
          67,
          68,
          69,
          70,
          71,
          72,
          73,
          74,
          75,
          76,
          77,
          78,
          79,
          80,
          81,
          82,
          83,
          84,
          85,
          86,
          87,
          88,
          89,
          90,
          91,
          92,
          93,
          94,
          95,
          96,
          97,
          98,
          99,
          100,
          101,
          102,
          103,
          104,
          105,
          106,
          107,
          108,
          109,
          110,
          111,
          112,
          113,
          114,
          115,
          116,
          117,
          118,
          119,
          120,
          121,
          122,
          123,
          124,
          125,
          126,
          127,
          128,
          129,
          130,
          131,
          132,
          133,
          134,
          135,
          136,
          137,
          138,
          139,
          140,
          141,
          142,
          143,
          144,
          145,
          146,
          147,
          148,
          149,
          150,
          151,
          152,
          153,
          154,
          155,
          156,
          157,
          158,
          159,
          160,
          161,
          162,
          163,
          164,
          165,
          166,
          167,
          168,
          169,
          170,
          171,
          172,
          173,
          174,
          175,
          176,
          177,
          178,
          179,
          180,
          181,
          182,
          183,
          184,
          185,
          186,
          187,
          188,
          189,
          190,
          191,
          192,
          193,
          194,
          195,
          196,
          197,
          198,
          199,
          200
         ],
         "xaxis": "x",
         "y": [
          null,
          null,
          null,
          null,
          null,
          null,
          null,
          null,
          null,
          null,
          null,
          null,
          null,
          null,
          null,
          null,
          null,
          null,
          null,
          null,
          null,
          null,
          null,
          null,
          null,
          null,
          null,
          null,
          null,
          null,
          null,
          null,
          null,
          null,
          null,
          null,
          null,
          null,
          null,
          null,
          null,
          null,
          null,
          null,
          null,
          null,
          null,
          null,
          null,
          null,
          null,
          null,
          null,
          null,
          null,
          null,
          null,
          null,
          null,
          null,
          null,
          null,
          null,
          null,
          null,
          null,
          null,
          null,
          null,
          null,
          null,
          null,
          null,
          null,
          null,
          null,
          null,
          null,
          null,
          null,
          null,
          null,
          null,
          null,
          null,
          null,
          null,
          null,
          null,
          null,
          null,
          null,
          null,
          null,
          null,
          null,
          null,
          null,
          null,
          null,
          null,
          null,
          null,
          null,
          null,
          null,
          null,
          null,
          null,
          null,
          null,
          null,
          null,
          null,
          null,
          null,
          null,
          null,
          null,
          null,
          null,
          null,
          null,
          null,
          null,
          null,
          null,
          null,
          null,
          null,
          null,
          null,
          null,
          null,
          null,
          null,
          null,
          null,
          null,
          null,
          null,
          null,
          null,
          null,
          null,
          null,
          null,
          null,
          null,
          null,
          null,
          null,
          null,
          null,
          null,
          null,
          null,
          null,
          null,
          null,
          null,
          null,
          null,
          null,
          null,
          null,
          null,
          null,
          null,
          null,
          null,
          null,
          null,
          null,
          null,
          null,
          null,
          null,
          null,
          null,
          null,
          null,
          null,
          null,
          null,
          null,
          null,
          null,
          null,
          null,
          null,
          null,
          null,
          null,
          null,
          null,
          null,
          null,
          null,
          null
         ],
         "yaxis": "y"
        }
       ],
       "layout": {
        "legend": {
         "tracegroupgap": 0
        },
        "template": {
         "data": {
          "bar": [
           {
            "error_x": {
             "color": "#2a3f5f"
            },
            "error_y": {
             "color": "#2a3f5f"
            },
            "marker": {
             "line": {
              "color": "#E5ECF6",
              "width": 0.5
             },
             "pattern": {
              "fillmode": "overlay",
              "size": 10,
              "solidity": 0.2
             }
            },
            "type": "bar"
           }
          ],
          "barpolar": [
           {
            "marker": {
             "line": {
              "color": "#E5ECF6",
              "width": 0.5
             },
             "pattern": {
              "fillmode": "overlay",
              "size": 10,
              "solidity": 0.2
             }
            },
            "type": "barpolar"
           }
          ],
          "carpet": [
           {
            "aaxis": {
             "endlinecolor": "#2a3f5f",
             "gridcolor": "white",
             "linecolor": "white",
             "minorgridcolor": "white",
             "startlinecolor": "#2a3f5f"
            },
            "baxis": {
             "endlinecolor": "#2a3f5f",
             "gridcolor": "white",
             "linecolor": "white",
             "minorgridcolor": "white",
             "startlinecolor": "#2a3f5f"
            },
            "type": "carpet"
           }
          ],
          "choropleth": [
           {
            "colorbar": {
             "outlinewidth": 0,
             "ticks": ""
            },
            "type": "choropleth"
           }
          ],
          "contour": [
           {
            "colorbar": {
             "outlinewidth": 0,
             "ticks": ""
            },
            "colorscale": [
             [
              0,
              "#0d0887"
             ],
             [
              0.1111111111111111,
              "#46039f"
             ],
             [
              0.2222222222222222,
              "#7201a8"
             ],
             [
              0.3333333333333333,
              "#9c179e"
             ],
             [
              0.4444444444444444,
              "#bd3786"
             ],
             [
              0.5555555555555556,
              "#d8576b"
             ],
             [
              0.6666666666666666,
              "#ed7953"
             ],
             [
              0.7777777777777778,
              "#fb9f3a"
             ],
             [
              0.8888888888888888,
              "#fdca26"
             ],
             [
              1,
              "#f0f921"
             ]
            ],
            "type": "contour"
           }
          ],
          "contourcarpet": [
           {
            "colorbar": {
             "outlinewidth": 0,
             "ticks": ""
            },
            "type": "contourcarpet"
           }
          ],
          "heatmap": [
           {
            "colorbar": {
             "outlinewidth": 0,
             "ticks": ""
            },
            "colorscale": [
             [
              0,
              "#0d0887"
             ],
             [
              0.1111111111111111,
              "#46039f"
             ],
             [
              0.2222222222222222,
              "#7201a8"
             ],
             [
              0.3333333333333333,
              "#9c179e"
             ],
             [
              0.4444444444444444,
              "#bd3786"
             ],
             [
              0.5555555555555556,
              "#d8576b"
             ],
             [
              0.6666666666666666,
              "#ed7953"
             ],
             [
              0.7777777777777778,
              "#fb9f3a"
             ],
             [
              0.8888888888888888,
              "#fdca26"
             ],
             [
              1,
              "#f0f921"
             ]
            ],
            "type": "heatmap"
           }
          ],
          "heatmapgl": [
           {
            "colorbar": {
             "outlinewidth": 0,
             "ticks": ""
            },
            "colorscale": [
             [
              0,
              "#0d0887"
             ],
             [
              0.1111111111111111,
              "#46039f"
             ],
             [
              0.2222222222222222,
              "#7201a8"
             ],
             [
              0.3333333333333333,
              "#9c179e"
             ],
             [
              0.4444444444444444,
              "#bd3786"
             ],
             [
              0.5555555555555556,
              "#d8576b"
             ],
             [
              0.6666666666666666,
              "#ed7953"
             ],
             [
              0.7777777777777778,
              "#fb9f3a"
             ],
             [
              0.8888888888888888,
              "#fdca26"
             ],
             [
              1,
              "#f0f921"
             ]
            ],
            "type": "heatmapgl"
           }
          ],
          "histogram": [
           {
            "marker": {
             "pattern": {
              "fillmode": "overlay",
              "size": 10,
              "solidity": 0.2
             }
            },
            "type": "histogram"
           }
          ],
          "histogram2d": [
           {
            "colorbar": {
             "outlinewidth": 0,
             "ticks": ""
            },
            "colorscale": [
             [
              0,
              "#0d0887"
             ],
             [
              0.1111111111111111,
              "#46039f"
             ],
             [
              0.2222222222222222,
              "#7201a8"
             ],
             [
              0.3333333333333333,
              "#9c179e"
             ],
             [
              0.4444444444444444,
              "#bd3786"
             ],
             [
              0.5555555555555556,
              "#d8576b"
             ],
             [
              0.6666666666666666,
              "#ed7953"
             ],
             [
              0.7777777777777778,
              "#fb9f3a"
             ],
             [
              0.8888888888888888,
              "#fdca26"
             ],
             [
              1,
              "#f0f921"
             ]
            ],
            "type": "histogram2d"
           }
          ],
          "histogram2dcontour": [
           {
            "colorbar": {
             "outlinewidth": 0,
             "ticks": ""
            },
            "colorscale": [
             [
              0,
              "#0d0887"
             ],
             [
              0.1111111111111111,
              "#46039f"
             ],
             [
              0.2222222222222222,
              "#7201a8"
             ],
             [
              0.3333333333333333,
              "#9c179e"
             ],
             [
              0.4444444444444444,
              "#bd3786"
             ],
             [
              0.5555555555555556,
              "#d8576b"
             ],
             [
              0.6666666666666666,
              "#ed7953"
             ],
             [
              0.7777777777777778,
              "#fb9f3a"
             ],
             [
              0.8888888888888888,
              "#fdca26"
             ],
             [
              1,
              "#f0f921"
             ]
            ],
            "type": "histogram2dcontour"
           }
          ],
          "mesh3d": [
           {
            "colorbar": {
             "outlinewidth": 0,
             "ticks": ""
            },
            "type": "mesh3d"
           }
          ],
          "parcoords": [
           {
            "line": {
             "colorbar": {
              "outlinewidth": 0,
              "ticks": ""
             }
            },
            "type": "parcoords"
           }
          ],
          "pie": [
           {
            "automargin": true,
            "type": "pie"
           }
          ],
          "scatter": [
           {
            "fillpattern": {
             "fillmode": "overlay",
             "size": 10,
             "solidity": 0.2
            },
            "type": "scatter"
           }
          ],
          "scatter3d": [
           {
            "line": {
             "colorbar": {
              "outlinewidth": 0,
              "ticks": ""
             }
            },
            "marker": {
             "colorbar": {
              "outlinewidth": 0,
              "ticks": ""
             }
            },
            "type": "scatter3d"
           }
          ],
          "scattercarpet": [
           {
            "marker": {
             "colorbar": {
              "outlinewidth": 0,
              "ticks": ""
             }
            },
            "type": "scattercarpet"
           }
          ],
          "scattergeo": [
           {
            "marker": {
             "colorbar": {
              "outlinewidth": 0,
              "ticks": ""
             }
            },
            "type": "scattergeo"
           }
          ],
          "scattergl": [
           {
            "marker": {
             "colorbar": {
              "outlinewidth": 0,
              "ticks": ""
             }
            },
            "type": "scattergl"
           }
          ],
          "scattermapbox": [
           {
            "marker": {
             "colorbar": {
              "outlinewidth": 0,
              "ticks": ""
             }
            },
            "type": "scattermapbox"
           }
          ],
          "scatterpolar": [
           {
            "marker": {
             "colorbar": {
              "outlinewidth": 0,
              "ticks": ""
             }
            },
            "type": "scatterpolar"
           }
          ],
          "scatterpolargl": [
           {
            "marker": {
             "colorbar": {
              "outlinewidth": 0,
              "ticks": ""
             }
            },
            "type": "scatterpolargl"
           }
          ],
          "scatterternary": [
           {
            "marker": {
             "colorbar": {
              "outlinewidth": 0,
              "ticks": ""
             }
            },
            "type": "scatterternary"
           }
          ],
          "surface": [
           {
            "colorbar": {
             "outlinewidth": 0,
             "ticks": ""
            },
            "colorscale": [
             [
              0,
              "#0d0887"
             ],
             [
              0.1111111111111111,
              "#46039f"
             ],
             [
              0.2222222222222222,
              "#7201a8"
             ],
             [
              0.3333333333333333,
              "#9c179e"
             ],
             [
              0.4444444444444444,
              "#bd3786"
             ],
             [
              0.5555555555555556,
              "#d8576b"
             ],
             [
              0.6666666666666666,
              "#ed7953"
             ],
             [
              0.7777777777777778,
              "#fb9f3a"
             ],
             [
              0.8888888888888888,
              "#fdca26"
             ],
             [
              1,
              "#f0f921"
             ]
            ],
            "type": "surface"
           }
          ],
          "table": [
           {
            "cells": {
             "fill": {
              "color": "#EBF0F8"
             },
             "line": {
              "color": "white"
             }
            },
            "header": {
             "fill": {
              "color": "#C8D4E3"
             },
             "line": {
              "color": "white"
             }
            },
            "type": "table"
           }
          ]
         },
         "layout": {
          "annotationdefaults": {
           "arrowcolor": "#2a3f5f",
           "arrowhead": 0,
           "arrowwidth": 1
          },
          "autotypenumbers": "strict",
          "coloraxis": {
           "colorbar": {
            "outlinewidth": 0,
            "ticks": ""
           }
          },
          "colorscale": {
           "diverging": [
            [
             0,
             "#8e0152"
            ],
            [
             0.1,
             "#c51b7d"
            ],
            [
             0.2,
             "#de77ae"
            ],
            [
             0.3,
             "#f1b6da"
            ],
            [
             0.4,
             "#fde0ef"
            ],
            [
             0.5,
             "#f7f7f7"
            ],
            [
             0.6,
             "#e6f5d0"
            ],
            [
             0.7,
             "#b8e186"
            ],
            [
             0.8,
             "#7fbc41"
            ],
            [
             0.9,
             "#4d9221"
            ],
            [
             1,
             "#276419"
            ]
           ],
           "sequential": [
            [
             0,
             "#0d0887"
            ],
            [
             0.1111111111111111,
             "#46039f"
            ],
            [
             0.2222222222222222,
             "#7201a8"
            ],
            [
             0.3333333333333333,
             "#9c179e"
            ],
            [
             0.4444444444444444,
             "#bd3786"
            ],
            [
             0.5555555555555556,
             "#d8576b"
            ],
            [
             0.6666666666666666,
             "#ed7953"
            ],
            [
             0.7777777777777778,
             "#fb9f3a"
            ],
            [
             0.8888888888888888,
             "#fdca26"
            ],
            [
             1,
             "#f0f921"
            ]
           ],
           "sequentialminus": [
            [
             0,
             "#0d0887"
            ],
            [
             0.1111111111111111,
             "#46039f"
            ],
            [
             0.2222222222222222,
             "#7201a8"
            ],
            [
             0.3333333333333333,
             "#9c179e"
            ],
            [
             0.4444444444444444,
             "#bd3786"
            ],
            [
             0.5555555555555556,
             "#d8576b"
            ],
            [
             0.6666666666666666,
             "#ed7953"
            ],
            [
             0.7777777777777778,
             "#fb9f3a"
            ],
            [
             0.8888888888888888,
             "#fdca26"
            ],
            [
             1,
             "#f0f921"
            ]
           ]
          },
          "colorway": [
           "#636efa",
           "#EF553B",
           "#00cc96",
           "#ab63fa",
           "#FFA15A",
           "#19d3f3",
           "#FF6692",
           "#B6E880",
           "#FF97FF",
           "#FECB52"
          ],
          "font": {
           "color": "#2a3f5f"
          },
          "geo": {
           "bgcolor": "white",
           "lakecolor": "white",
           "landcolor": "#E5ECF6",
           "showlakes": true,
           "showland": true,
           "subunitcolor": "white"
          },
          "hoverlabel": {
           "align": "left"
          },
          "hovermode": "closest",
          "mapbox": {
           "style": "light"
          },
          "paper_bgcolor": "white",
          "plot_bgcolor": "#E5ECF6",
          "polar": {
           "angularaxis": {
            "gridcolor": "white",
            "linecolor": "white",
            "ticks": ""
           },
           "bgcolor": "#E5ECF6",
           "radialaxis": {
            "gridcolor": "white",
            "linecolor": "white",
            "ticks": ""
           }
          },
          "scene": {
           "xaxis": {
            "backgroundcolor": "#E5ECF6",
            "gridcolor": "white",
            "gridwidth": 2,
            "linecolor": "white",
            "showbackground": true,
            "ticks": "",
            "zerolinecolor": "white"
           },
           "yaxis": {
            "backgroundcolor": "#E5ECF6",
            "gridcolor": "white",
            "gridwidth": 2,
            "linecolor": "white",
            "showbackground": true,
            "ticks": "",
            "zerolinecolor": "white"
           },
           "zaxis": {
            "backgroundcolor": "#E5ECF6",
            "gridcolor": "white",
            "gridwidth": 2,
            "linecolor": "white",
            "showbackground": true,
            "ticks": "",
            "zerolinecolor": "white"
           }
          },
          "shapedefaults": {
           "line": {
            "color": "#2a3f5f"
           }
          },
          "ternary": {
           "aaxis": {
            "gridcolor": "white",
            "linecolor": "white",
            "ticks": ""
           },
           "baxis": {
            "gridcolor": "white",
            "linecolor": "white",
            "ticks": ""
           },
           "bgcolor": "#E5ECF6",
           "caxis": {
            "gridcolor": "white",
            "linecolor": "white",
            "ticks": ""
           }
          },
          "title": {
           "x": 0.05
          },
          "xaxis": {
           "automargin": true,
           "gridcolor": "white",
           "linecolor": "white",
           "ticks": "",
           "title": {
            "standoff": 15
           },
           "zerolinecolor": "white",
           "zerolinewidth": 2
          },
          "yaxis": {
           "automargin": true,
           "gridcolor": "white",
           "linecolor": "white",
           "ticks": "",
           "title": {
            "standoff": 15
           },
           "zerolinecolor": "white",
           "zerolinewidth": 2
          }
         }
        },
        "title": {
         "text": "Position (ft)v Time Graph"
        },
        "xaxis": {
         "anchor": "y",
         "domain": [
          0,
          1
         ],
         "title": {
          "text": "x"
         }
        },
        "yaxis": {
         "anchor": "x",
         "domain": [
          0,
          1
         ],
         "title": {
          "text": "y"
         }
        }
       }
      }
     },
     "metadata": {},
     "output_type": "display_data"
    },
    {
     "data": {
      "application/vnd.plotly.v1+json": {
       "config": {
        "plotlyServerURL": "https://plot.ly"
       },
       "data": [
        {
         "hovertemplate": "x=%{x}<br>y=%{y}<extra></extra>",
         "legendgroup": "",
         "line": {
          "color": "#636efa",
          "dash": "solid"
         },
         "marker": {
          "symbol": "circle"
         },
         "mode": "lines",
         "name": "",
         "orientation": "v",
         "showlegend": false,
         "type": "scatter",
         "x": [
          1,
          2,
          3,
          4,
          5,
          6,
          7,
          8,
          9,
          10,
          11,
          12,
          13,
          14,
          15,
          16,
          17,
          18,
          19,
          20,
          21,
          22,
          23,
          24,
          25,
          26,
          27,
          28,
          29,
          30,
          31,
          32,
          33,
          34,
          35,
          36,
          37,
          38,
          39,
          40,
          41,
          42,
          43,
          44,
          45,
          46,
          47,
          48,
          49,
          50,
          51,
          52,
          53,
          54,
          55,
          56,
          57,
          58,
          59,
          60,
          61,
          62,
          63,
          64,
          65,
          66,
          67,
          68,
          69,
          70,
          71,
          72,
          73,
          74,
          75,
          76,
          77,
          78,
          79,
          80,
          81,
          82,
          83,
          84,
          85,
          86,
          87,
          88,
          89,
          90,
          91,
          92,
          93,
          94,
          95,
          96,
          97,
          98,
          99,
          100,
          101,
          102,
          103,
          104,
          105,
          106,
          107,
          108,
          109,
          110,
          111,
          112,
          113,
          114,
          115,
          116,
          117,
          118,
          119,
          120,
          121,
          122,
          123,
          124,
          125,
          126,
          127,
          128,
          129,
          130,
          131,
          132,
          133,
          134,
          135,
          136,
          137,
          138,
          139,
          140,
          141,
          142,
          143,
          144,
          145,
          146,
          147,
          148,
          149,
          150,
          151,
          152,
          153,
          154,
          155,
          156,
          157,
          158,
          159,
          160,
          161,
          162,
          163,
          164,
          165,
          166,
          167,
          168,
          169,
          170,
          171,
          172,
          173,
          174,
          175,
          176,
          177,
          178,
          179,
          180,
          181,
          182,
          183,
          184,
          185,
          186,
          187,
          188,
          189,
          190,
          191,
          192,
          193,
          194,
          195,
          196,
          197,
          198,
          199,
          200
         ],
         "xaxis": "x",
         "y": [
          null,
          null,
          null,
          null,
          null,
          null,
          null,
          null,
          null,
          null,
          null,
          null,
          null,
          null,
          null,
          null,
          null,
          null,
          null,
          null,
          null,
          null,
          null,
          null,
          null,
          null,
          null,
          null,
          null,
          null,
          null,
          null,
          null,
          null,
          null,
          null,
          null,
          null,
          null,
          null,
          null,
          null,
          null,
          null,
          null,
          null,
          null,
          null,
          null,
          null,
          null,
          null,
          null,
          null,
          null,
          null,
          null,
          null,
          null,
          null,
          null,
          null,
          null,
          null,
          null,
          null,
          null,
          null,
          null,
          null,
          null,
          null,
          null,
          null,
          null,
          null,
          null,
          null,
          null,
          null,
          null,
          null,
          null,
          null,
          null,
          null,
          null,
          null,
          null,
          null,
          null,
          null,
          null,
          null,
          null,
          null,
          null,
          null,
          null,
          null,
          null,
          null,
          null,
          null,
          null,
          null,
          null,
          null,
          null,
          null,
          null,
          null,
          null,
          null,
          null,
          null,
          null,
          null,
          null,
          null,
          null,
          null,
          null,
          null,
          null,
          null,
          null,
          null,
          null,
          null,
          null,
          null,
          null,
          null,
          null,
          null,
          null,
          null,
          null,
          null,
          null,
          null,
          null,
          null,
          null,
          null,
          null,
          null,
          null,
          null,
          null,
          null,
          null,
          null,
          null,
          null,
          null,
          null,
          null,
          null,
          null,
          null,
          null,
          null,
          null,
          null,
          null,
          null,
          null,
          null,
          null,
          null,
          null,
          null,
          null,
          null,
          null,
          null,
          null,
          null,
          null,
          null,
          null,
          null,
          null,
          null,
          null,
          null,
          null,
          null,
          null,
          null,
          null,
          null,
          null,
          null,
          null,
          null,
          null,
          null
         ],
         "yaxis": "y"
        }
       ],
       "layout": {
        "legend": {
         "tracegroupgap": 0
        },
        "template": {
         "data": {
          "bar": [
           {
            "error_x": {
             "color": "#2a3f5f"
            },
            "error_y": {
             "color": "#2a3f5f"
            },
            "marker": {
             "line": {
              "color": "#E5ECF6",
              "width": 0.5
             },
             "pattern": {
              "fillmode": "overlay",
              "size": 10,
              "solidity": 0.2
             }
            },
            "type": "bar"
           }
          ],
          "barpolar": [
           {
            "marker": {
             "line": {
              "color": "#E5ECF6",
              "width": 0.5
             },
             "pattern": {
              "fillmode": "overlay",
              "size": 10,
              "solidity": 0.2
             }
            },
            "type": "barpolar"
           }
          ],
          "carpet": [
           {
            "aaxis": {
             "endlinecolor": "#2a3f5f",
             "gridcolor": "white",
             "linecolor": "white",
             "minorgridcolor": "white",
             "startlinecolor": "#2a3f5f"
            },
            "baxis": {
             "endlinecolor": "#2a3f5f",
             "gridcolor": "white",
             "linecolor": "white",
             "minorgridcolor": "white",
             "startlinecolor": "#2a3f5f"
            },
            "type": "carpet"
           }
          ],
          "choropleth": [
           {
            "colorbar": {
             "outlinewidth": 0,
             "ticks": ""
            },
            "type": "choropleth"
           }
          ],
          "contour": [
           {
            "colorbar": {
             "outlinewidth": 0,
             "ticks": ""
            },
            "colorscale": [
             [
              0,
              "#0d0887"
             ],
             [
              0.1111111111111111,
              "#46039f"
             ],
             [
              0.2222222222222222,
              "#7201a8"
             ],
             [
              0.3333333333333333,
              "#9c179e"
             ],
             [
              0.4444444444444444,
              "#bd3786"
             ],
             [
              0.5555555555555556,
              "#d8576b"
             ],
             [
              0.6666666666666666,
              "#ed7953"
             ],
             [
              0.7777777777777778,
              "#fb9f3a"
             ],
             [
              0.8888888888888888,
              "#fdca26"
             ],
             [
              1,
              "#f0f921"
             ]
            ],
            "type": "contour"
           }
          ],
          "contourcarpet": [
           {
            "colorbar": {
             "outlinewidth": 0,
             "ticks": ""
            },
            "type": "contourcarpet"
           }
          ],
          "heatmap": [
           {
            "colorbar": {
             "outlinewidth": 0,
             "ticks": ""
            },
            "colorscale": [
             [
              0,
              "#0d0887"
             ],
             [
              0.1111111111111111,
              "#46039f"
             ],
             [
              0.2222222222222222,
              "#7201a8"
             ],
             [
              0.3333333333333333,
              "#9c179e"
             ],
             [
              0.4444444444444444,
              "#bd3786"
             ],
             [
              0.5555555555555556,
              "#d8576b"
             ],
             [
              0.6666666666666666,
              "#ed7953"
             ],
             [
              0.7777777777777778,
              "#fb9f3a"
             ],
             [
              0.8888888888888888,
              "#fdca26"
             ],
             [
              1,
              "#f0f921"
             ]
            ],
            "type": "heatmap"
           }
          ],
          "heatmapgl": [
           {
            "colorbar": {
             "outlinewidth": 0,
             "ticks": ""
            },
            "colorscale": [
             [
              0,
              "#0d0887"
             ],
             [
              0.1111111111111111,
              "#46039f"
             ],
             [
              0.2222222222222222,
              "#7201a8"
             ],
             [
              0.3333333333333333,
              "#9c179e"
             ],
             [
              0.4444444444444444,
              "#bd3786"
             ],
             [
              0.5555555555555556,
              "#d8576b"
             ],
             [
              0.6666666666666666,
              "#ed7953"
             ],
             [
              0.7777777777777778,
              "#fb9f3a"
             ],
             [
              0.8888888888888888,
              "#fdca26"
             ],
             [
              1,
              "#f0f921"
             ]
            ],
            "type": "heatmapgl"
           }
          ],
          "histogram": [
           {
            "marker": {
             "pattern": {
              "fillmode": "overlay",
              "size": 10,
              "solidity": 0.2
             }
            },
            "type": "histogram"
           }
          ],
          "histogram2d": [
           {
            "colorbar": {
             "outlinewidth": 0,
             "ticks": ""
            },
            "colorscale": [
             [
              0,
              "#0d0887"
             ],
             [
              0.1111111111111111,
              "#46039f"
             ],
             [
              0.2222222222222222,
              "#7201a8"
             ],
             [
              0.3333333333333333,
              "#9c179e"
             ],
             [
              0.4444444444444444,
              "#bd3786"
             ],
             [
              0.5555555555555556,
              "#d8576b"
             ],
             [
              0.6666666666666666,
              "#ed7953"
             ],
             [
              0.7777777777777778,
              "#fb9f3a"
             ],
             [
              0.8888888888888888,
              "#fdca26"
             ],
             [
              1,
              "#f0f921"
             ]
            ],
            "type": "histogram2d"
           }
          ],
          "histogram2dcontour": [
           {
            "colorbar": {
             "outlinewidth": 0,
             "ticks": ""
            },
            "colorscale": [
             [
              0,
              "#0d0887"
             ],
             [
              0.1111111111111111,
              "#46039f"
             ],
             [
              0.2222222222222222,
              "#7201a8"
             ],
             [
              0.3333333333333333,
              "#9c179e"
             ],
             [
              0.4444444444444444,
              "#bd3786"
             ],
             [
              0.5555555555555556,
              "#d8576b"
             ],
             [
              0.6666666666666666,
              "#ed7953"
             ],
             [
              0.7777777777777778,
              "#fb9f3a"
             ],
             [
              0.8888888888888888,
              "#fdca26"
             ],
             [
              1,
              "#f0f921"
             ]
            ],
            "type": "histogram2dcontour"
           }
          ],
          "mesh3d": [
           {
            "colorbar": {
             "outlinewidth": 0,
             "ticks": ""
            },
            "type": "mesh3d"
           }
          ],
          "parcoords": [
           {
            "line": {
             "colorbar": {
              "outlinewidth": 0,
              "ticks": ""
             }
            },
            "type": "parcoords"
           }
          ],
          "pie": [
           {
            "automargin": true,
            "type": "pie"
           }
          ],
          "scatter": [
           {
            "fillpattern": {
             "fillmode": "overlay",
             "size": 10,
             "solidity": 0.2
            },
            "type": "scatter"
           }
          ],
          "scatter3d": [
           {
            "line": {
             "colorbar": {
              "outlinewidth": 0,
              "ticks": ""
             }
            },
            "marker": {
             "colorbar": {
              "outlinewidth": 0,
              "ticks": ""
             }
            },
            "type": "scatter3d"
           }
          ],
          "scattercarpet": [
           {
            "marker": {
             "colorbar": {
              "outlinewidth": 0,
              "ticks": ""
             }
            },
            "type": "scattercarpet"
           }
          ],
          "scattergeo": [
           {
            "marker": {
             "colorbar": {
              "outlinewidth": 0,
              "ticks": ""
             }
            },
            "type": "scattergeo"
           }
          ],
          "scattergl": [
           {
            "marker": {
             "colorbar": {
              "outlinewidth": 0,
              "ticks": ""
             }
            },
            "type": "scattergl"
           }
          ],
          "scattermapbox": [
           {
            "marker": {
             "colorbar": {
              "outlinewidth": 0,
              "ticks": ""
             }
            },
            "type": "scattermapbox"
           }
          ],
          "scatterpolar": [
           {
            "marker": {
             "colorbar": {
              "outlinewidth": 0,
              "ticks": ""
             }
            },
            "type": "scatterpolar"
           }
          ],
          "scatterpolargl": [
           {
            "marker": {
             "colorbar": {
              "outlinewidth": 0,
              "ticks": ""
             }
            },
            "type": "scatterpolargl"
           }
          ],
          "scatterternary": [
           {
            "marker": {
             "colorbar": {
              "outlinewidth": 0,
              "ticks": ""
             }
            },
            "type": "scatterternary"
           }
          ],
          "surface": [
           {
            "colorbar": {
             "outlinewidth": 0,
             "ticks": ""
            },
            "colorscale": [
             [
              0,
              "#0d0887"
             ],
             [
              0.1111111111111111,
              "#46039f"
             ],
             [
              0.2222222222222222,
              "#7201a8"
             ],
             [
              0.3333333333333333,
              "#9c179e"
             ],
             [
              0.4444444444444444,
              "#bd3786"
             ],
             [
              0.5555555555555556,
              "#d8576b"
             ],
             [
              0.6666666666666666,
              "#ed7953"
             ],
             [
              0.7777777777777778,
              "#fb9f3a"
             ],
             [
              0.8888888888888888,
              "#fdca26"
             ],
             [
              1,
              "#f0f921"
             ]
            ],
            "type": "surface"
           }
          ],
          "table": [
           {
            "cells": {
             "fill": {
              "color": "#EBF0F8"
             },
             "line": {
              "color": "white"
             }
            },
            "header": {
             "fill": {
              "color": "#C8D4E3"
             },
             "line": {
              "color": "white"
             }
            },
            "type": "table"
           }
          ]
         },
         "layout": {
          "annotationdefaults": {
           "arrowcolor": "#2a3f5f",
           "arrowhead": 0,
           "arrowwidth": 1
          },
          "autotypenumbers": "strict",
          "coloraxis": {
           "colorbar": {
            "outlinewidth": 0,
            "ticks": ""
           }
          },
          "colorscale": {
           "diverging": [
            [
             0,
             "#8e0152"
            ],
            [
             0.1,
             "#c51b7d"
            ],
            [
             0.2,
             "#de77ae"
            ],
            [
             0.3,
             "#f1b6da"
            ],
            [
             0.4,
             "#fde0ef"
            ],
            [
             0.5,
             "#f7f7f7"
            ],
            [
             0.6,
             "#e6f5d0"
            ],
            [
             0.7,
             "#b8e186"
            ],
            [
             0.8,
             "#7fbc41"
            ],
            [
             0.9,
             "#4d9221"
            ],
            [
             1,
             "#276419"
            ]
           ],
           "sequential": [
            [
             0,
             "#0d0887"
            ],
            [
             0.1111111111111111,
             "#46039f"
            ],
            [
             0.2222222222222222,
             "#7201a8"
            ],
            [
             0.3333333333333333,
             "#9c179e"
            ],
            [
             0.4444444444444444,
             "#bd3786"
            ],
            [
             0.5555555555555556,
             "#d8576b"
            ],
            [
             0.6666666666666666,
             "#ed7953"
            ],
            [
             0.7777777777777778,
             "#fb9f3a"
            ],
            [
             0.8888888888888888,
             "#fdca26"
            ],
            [
             1,
             "#f0f921"
            ]
           ],
           "sequentialminus": [
            [
             0,
             "#0d0887"
            ],
            [
             0.1111111111111111,
             "#46039f"
            ],
            [
             0.2222222222222222,
             "#7201a8"
            ],
            [
             0.3333333333333333,
             "#9c179e"
            ],
            [
             0.4444444444444444,
             "#bd3786"
            ],
            [
             0.5555555555555556,
             "#d8576b"
            ],
            [
             0.6666666666666666,
             "#ed7953"
            ],
            [
             0.7777777777777778,
             "#fb9f3a"
            ],
            [
             0.8888888888888888,
             "#fdca26"
            ],
            [
             1,
             "#f0f921"
            ]
           ]
          },
          "colorway": [
           "#636efa",
           "#EF553B",
           "#00cc96",
           "#ab63fa",
           "#FFA15A",
           "#19d3f3",
           "#FF6692",
           "#B6E880",
           "#FF97FF",
           "#FECB52"
          ],
          "font": {
           "color": "#2a3f5f"
          },
          "geo": {
           "bgcolor": "white",
           "lakecolor": "white",
           "landcolor": "#E5ECF6",
           "showlakes": true,
           "showland": true,
           "subunitcolor": "white"
          },
          "hoverlabel": {
           "align": "left"
          },
          "hovermode": "closest",
          "mapbox": {
           "style": "light"
          },
          "paper_bgcolor": "white",
          "plot_bgcolor": "#E5ECF6",
          "polar": {
           "angularaxis": {
            "gridcolor": "white",
            "linecolor": "white",
            "ticks": ""
           },
           "bgcolor": "#E5ECF6",
           "radialaxis": {
            "gridcolor": "white",
            "linecolor": "white",
            "ticks": ""
           }
          },
          "scene": {
           "xaxis": {
            "backgroundcolor": "#E5ECF6",
            "gridcolor": "white",
            "gridwidth": 2,
            "linecolor": "white",
            "showbackground": true,
            "ticks": "",
            "zerolinecolor": "white"
           },
           "yaxis": {
            "backgroundcolor": "#E5ECF6",
            "gridcolor": "white",
            "gridwidth": 2,
            "linecolor": "white",
            "showbackground": true,
            "ticks": "",
            "zerolinecolor": "white"
           },
           "zaxis": {
            "backgroundcolor": "#E5ECF6",
            "gridcolor": "white",
            "gridwidth": 2,
            "linecolor": "white",
            "showbackground": true,
            "ticks": "",
            "zerolinecolor": "white"
           }
          },
          "shapedefaults": {
           "line": {
            "color": "#2a3f5f"
           }
          },
          "ternary": {
           "aaxis": {
            "gridcolor": "white",
            "linecolor": "white",
            "ticks": ""
           },
           "baxis": {
            "gridcolor": "white",
            "linecolor": "white",
            "ticks": ""
           },
           "bgcolor": "#E5ECF6",
           "caxis": {
            "gridcolor": "white",
            "linecolor": "white",
            "ticks": ""
           }
          },
          "title": {
           "x": 0.05
          },
          "xaxis": {
           "automargin": true,
           "gridcolor": "white",
           "linecolor": "white",
           "ticks": "",
           "title": {
            "standoff": 15
           },
           "zerolinecolor": "white",
           "zerolinewidth": 2
          },
          "yaxis": {
           "automargin": true,
           "gridcolor": "white",
           "linecolor": "white",
           "ticks": "",
           "title": {
            "standoff": 15
           },
           "zerolinecolor": "white",
           "zerolinewidth": 2
          }
         }
        },
        "title": {
         "text": "Velocity (ft/s) v Time Graph"
        },
        "xaxis": {
         "anchor": "y",
         "domain": [
          0,
          1
         ],
         "title": {
          "text": "x"
         }
        },
        "yaxis": {
         "anchor": "x",
         "domain": [
          0,
          1
         ],
         "title": {
          "text": "y"
         }
        }
       }
      }
     },
     "metadata": {},
     "output_type": "display_data"
    },
    {
     "data": {
      "application/vnd.plotly.v1+json": {
       "config": {
        "plotlyServerURL": "https://plot.ly"
       },
       "data": [
        {
         "hovertemplate": "x=%{x}<br>y=%{y}<extra></extra>",
         "legendgroup": "",
         "line": {
          "color": "#636efa",
          "dash": "solid"
         },
         "marker": {
          "symbol": "circle"
         },
         "mode": "lines",
         "name": "",
         "orientation": "v",
         "showlegend": false,
         "type": "scatter",
         "x": [
          1,
          2,
          3,
          4,
          5,
          6,
          7,
          8,
          9,
          10,
          11,
          12,
          13,
          14,
          15,
          16,
          17,
          18,
          19,
          20,
          21,
          22,
          23,
          24,
          25,
          26,
          27,
          28,
          29,
          30,
          31,
          32,
          33,
          34,
          35,
          36,
          37,
          38,
          39,
          40,
          41,
          42,
          43,
          44,
          45,
          46,
          47,
          48,
          49,
          50,
          51,
          52,
          53,
          54,
          55,
          56,
          57,
          58,
          59,
          60,
          61,
          62,
          63,
          64,
          65,
          66,
          67,
          68,
          69,
          70,
          71,
          72,
          73,
          74,
          75,
          76,
          77,
          78,
          79,
          80,
          81,
          82,
          83,
          84,
          85,
          86,
          87,
          88,
          89,
          90,
          91,
          92,
          93,
          94,
          95,
          96,
          97,
          98,
          99,
          100,
          101,
          102,
          103,
          104,
          105,
          106,
          107,
          108,
          109,
          110,
          111,
          112,
          113,
          114,
          115,
          116,
          117,
          118,
          119,
          120,
          121,
          122,
          123,
          124,
          125,
          126,
          127,
          128,
          129,
          130,
          131,
          132,
          133,
          134,
          135,
          136,
          137,
          138,
          139,
          140,
          141,
          142,
          143,
          144,
          145,
          146,
          147,
          148,
          149,
          150,
          151,
          152,
          153,
          154,
          155,
          156,
          157,
          158,
          159,
          160,
          161,
          162,
          163,
          164,
          165,
          166,
          167,
          168,
          169,
          170,
          171,
          172,
          173,
          174,
          175,
          176,
          177,
          178,
          179,
          180,
          181,
          182,
          183,
          184,
          185,
          186,
          187,
          188,
          189,
          190,
          191,
          192,
          193,
          194,
          195,
          196,
          197,
          198,
          199,
          200
         ],
         "xaxis": "x",
         "y": [
          null,
          null,
          null,
          null,
          null,
          null,
          null,
          null,
          null,
          null,
          null,
          null,
          null,
          null,
          null,
          null,
          null,
          null,
          null,
          null,
          null,
          null,
          null,
          null,
          null,
          null,
          null,
          null,
          null,
          null,
          null,
          null,
          null,
          null,
          null,
          null,
          null,
          null,
          null,
          null,
          null,
          null,
          null,
          null,
          null,
          null,
          null,
          null,
          null,
          null,
          null,
          null,
          null,
          null,
          null,
          null,
          null,
          null,
          null,
          null,
          null,
          null,
          null,
          null,
          null,
          null,
          null,
          null,
          null,
          null,
          null,
          null,
          null,
          null,
          null,
          null,
          null,
          null,
          null,
          null,
          null,
          null,
          null,
          null,
          null,
          null,
          null,
          null,
          null,
          null,
          null,
          null,
          null,
          null,
          null,
          null,
          null,
          null,
          null,
          null,
          null,
          null,
          null,
          null,
          null,
          null,
          null,
          null,
          null,
          null,
          null,
          null,
          null,
          null,
          null,
          null,
          null,
          null,
          null,
          null,
          null,
          null,
          null,
          null,
          null,
          null,
          null,
          null,
          null,
          null,
          null,
          null,
          null,
          null,
          null,
          null,
          null,
          null,
          null,
          null,
          null,
          null,
          null,
          null,
          null,
          null,
          null,
          null,
          null,
          null,
          null,
          null,
          null,
          null,
          null,
          null,
          null,
          null,
          null,
          null,
          null,
          null,
          null,
          null,
          null,
          null,
          null,
          null,
          null,
          null,
          null,
          null,
          null,
          null,
          null,
          null,
          null,
          null,
          null,
          null,
          null,
          null,
          null,
          null,
          null,
          null,
          null,
          null,
          null,
          null,
          null,
          null,
          null,
          null,
          null,
          null,
          null,
          null,
          null,
          null
         ],
         "yaxis": "y"
        }
       ],
       "layout": {
        "legend": {
         "tracegroupgap": 0
        },
        "template": {
         "data": {
          "bar": [
           {
            "error_x": {
             "color": "#2a3f5f"
            },
            "error_y": {
             "color": "#2a3f5f"
            },
            "marker": {
             "line": {
              "color": "#E5ECF6",
              "width": 0.5
             },
             "pattern": {
              "fillmode": "overlay",
              "size": 10,
              "solidity": 0.2
             }
            },
            "type": "bar"
           }
          ],
          "barpolar": [
           {
            "marker": {
             "line": {
              "color": "#E5ECF6",
              "width": 0.5
             },
             "pattern": {
              "fillmode": "overlay",
              "size": 10,
              "solidity": 0.2
             }
            },
            "type": "barpolar"
           }
          ],
          "carpet": [
           {
            "aaxis": {
             "endlinecolor": "#2a3f5f",
             "gridcolor": "white",
             "linecolor": "white",
             "minorgridcolor": "white",
             "startlinecolor": "#2a3f5f"
            },
            "baxis": {
             "endlinecolor": "#2a3f5f",
             "gridcolor": "white",
             "linecolor": "white",
             "minorgridcolor": "white",
             "startlinecolor": "#2a3f5f"
            },
            "type": "carpet"
           }
          ],
          "choropleth": [
           {
            "colorbar": {
             "outlinewidth": 0,
             "ticks": ""
            },
            "type": "choropleth"
           }
          ],
          "contour": [
           {
            "colorbar": {
             "outlinewidth": 0,
             "ticks": ""
            },
            "colorscale": [
             [
              0,
              "#0d0887"
             ],
             [
              0.1111111111111111,
              "#46039f"
             ],
             [
              0.2222222222222222,
              "#7201a8"
             ],
             [
              0.3333333333333333,
              "#9c179e"
             ],
             [
              0.4444444444444444,
              "#bd3786"
             ],
             [
              0.5555555555555556,
              "#d8576b"
             ],
             [
              0.6666666666666666,
              "#ed7953"
             ],
             [
              0.7777777777777778,
              "#fb9f3a"
             ],
             [
              0.8888888888888888,
              "#fdca26"
             ],
             [
              1,
              "#f0f921"
             ]
            ],
            "type": "contour"
           }
          ],
          "contourcarpet": [
           {
            "colorbar": {
             "outlinewidth": 0,
             "ticks": ""
            },
            "type": "contourcarpet"
           }
          ],
          "heatmap": [
           {
            "colorbar": {
             "outlinewidth": 0,
             "ticks": ""
            },
            "colorscale": [
             [
              0,
              "#0d0887"
             ],
             [
              0.1111111111111111,
              "#46039f"
             ],
             [
              0.2222222222222222,
              "#7201a8"
             ],
             [
              0.3333333333333333,
              "#9c179e"
             ],
             [
              0.4444444444444444,
              "#bd3786"
             ],
             [
              0.5555555555555556,
              "#d8576b"
             ],
             [
              0.6666666666666666,
              "#ed7953"
             ],
             [
              0.7777777777777778,
              "#fb9f3a"
             ],
             [
              0.8888888888888888,
              "#fdca26"
             ],
             [
              1,
              "#f0f921"
             ]
            ],
            "type": "heatmap"
           }
          ],
          "heatmapgl": [
           {
            "colorbar": {
             "outlinewidth": 0,
             "ticks": ""
            },
            "colorscale": [
             [
              0,
              "#0d0887"
             ],
             [
              0.1111111111111111,
              "#46039f"
             ],
             [
              0.2222222222222222,
              "#7201a8"
             ],
             [
              0.3333333333333333,
              "#9c179e"
             ],
             [
              0.4444444444444444,
              "#bd3786"
             ],
             [
              0.5555555555555556,
              "#d8576b"
             ],
             [
              0.6666666666666666,
              "#ed7953"
             ],
             [
              0.7777777777777778,
              "#fb9f3a"
             ],
             [
              0.8888888888888888,
              "#fdca26"
             ],
             [
              1,
              "#f0f921"
             ]
            ],
            "type": "heatmapgl"
           }
          ],
          "histogram": [
           {
            "marker": {
             "pattern": {
              "fillmode": "overlay",
              "size": 10,
              "solidity": 0.2
             }
            },
            "type": "histogram"
           }
          ],
          "histogram2d": [
           {
            "colorbar": {
             "outlinewidth": 0,
             "ticks": ""
            },
            "colorscale": [
             [
              0,
              "#0d0887"
             ],
             [
              0.1111111111111111,
              "#46039f"
             ],
             [
              0.2222222222222222,
              "#7201a8"
             ],
             [
              0.3333333333333333,
              "#9c179e"
             ],
             [
              0.4444444444444444,
              "#bd3786"
             ],
             [
              0.5555555555555556,
              "#d8576b"
             ],
             [
              0.6666666666666666,
              "#ed7953"
             ],
             [
              0.7777777777777778,
              "#fb9f3a"
             ],
             [
              0.8888888888888888,
              "#fdca26"
             ],
             [
              1,
              "#f0f921"
             ]
            ],
            "type": "histogram2d"
           }
          ],
          "histogram2dcontour": [
           {
            "colorbar": {
             "outlinewidth": 0,
             "ticks": ""
            },
            "colorscale": [
             [
              0,
              "#0d0887"
             ],
             [
              0.1111111111111111,
              "#46039f"
             ],
             [
              0.2222222222222222,
              "#7201a8"
             ],
             [
              0.3333333333333333,
              "#9c179e"
             ],
             [
              0.4444444444444444,
              "#bd3786"
             ],
             [
              0.5555555555555556,
              "#d8576b"
             ],
             [
              0.6666666666666666,
              "#ed7953"
             ],
             [
              0.7777777777777778,
              "#fb9f3a"
             ],
             [
              0.8888888888888888,
              "#fdca26"
             ],
             [
              1,
              "#f0f921"
             ]
            ],
            "type": "histogram2dcontour"
           }
          ],
          "mesh3d": [
           {
            "colorbar": {
             "outlinewidth": 0,
             "ticks": ""
            },
            "type": "mesh3d"
           }
          ],
          "parcoords": [
           {
            "line": {
             "colorbar": {
              "outlinewidth": 0,
              "ticks": ""
             }
            },
            "type": "parcoords"
           }
          ],
          "pie": [
           {
            "automargin": true,
            "type": "pie"
           }
          ],
          "scatter": [
           {
            "fillpattern": {
             "fillmode": "overlay",
             "size": 10,
             "solidity": 0.2
            },
            "type": "scatter"
           }
          ],
          "scatter3d": [
           {
            "line": {
             "colorbar": {
              "outlinewidth": 0,
              "ticks": ""
             }
            },
            "marker": {
             "colorbar": {
              "outlinewidth": 0,
              "ticks": ""
             }
            },
            "type": "scatter3d"
           }
          ],
          "scattercarpet": [
           {
            "marker": {
             "colorbar": {
              "outlinewidth": 0,
              "ticks": ""
             }
            },
            "type": "scattercarpet"
           }
          ],
          "scattergeo": [
           {
            "marker": {
             "colorbar": {
              "outlinewidth": 0,
              "ticks": ""
             }
            },
            "type": "scattergeo"
           }
          ],
          "scattergl": [
           {
            "marker": {
             "colorbar": {
              "outlinewidth": 0,
              "ticks": ""
             }
            },
            "type": "scattergl"
           }
          ],
          "scattermapbox": [
           {
            "marker": {
             "colorbar": {
              "outlinewidth": 0,
              "ticks": ""
             }
            },
            "type": "scattermapbox"
           }
          ],
          "scatterpolar": [
           {
            "marker": {
             "colorbar": {
              "outlinewidth": 0,
              "ticks": ""
             }
            },
            "type": "scatterpolar"
           }
          ],
          "scatterpolargl": [
           {
            "marker": {
             "colorbar": {
              "outlinewidth": 0,
              "ticks": ""
             }
            },
            "type": "scatterpolargl"
           }
          ],
          "scatterternary": [
           {
            "marker": {
             "colorbar": {
              "outlinewidth": 0,
              "ticks": ""
             }
            },
            "type": "scatterternary"
           }
          ],
          "surface": [
           {
            "colorbar": {
             "outlinewidth": 0,
             "ticks": ""
            },
            "colorscale": [
             [
              0,
              "#0d0887"
             ],
             [
              0.1111111111111111,
              "#46039f"
             ],
             [
              0.2222222222222222,
              "#7201a8"
             ],
             [
              0.3333333333333333,
              "#9c179e"
             ],
             [
              0.4444444444444444,
              "#bd3786"
             ],
             [
              0.5555555555555556,
              "#d8576b"
             ],
             [
              0.6666666666666666,
              "#ed7953"
             ],
             [
              0.7777777777777778,
              "#fb9f3a"
             ],
             [
              0.8888888888888888,
              "#fdca26"
             ],
             [
              1,
              "#f0f921"
             ]
            ],
            "type": "surface"
           }
          ],
          "table": [
           {
            "cells": {
             "fill": {
              "color": "#EBF0F8"
             },
             "line": {
              "color": "white"
             }
            },
            "header": {
             "fill": {
              "color": "#C8D4E3"
             },
             "line": {
              "color": "white"
             }
            },
            "type": "table"
           }
          ]
         },
         "layout": {
          "annotationdefaults": {
           "arrowcolor": "#2a3f5f",
           "arrowhead": 0,
           "arrowwidth": 1
          },
          "autotypenumbers": "strict",
          "coloraxis": {
           "colorbar": {
            "outlinewidth": 0,
            "ticks": ""
           }
          },
          "colorscale": {
           "diverging": [
            [
             0,
             "#8e0152"
            ],
            [
             0.1,
             "#c51b7d"
            ],
            [
             0.2,
             "#de77ae"
            ],
            [
             0.3,
             "#f1b6da"
            ],
            [
             0.4,
             "#fde0ef"
            ],
            [
             0.5,
             "#f7f7f7"
            ],
            [
             0.6,
             "#e6f5d0"
            ],
            [
             0.7,
             "#b8e186"
            ],
            [
             0.8,
             "#7fbc41"
            ],
            [
             0.9,
             "#4d9221"
            ],
            [
             1,
             "#276419"
            ]
           ],
           "sequential": [
            [
             0,
             "#0d0887"
            ],
            [
             0.1111111111111111,
             "#46039f"
            ],
            [
             0.2222222222222222,
             "#7201a8"
            ],
            [
             0.3333333333333333,
             "#9c179e"
            ],
            [
             0.4444444444444444,
             "#bd3786"
            ],
            [
             0.5555555555555556,
             "#d8576b"
            ],
            [
             0.6666666666666666,
             "#ed7953"
            ],
            [
             0.7777777777777778,
             "#fb9f3a"
            ],
            [
             0.8888888888888888,
             "#fdca26"
            ],
            [
             1,
             "#f0f921"
            ]
           ],
           "sequentialminus": [
            [
             0,
             "#0d0887"
            ],
            [
             0.1111111111111111,
             "#46039f"
            ],
            [
             0.2222222222222222,
             "#7201a8"
            ],
            [
             0.3333333333333333,
             "#9c179e"
            ],
            [
             0.4444444444444444,
             "#bd3786"
            ],
            [
             0.5555555555555556,
             "#d8576b"
            ],
            [
             0.6666666666666666,
             "#ed7953"
            ],
            [
             0.7777777777777778,
             "#fb9f3a"
            ],
            [
             0.8888888888888888,
             "#fdca26"
            ],
            [
             1,
             "#f0f921"
            ]
           ]
          },
          "colorway": [
           "#636efa",
           "#EF553B",
           "#00cc96",
           "#ab63fa",
           "#FFA15A",
           "#19d3f3",
           "#FF6692",
           "#B6E880",
           "#FF97FF",
           "#FECB52"
          ],
          "font": {
           "color": "#2a3f5f"
          },
          "geo": {
           "bgcolor": "white",
           "lakecolor": "white",
           "landcolor": "#E5ECF6",
           "showlakes": true,
           "showland": true,
           "subunitcolor": "white"
          },
          "hoverlabel": {
           "align": "left"
          },
          "hovermode": "closest",
          "mapbox": {
           "style": "light"
          },
          "paper_bgcolor": "white",
          "plot_bgcolor": "#E5ECF6",
          "polar": {
           "angularaxis": {
            "gridcolor": "white",
            "linecolor": "white",
            "ticks": ""
           },
           "bgcolor": "#E5ECF6",
           "radialaxis": {
            "gridcolor": "white",
            "linecolor": "white",
            "ticks": ""
           }
          },
          "scene": {
           "xaxis": {
            "backgroundcolor": "#E5ECF6",
            "gridcolor": "white",
            "gridwidth": 2,
            "linecolor": "white",
            "showbackground": true,
            "ticks": "",
            "zerolinecolor": "white"
           },
           "yaxis": {
            "backgroundcolor": "#E5ECF6",
            "gridcolor": "white",
            "gridwidth": 2,
            "linecolor": "white",
            "showbackground": true,
            "ticks": "",
            "zerolinecolor": "white"
           },
           "zaxis": {
            "backgroundcolor": "#E5ECF6",
            "gridcolor": "white",
            "gridwidth": 2,
            "linecolor": "white",
            "showbackground": true,
            "ticks": "",
            "zerolinecolor": "white"
           }
          },
          "shapedefaults": {
           "line": {
            "color": "#2a3f5f"
           }
          },
          "ternary": {
           "aaxis": {
            "gridcolor": "white",
            "linecolor": "white",
            "ticks": ""
           },
           "baxis": {
            "gridcolor": "white",
            "linecolor": "white",
            "ticks": ""
           },
           "bgcolor": "#E5ECF6",
           "caxis": {
            "gridcolor": "white",
            "linecolor": "white",
            "ticks": ""
           }
          },
          "title": {
           "x": 0.05
          },
          "xaxis": {
           "automargin": true,
           "gridcolor": "white",
           "linecolor": "white",
           "ticks": "",
           "title": {
            "standoff": 15
           },
           "zerolinecolor": "white",
           "zerolinewidth": 2
          },
          "yaxis": {
           "automargin": true,
           "gridcolor": "white",
           "linecolor": "white",
           "ticks": "",
           "title": {
            "standoff": 15
           },
           "zerolinecolor": "white",
           "zerolinewidth": 2
          }
         }
        },
        "title": {
         "text": "Angular Velocity (rad/sec)v Time Graph"
        },
        "xaxis": {
         "anchor": "y",
         "domain": [
          0,
          1
         ],
         "title": {
          "text": "x"
         }
        },
        "yaxis": {
         "anchor": "x",
         "domain": [
          0,
          1
         ],
         "title": {
          "text": "y"
         }
        }
       }
      }
     },
     "metadata": {},
     "output_type": "display_data"
    },
    {
     "data": {
      "application/vnd.plotly.v1+json": {
       "config": {
        "plotlyServerURL": "https://plot.ly"
       },
       "data": [
        {
         "hovertemplate": "x=%{x}<br>y=%{y}<extra></extra>",
         "legendgroup": "",
         "line": {
          "color": "#636efa",
          "dash": "solid"
         },
         "marker": {
          "symbol": "circle"
         },
         "mode": "lines",
         "name": "",
         "orientation": "v",
         "showlegend": false,
         "type": "scatter",
         "x": [
          1,
          2,
          3,
          4,
          5,
          6,
          7,
          8,
          9,
          10,
          11,
          12,
          13,
          14,
          15,
          16,
          17,
          18,
          19,
          20,
          21,
          22,
          23,
          24,
          25,
          26,
          27,
          28,
          29,
          30,
          31,
          32,
          33,
          34,
          35,
          36,
          37,
          38,
          39,
          40,
          41,
          42,
          43,
          44,
          45,
          46,
          47,
          48,
          49,
          50,
          51,
          52,
          53,
          54,
          55,
          56,
          57,
          58,
          59,
          60,
          61,
          62,
          63,
          64,
          65,
          66,
          67,
          68,
          69,
          70,
          71,
          72,
          73,
          74,
          75,
          76,
          77,
          78,
          79,
          80,
          81,
          82,
          83,
          84,
          85,
          86,
          87,
          88,
          89,
          90,
          91,
          92,
          93,
          94,
          95,
          96,
          97,
          98,
          99,
          100,
          101,
          102,
          103,
          104,
          105,
          106,
          107,
          108,
          109,
          110,
          111,
          112,
          113,
          114,
          115,
          116,
          117,
          118,
          119,
          120,
          121,
          122,
          123,
          124,
          125,
          126,
          127,
          128,
          129,
          130,
          131,
          132,
          133,
          134,
          135,
          136,
          137,
          138,
          139,
          140,
          141,
          142,
          143,
          144,
          145,
          146,
          147,
          148,
          149,
          150,
          151,
          152,
          153,
          154,
          155,
          156,
          157,
          158,
          159,
          160,
          161,
          162,
          163,
          164,
          165,
          166,
          167,
          168,
          169,
          170,
          171,
          172,
          173,
          174,
          175,
          176,
          177,
          178,
          179,
          180,
          181,
          182,
          183,
          184,
          185,
          186,
          187,
          188,
          189,
          190,
          191,
          192,
          193,
          194,
          195,
          196,
          197,
          198,
          199,
          200
         ],
         "xaxis": "x",
         "y": [
          261174658907.31714,
          261174658907.31714,
          261174658907.31714,
          261174658907.31714,
          261174658907.31714,
          261174658907.31714,
          261174658907.31714,
          261174658907.31714,
          261174658907.31714,
          261174658907.31714,
          261174658907.31714,
          261174658907.31714,
          261174658907.31714,
          261174658907.31714,
          261174658907.31714,
          261174658907.31714,
          261174658907.31714,
          261174658907.31714,
          261174658907.31714,
          261174658907.31714,
          261174658907.31714,
          261174658907.31714,
          261174658907.31714,
          261174658907.31714,
          261174658907.31714,
          261174658907.31714,
          261174658907.31714,
          261174658907.31714,
          261174658907.31714,
          261174658907.31714,
          261174658907.31714,
          261174658907.31714,
          261174658907.31714,
          261174658907.31714,
          261174658907.31714,
          261174658907.31714,
          261174658907.31714,
          261174658907.31714,
          261174658907.31714,
          261174658907.31714,
          261174658907.31714,
          261174658907.31714,
          261174658907.31714,
          261174658907.31714,
          261174658907.31714,
          261174658907.31714,
          261174658907.31714,
          261174658907.31714,
          261174658907.31714,
          261174658907.31714,
          261174658907.31714,
          261174658907.31714,
          261174658907.31714,
          261174658907.31714,
          261174658907.31714,
          261174658907.31714,
          261174658907.31714,
          261174658907.31714,
          261174658907.31714,
          261174658907.31714,
          261174658907.31714,
          261174658907.31714,
          261174658907.31714,
          261174658907.31714,
          261174658907.31714,
          261174658907.31714,
          261174658907.31714,
          261174658907.31714,
          261174658907.31714,
          261174658907.31714,
          261174658907.31714,
          261174658907.31714,
          261174658907.31714,
          261174658907.31714,
          261174658907.31714,
          261174658907.31714,
          261174658907.31714,
          261174658907.31714,
          261174658907.31714,
          261174658907.31714,
          261174658907.31714,
          261174658907.31714,
          261174658907.31714,
          261174658907.31714,
          261174658907.31714,
          261174658907.31714,
          261174658907.31714,
          261174658907.31714,
          261174658907.31714,
          261174658907.31714,
          261174658907.31714,
          261174658907.31714,
          261174658907.31714,
          261174658907.31714,
          261174658907.31714,
          261174658907.31714,
          261174658907.31714,
          261174658907.31714,
          261174658907.31714,
          261174658907.31714,
          261174658907.31714,
          261174658907.31714,
          261174658907.31714,
          261174658907.31714,
          261174658907.31714,
          261174658907.31714,
          261174658907.31714,
          261174658907.31714,
          261174658907.31714,
          261174658907.31714,
          261174658907.31714,
          261174658907.31714,
          261174658907.31714,
          261174658907.31714,
          261174658907.31714,
          261174658907.31714,
          261174658907.31714,
          261174658907.31714,
          261174658907.31714,
          261174658907.31714,
          261174658907.31714,
          261174658907.31714,
          261174658907.31714,
          261174658907.31714,
          261174658907.31714,
          261174658907.31714,
          261174658907.31714,
          261174658907.31714,
          261174658907.31714,
          261174658907.31714,
          261174658907.31714,
          261174658907.31714,
          261174658907.31714,
          261174658907.31714,
          261174658907.31714,
          261174658907.31714,
          261174658907.31714,
          261174658907.31714,
          261174658907.31714,
          261174658907.31714,
          261174658907.31714,
          261174658907.31714,
          261174658907.31714,
          261174658907.31714,
          261174658907.31714,
          261174658907.31714,
          261174658907.31714,
          261174658907.31714,
          261174658907.31714,
          261174658907.31714,
          261174658907.31714,
          261174658907.31714,
          261174658907.31714,
          261174658907.31714,
          261174658907.31714,
          261174658907.31714,
          261174658907.31714,
          261174658907.31714,
          261174658907.31714,
          261174658907.31714,
          261174658907.31714,
          261174658907.31714,
          261174658907.31714,
          261174658907.31714,
          261174658907.31714,
          261174658907.31714,
          261174658907.31714,
          261174658907.31714,
          261174658907.31714,
          261174658907.31714,
          261174658907.31714,
          261174658907.31714,
          261174658907.31714,
          261174658907.31714,
          261174658907.31714,
          261174658907.31714,
          261174658907.31714,
          261174658907.31714,
          261174658907.31714,
          261174658907.31714,
          261174658907.31714,
          261174658907.31714,
          261174658907.31714,
          261174658907.31714,
          261174658907.31714,
          261174658907.31714,
          261174658907.31714,
          261174658907.31714,
          261174658907.31714,
          261174658907.31714,
          261174658907.31714,
          261174658907.31714,
          261174658907.31714,
          261174658907.31714,
          261174658907.31714,
          261174658907.31714,
          261174658907.31714,
          261174658907.31714,
          261174658907.31714,
          261174658907.31714
         ],
         "yaxis": "y"
        }
       ],
       "layout": {
        "legend": {
         "tracegroupgap": 0
        },
        "template": {
         "data": {
          "bar": [
           {
            "error_x": {
             "color": "#2a3f5f"
            },
            "error_y": {
             "color": "#2a3f5f"
            },
            "marker": {
             "line": {
              "color": "#E5ECF6",
              "width": 0.5
             },
             "pattern": {
              "fillmode": "overlay",
              "size": 10,
              "solidity": 0.2
             }
            },
            "type": "bar"
           }
          ],
          "barpolar": [
           {
            "marker": {
             "line": {
              "color": "#E5ECF6",
              "width": 0.5
             },
             "pattern": {
              "fillmode": "overlay",
              "size": 10,
              "solidity": 0.2
             }
            },
            "type": "barpolar"
           }
          ],
          "carpet": [
           {
            "aaxis": {
             "endlinecolor": "#2a3f5f",
             "gridcolor": "white",
             "linecolor": "white",
             "minorgridcolor": "white",
             "startlinecolor": "#2a3f5f"
            },
            "baxis": {
             "endlinecolor": "#2a3f5f",
             "gridcolor": "white",
             "linecolor": "white",
             "minorgridcolor": "white",
             "startlinecolor": "#2a3f5f"
            },
            "type": "carpet"
           }
          ],
          "choropleth": [
           {
            "colorbar": {
             "outlinewidth": 0,
             "ticks": ""
            },
            "type": "choropleth"
           }
          ],
          "contour": [
           {
            "colorbar": {
             "outlinewidth": 0,
             "ticks": ""
            },
            "colorscale": [
             [
              0,
              "#0d0887"
             ],
             [
              0.1111111111111111,
              "#46039f"
             ],
             [
              0.2222222222222222,
              "#7201a8"
             ],
             [
              0.3333333333333333,
              "#9c179e"
             ],
             [
              0.4444444444444444,
              "#bd3786"
             ],
             [
              0.5555555555555556,
              "#d8576b"
             ],
             [
              0.6666666666666666,
              "#ed7953"
             ],
             [
              0.7777777777777778,
              "#fb9f3a"
             ],
             [
              0.8888888888888888,
              "#fdca26"
             ],
             [
              1,
              "#f0f921"
             ]
            ],
            "type": "contour"
           }
          ],
          "contourcarpet": [
           {
            "colorbar": {
             "outlinewidth": 0,
             "ticks": ""
            },
            "type": "contourcarpet"
           }
          ],
          "heatmap": [
           {
            "colorbar": {
             "outlinewidth": 0,
             "ticks": ""
            },
            "colorscale": [
             [
              0,
              "#0d0887"
             ],
             [
              0.1111111111111111,
              "#46039f"
             ],
             [
              0.2222222222222222,
              "#7201a8"
             ],
             [
              0.3333333333333333,
              "#9c179e"
             ],
             [
              0.4444444444444444,
              "#bd3786"
             ],
             [
              0.5555555555555556,
              "#d8576b"
             ],
             [
              0.6666666666666666,
              "#ed7953"
             ],
             [
              0.7777777777777778,
              "#fb9f3a"
             ],
             [
              0.8888888888888888,
              "#fdca26"
             ],
             [
              1,
              "#f0f921"
             ]
            ],
            "type": "heatmap"
           }
          ],
          "heatmapgl": [
           {
            "colorbar": {
             "outlinewidth": 0,
             "ticks": ""
            },
            "colorscale": [
             [
              0,
              "#0d0887"
             ],
             [
              0.1111111111111111,
              "#46039f"
             ],
             [
              0.2222222222222222,
              "#7201a8"
             ],
             [
              0.3333333333333333,
              "#9c179e"
             ],
             [
              0.4444444444444444,
              "#bd3786"
             ],
             [
              0.5555555555555556,
              "#d8576b"
             ],
             [
              0.6666666666666666,
              "#ed7953"
             ],
             [
              0.7777777777777778,
              "#fb9f3a"
             ],
             [
              0.8888888888888888,
              "#fdca26"
             ],
             [
              1,
              "#f0f921"
             ]
            ],
            "type": "heatmapgl"
           }
          ],
          "histogram": [
           {
            "marker": {
             "pattern": {
              "fillmode": "overlay",
              "size": 10,
              "solidity": 0.2
             }
            },
            "type": "histogram"
           }
          ],
          "histogram2d": [
           {
            "colorbar": {
             "outlinewidth": 0,
             "ticks": ""
            },
            "colorscale": [
             [
              0,
              "#0d0887"
             ],
             [
              0.1111111111111111,
              "#46039f"
             ],
             [
              0.2222222222222222,
              "#7201a8"
             ],
             [
              0.3333333333333333,
              "#9c179e"
             ],
             [
              0.4444444444444444,
              "#bd3786"
             ],
             [
              0.5555555555555556,
              "#d8576b"
             ],
             [
              0.6666666666666666,
              "#ed7953"
             ],
             [
              0.7777777777777778,
              "#fb9f3a"
             ],
             [
              0.8888888888888888,
              "#fdca26"
             ],
             [
              1,
              "#f0f921"
             ]
            ],
            "type": "histogram2d"
           }
          ],
          "histogram2dcontour": [
           {
            "colorbar": {
             "outlinewidth": 0,
             "ticks": ""
            },
            "colorscale": [
             [
              0,
              "#0d0887"
             ],
             [
              0.1111111111111111,
              "#46039f"
             ],
             [
              0.2222222222222222,
              "#7201a8"
             ],
             [
              0.3333333333333333,
              "#9c179e"
             ],
             [
              0.4444444444444444,
              "#bd3786"
             ],
             [
              0.5555555555555556,
              "#d8576b"
             ],
             [
              0.6666666666666666,
              "#ed7953"
             ],
             [
              0.7777777777777778,
              "#fb9f3a"
             ],
             [
              0.8888888888888888,
              "#fdca26"
             ],
             [
              1,
              "#f0f921"
             ]
            ],
            "type": "histogram2dcontour"
           }
          ],
          "mesh3d": [
           {
            "colorbar": {
             "outlinewidth": 0,
             "ticks": ""
            },
            "type": "mesh3d"
           }
          ],
          "parcoords": [
           {
            "line": {
             "colorbar": {
              "outlinewidth": 0,
              "ticks": ""
             }
            },
            "type": "parcoords"
           }
          ],
          "pie": [
           {
            "automargin": true,
            "type": "pie"
           }
          ],
          "scatter": [
           {
            "fillpattern": {
             "fillmode": "overlay",
             "size": 10,
             "solidity": 0.2
            },
            "type": "scatter"
           }
          ],
          "scatter3d": [
           {
            "line": {
             "colorbar": {
              "outlinewidth": 0,
              "ticks": ""
             }
            },
            "marker": {
             "colorbar": {
              "outlinewidth": 0,
              "ticks": ""
             }
            },
            "type": "scatter3d"
           }
          ],
          "scattercarpet": [
           {
            "marker": {
             "colorbar": {
              "outlinewidth": 0,
              "ticks": ""
             }
            },
            "type": "scattercarpet"
           }
          ],
          "scattergeo": [
           {
            "marker": {
             "colorbar": {
              "outlinewidth": 0,
              "ticks": ""
             }
            },
            "type": "scattergeo"
           }
          ],
          "scattergl": [
           {
            "marker": {
             "colorbar": {
              "outlinewidth": 0,
              "ticks": ""
             }
            },
            "type": "scattergl"
           }
          ],
          "scattermapbox": [
           {
            "marker": {
             "colorbar": {
              "outlinewidth": 0,
              "ticks": ""
             }
            },
            "type": "scattermapbox"
           }
          ],
          "scatterpolar": [
           {
            "marker": {
             "colorbar": {
              "outlinewidth": 0,
              "ticks": ""
             }
            },
            "type": "scatterpolar"
           }
          ],
          "scatterpolargl": [
           {
            "marker": {
             "colorbar": {
              "outlinewidth": 0,
              "ticks": ""
             }
            },
            "type": "scatterpolargl"
           }
          ],
          "scatterternary": [
           {
            "marker": {
             "colorbar": {
              "outlinewidth": 0,
              "ticks": ""
             }
            },
            "type": "scatterternary"
           }
          ],
          "surface": [
           {
            "colorbar": {
             "outlinewidth": 0,
             "ticks": ""
            },
            "colorscale": [
             [
              0,
              "#0d0887"
             ],
             [
              0.1111111111111111,
              "#46039f"
             ],
             [
              0.2222222222222222,
              "#7201a8"
             ],
             [
              0.3333333333333333,
              "#9c179e"
             ],
             [
              0.4444444444444444,
              "#bd3786"
             ],
             [
              0.5555555555555556,
              "#d8576b"
             ],
             [
              0.6666666666666666,
              "#ed7953"
             ],
             [
              0.7777777777777778,
              "#fb9f3a"
             ],
             [
              0.8888888888888888,
              "#fdca26"
             ],
             [
              1,
              "#f0f921"
             ]
            ],
            "type": "surface"
           }
          ],
          "table": [
           {
            "cells": {
             "fill": {
              "color": "#EBF0F8"
             },
             "line": {
              "color": "white"
             }
            },
            "header": {
             "fill": {
              "color": "#C8D4E3"
             },
             "line": {
              "color": "white"
             }
            },
            "type": "table"
           }
          ]
         },
         "layout": {
          "annotationdefaults": {
           "arrowcolor": "#2a3f5f",
           "arrowhead": 0,
           "arrowwidth": 1
          },
          "autotypenumbers": "strict",
          "coloraxis": {
           "colorbar": {
            "outlinewidth": 0,
            "ticks": ""
           }
          },
          "colorscale": {
           "diverging": [
            [
             0,
             "#8e0152"
            ],
            [
             0.1,
             "#c51b7d"
            ],
            [
             0.2,
             "#de77ae"
            ],
            [
             0.3,
             "#f1b6da"
            ],
            [
             0.4,
             "#fde0ef"
            ],
            [
             0.5,
             "#f7f7f7"
            ],
            [
             0.6,
             "#e6f5d0"
            ],
            [
             0.7,
             "#b8e186"
            ],
            [
             0.8,
             "#7fbc41"
            ],
            [
             0.9,
             "#4d9221"
            ],
            [
             1,
             "#276419"
            ]
           ],
           "sequential": [
            [
             0,
             "#0d0887"
            ],
            [
             0.1111111111111111,
             "#46039f"
            ],
            [
             0.2222222222222222,
             "#7201a8"
            ],
            [
             0.3333333333333333,
             "#9c179e"
            ],
            [
             0.4444444444444444,
             "#bd3786"
            ],
            [
             0.5555555555555556,
             "#d8576b"
            ],
            [
             0.6666666666666666,
             "#ed7953"
            ],
            [
             0.7777777777777778,
             "#fb9f3a"
            ],
            [
             0.8888888888888888,
             "#fdca26"
            ],
            [
             1,
             "#f0f921"
            ]
           ],
           "sequentialminus": [
            [
             0,
             "#0d0887"
            ],
            [
             0.1111111111111111,
             "#46039f"
            ],
            [
             0.2222222222222222,
             "#7201a8"
            ],
            [
             0.3333333333333333,
             "#9c179e"
            ],
            [
             0.4444444444444444,
             "#bd3786"
            ],
            [
             0.5555555555555556,
             "#d8576b"
            ],
            [
             0.6666666666666666,
             "#ed7953"
            ],
            [
             0.7777777777777778,
             "#fb9f3a"
            ],
            [
             0.8888888888888888,
             "#fdca26"
            ],
            [
             1,
             "#f0f921"
            ]
           ]
          },
          "colorway": [
           "#636efa",
           "#EF553B",
           "#00cc96",
           "#ab63fa",
           "#FFA15A",
           "#19d3f3",
           "#FF6692",
           "#B6E880",
           "#FF97FF",
           "#FECB52"
          ],
          "font": {
           "color": "#2a3f5f"
          },
          "geo": {
           "bgcolor": "white",
           "lakecolor": "white",
           "landcolor": "#E5ECF6",
           "showlakes": true,
           "showland": true,
           "subunitcolor": "white"
          },
          "hoverlabel": {
           "align": "left"
          },
          "hovermode": "closest",
          "mapbox": {
           "style": "light"
          },
          "paper_bgcolor": "white",
          "plot_bgcolor": "#E5ECF6",
          "polar": {
           "angularaxis": {
            "gridcolor": "white",
            "linecolor": "white",
            "ticks": ""
           },
           "bgcolor": "#E5ECF6",
           "radialaxis": {
            "gridcolor": "white",
            "linecolor": "white",
            "ticks": ""
           }
          },
          "scene": {
           "xaxis": {
            "backgroundcolor": "#E5ECF6",
            "gridcolor": "white",
            "gridwidth": 2,
            "linecolor": "white",
            "showbackground": true,
            "ticks": "",
            "zerolinecolor": "white"
           },
           "yaxis": {
            "backgroundcolor": "#E5ECF6",
            "gridcolor": "white",
            "gridwidth": 2,
            "linecolor": "white",
            "showbackground": true,
            "ticks": "",
            "zerolinecolor": "white"
           },
           "zaxis": {
            "backgroundcolor": "#E5ECF6",
            "gridcolor": "white",
            "gridwidth": 2,
            "linecolor": "white",
            "showbackground": true,
            "ticks": "",
            "zerolinecolor": "white"
           }
          },
          "shapedefaults": {
           "line": {
            "color": "#2a3f5f"
           }
          },
          "ternary": {
           "aaxis": {
            "gridcolor": "white",
            "linecolor": "white",
            "ticks": ""
           },
           "baxis": {
            "gridcolor": "white",
            "linecolor": "white",
            "ticks": ""
           },
           "bgcolor": "#E5ECF6",
           "caxis": {
            "gridcolor": "white",
            "linecolor": "white",
            "ticks": ""
           }
          },
          "title": {
           "x": 0.05
          },
          "xaxis": {
           "automargin": true,
           "gridcolor": "white",
           "linecolor": "white",
           "ticks": "",
           "title": {
            "standoff": 15
           },
           "zerolinecolor": "white",
           "zerolinewidth": 2
          },
          "yaxis": {
           "automargin": true,
           "gridcolor": "white",
           "linecolor": "white",
           "ticks": "",
           "title": {
            "standoff": 15
           },
           "zerolinecolor": "white",
           "zerolinewidth": 2
          }
         }
        },
        "title": {
         "text": "Lyapunov Control Torque (ft-lbs)v Time Graph"
        },
        "xaxis": {
         "anchor": "y",
         "domain": [
          0,
          1
         ],
         "title": {
          "text": "x"
         }
        },
        "yaxis": {
         "anchor": "x",
         "domain": [
          0,
          1
         ],
         "title": {
          "text": "y"
         }
        }
       }
      }
     },
     "metadata": {},
     "output_type": "display_data"
    },
    {
     "data": {
      "application/vnd.plotly.v1+json": {
       "config": {
        "plotlyServerURL": "https://plot.ly"
       },
       "data": [
        {
         "hovertemplate": "x=%{x}<br>y=%{y}<extra></extra>",
         "legendgroup": "",
         "line": {
          "color": "#636efa",
          "dash": "solid"
         },
         "marker": {
          "symbol": "circle"
         },
         "mode": "lines",
         "name": "",
         "orientation": "v",
         "showlegend": false,
         "type": "scatter",
         "x": [
          1,
          2,
          3,
          4,
          5,
          6,
          7,
          8,
          9,
          10,
          11,
          12,
          13,
          14,
          15,
          16,
          17,
          18,
          19,
          20,
          21,
          22,
          23,
          24,
          25,
          26,
          27,
          28,
          29,
          30,
          31,
          32,
          33,
          34,
          35,
          36,
          37,
          38,
          39,
          40,
          41,
          42,
          43,
          44,
          45,
          46,
          47,
          48,
          49,
          50,
          51,
          52,
          53,
          54,
          55,
          56,
          57,
          58,
          59,
          60,
          61,
          62,
          63,
          64,
          65,
          66,
          67,
          68,
          69,
          70,
          71,
          72,
          73,
          74,
          75,
          76,
          77,
          78,
          79,
          80,
          81,
          82,
          83,
          84,
          85,
          86,
          87,
          88,
          89,
          90,
          91,
          92,
          93,
          94,
          95,
          96,
          97,
          98,
          99,
          100,
          101,
          102,
          103,
          104,
          105,
          106,
          107,
          108,
          109,
          110,
          111,
          112,
          113,
          114,
          115,
          116,
          117,
          118,
          119,
          120,
          121,
          122,
          123,
          124,
          125,
          126,
          127,
          128,
          129,
          130,
          131,
          132,
          133,
          134,
          135,
          136,
          137,
          138,
          139,
          140,
          141,
          142,
          143,
          144,
          145,
          146,
          147,
          148,
          149,
          150,
          151,
          152,
          153,
          154,
          155,
          156,
          157,
          158,
          159,
          160,
          161,
          162,
          163,
          164,
          165,
          166,
          167,
          168,
          169,
          170,
          171,
          172,
          173,
          174,
          175,
          176,
          177,
          178,
          179,
          180,
          181,
          182,
          183,
          184,
          185,
          186,
          187,
          188,
          189,
          190,
          191,
          192,
          193,
          194,
          195,
          196,
          197,
          198,
          199,
          200
         ],
         "xaxis": "x",
         "y": [
          -50,
          -50,
          -50,
          -50,
          -50,
          -50,
          -50,
          -50,
          -50,
          -50,
          -50,
          -50,
          -50,
          -50,
          -50,
          -50,
          -50,
          -50,
          -50,
          -50,
          -50,
          -50,
          -50,
          -50,
          -50,
          -50,
          -50,
          -50,
          -50,
          -50,
          -50,
          -50,
          -50,
          -50,
          -50,
          -50,
          -50,
          -50,
          -50,
          -50,
          -50,
          -50,
          -50,
          -50,
          -50,
          -50,
          -50,
          -50,
          -50,
          -50,
          -50,
          -50,
          -50,
          -50,
          -50,
          -50,
          -50,
          -50,
          -50,
          -50,
          -50,
          -50,
          -50,
          -50,
          -50,
          -50,
          -50,
          -50,
          -50,
          -50,
          -50,
          -50,
          -50,
          -50,
          -50,
          -50,
          -50,
          -50,
          -50,
          -50,
          -50,
          -50,
          -50,
          -50,
          -50,
          -50,
          -50,
          -50,
          -50,
          -50,
          -50,
          -50,
          -50,
          -50,
          -50,
          -50,
          -50,
          -50,
          -50,
          -50,
          -50,
          -50,
          -50,
          -50,
          -50,
          -50,
          -50,
          -50,
          -50,
          -50,
          -50,
          -50,
          -50,
          -50,
          -50,
          -50,
          -50,
          -50,
          -50,
          -50,
          -50,
          -50,
          -50,
          -50,
          -50,
          -50,
          -50,
          -50,
          -50,
          -50,
          -50,
          -50,
          -50,
          -50,
          -50,
          -50,
          -50,
          -50,
          -50,
          -50,
          -50,
          -50,
          -50,
          -50,
          -50,
          -50,
          -50,
          -50,
          -50,
          -50,
          -50,
          -50,
          -50,
          -50,
          -50,
          -50,
          -50,
          -50,
          -50,
          -50,
          -50,
          -50,
          -50,
          -50,
          -50,
          -50,
          -50,
          -50,
          -50,
          -50,
          -50,
          -50,
          -50,
          -50,
          -50,
          -50,
          -50,
          -50,
          -50,
          -50,
          -50,
          -50,
          -50,
          -50,
          -50,
          -50,
          -50,
          -50,
          -50,
          -50,
          -50,
          -50,
          -50,
          -50,
          -50,
          -50,
          -50,
          -50,
          -50,
          -50
         ],
         "yaxis": "y"
        }
       ],
       "layout": {
        "legend": {
         "tracegroupgap": 0
        },
        "template": {
         "data": {
          "bar": [
           {
            "error_x": {
             "color": "#2a3f5f"
            },
            "error_y": {
             "color": "#2a3f5f"
            },
            "marker": {
             "line": {
              "color": "#E5ECF6",
              "width": 0.5
             },
             "pattern": {
              "fillmode": "overlay",
              "size": 10,
              "solidity": 0.2
             }
            },
            "type": "bar"
           }
          ],
          "barpolar": [
           {
            "marker": {
             "line": {
              "color": "#E5ECF6",
              "width": 0.5
             },
             "pattern": {
              "fillmode": "overlay",
              "size": 10,
              "solidity": 0.2
             }
            },
            "type": "barpolar"
           }
          ],
          "carpet": [
           {
            "aaxis": {
             "endlinecolor": "#2a3f5f",
             "gridcolor": "white",
             "linecolor": "white",
             "minorgridcolor": "white",
             "startlinecolor": "#2a3f5f"
            },
            "baxis": {
             "endlinecolor": "#2a3f5f",
             "gridcolor": "white",
             "linecolor": "white",
             "minorgridcolor": "white",
             "startlinecolor": "#2a3f5f"
            },
            "type": "carpet"
           }
          ],
          "choropleth": [
           {
            "colorbar": {
             "outlinewidth": 0,
             "ticks": ""
            },
            "type": "choropleth"
           }
          ],
          "contour": [
           {
            "colorbar": {
             "outlinewidth": 0,
             "ticks": ""
            },
            "colorscale": [
             [
              0,
              "#0d0887"
             ],
             [
              0.1111111111111111,
              "#46039f"
             ],
             [
              0.2222222222222222,
              "#7201a8"
             ],
             [
              0.3333333333333333,
              "#9c179e"
             ],
             [
              0.4444444444444444,
              "#bd3786"
             ],
             [
              0.5555555555555556,
              "#d8576b"
             ],
             [
              0.6666666666666666,
              "#ed7953"
             ],
             [
              0.7777777777777778,
              "#fb9f3a"
             ],
             [
              0.8888888888888888,
              "#fdca26"
             ],
             [
              1,
              "#f0f921"
             ]
            ],
            "type": "contour"
           }
          ],
          "contourcarpet": [
           {
            "colorbar": {
             "outlinewidth": 0,
             "ticks": ""
            },
            "type": "contourcarpet"
           }
          ],
          "heatmap": [
           {
            "colorbar": {
             "outlinewidth": 0,
             "ticks": ""
            },
            "colorscale": [
             [
              0,
              "#0d0887"
             ],
             [
              0.1111111111111111,
              "#46039f"
             ],
             [
              0.2222222222222222,
              "#7201a8"
             ],
             [
              0.3333333333333333,
              "#9c179e"
             ],
             [
              0.4444444444444444,
              "#bd3786"
             ],
             [
              0.5555555555555556,
              "#d8576b"
             ],
             [
              0.6666666666666666,
              "#ed7953"
             ],
             [
              0.7777777777777778,
              "#fb9f3a"
             ],
             [
              0.8888888888888888,
              "#fdca26"
             ],
             [
              1,
              "#f0f921"
             ]
            ],
            "type": "heatmap"
           }
          ],
          "heatmapgl": [
           {
            "colorbar": {
             "outlinewidth": 0,
             "ticks": ""
            },
            "colorscale": [
             [
              0,
              "#0d0887"
             ],
             [
              0.1111111111111111,
              "#46039f"
             ],
             [
              0.2222222222222222,
              "#7201a8"
             ],
             [
              0.3333333333333333,
              "#9c179e"
             ],
             [
              0.4444444444444444,
              "#bd3786"
             ],
             [
              0.5555555555555556,
              "#d8576b"
             ],
             [
              0.6666666666666666,
              "#ed7953"
             ],
             [
              0.7777777777777778,
              "#fb9f3a"
             ],
             [
              0.8888888888888888,
              "#fdca26"
             ],
             [
              1,
              "#f0f921"
             ]
            ],
            "type": "heatmapgl"
           }
          ],
          "histogram": [
           {
            "marker": {
             "pattern": {
              "fillmode": "overlay",
              "size": 10,
              "solidity": 0.2
             }
            },
            "type": "histogram"
           }
          ],
          "histogram2d": [
           {
            "colorbar": {
             "outlinewidth": 0,
             "ticks": ""
            },
            "colorscale": [
             [
              0,
              "#0d0887"
             ],
             [
              0.1111111111111111,
              "#46039f"
             ],
             [
              0.2222222222222222,
              "#7201a8"
             ],
             [
              0.3333333333333333,
              "#9c179e"
             ],
             [
              0.4444444444444444,
              "#bd3786"
             ],
             [
              0.5555555555555556,
              "#d8576b"
             ],
             [
              0.6666666666666666,
              "#ed7953"
             ],
             [
              0.7777777777777778,
              "#fb9f3a"
             ],
             [
              0.8888888888888888,
              "#fdca26"
             ],
             [
              1,
              "#f0f921"
             ]
            ],
            "type": "histogram2d"
           }
          ],
          "histogram2dcontour": [
           {
            "colorbar": {
             "outlinewidth": 0,
             "ticks": ""
            },
            "colorscale": [
             [
              0,
              "#0d0887"
             ],
             [
              0.1111111111111111,
              "#46039f"
             ],
             [
              0.2222222222222222,
              "#7201a8"
             ],
             [
              0.3333333333333333,
              "#9c179e"
             ],
             [
              0.4444444444444444,
              "#bd3786"
             ],
             [
              0.5555555555555556,
              "#d8576b"
             ],
             [
              0.6666666666666666,
              "#ed7953"
             ],
             [
              0.7777777777777778,
              "#fb9f3a"
             ],
             [
              0.8888888888888888,
              "#fdca26"
             ],
             [
              1,
              "#f0f921"
             ]
            ],
            "type": "histogram2dcontour"
           }
          ],
          "mesh3d": [
           {
            "colorbar": {
             "outlinewidth": 0,
             "ticks": ""
            },
            "type": "mesh3d"
           }
          ],
          "parcoords": [
           {
            "line": {
             "colorbar": {
              "outlinewidth": 0,
              "ticks": ""
             }
            },
            "type": "parcoords"
           }
          ],
          "pie": [
           {
            "automargin": true,
            "type": "pie"
           }
          ],
          "scatter": [
           {
            "fillpattern": {
             "fillmode": "overlay",
             "size": 10,
             "solidity": 0.2
            },
            "type": "scatter"
           }
          ],
          "scatter3d": [
           {
            "line": {
             "colorbar": {
              "outlinewidth": 0,
              "ticks": ""
             }
            },
            "marker": {
             "colorbar": {
              "outlinewidth": 0,
              "ticks": ""
             }
            },
            "type": "scatter3d"
           }
          ],
          "scattercarpet": [
           {
            "marker": {
             "colorbar": {
              "outlinewidth": 0,
              "ticks": ""
             }
            },
            "type": "scattercarpet"
           }
          ],
          "scattergeo": [
           {
            "marker": {
             "colorbar": {
              "outlinewidth": 0,
              "ticks": ""
             }
            },
            "type": "scattergeo"
           }
          ],
          "scattergl": [
           {
            "marker": {
             "colorbar": {
              "outlinewidth": 0,
              "ticks": ""
             }
            },
            "type": "scattergl"
           }
          ],
          "scattermapbox": [
           {
            "marker": {
             "colorbar": {
              "outlinewidth": 0,
              "ticks": ""
             }
            },
            "type": "scattermapbox"
           }
          ],
          "scatterpolar": [
           {
            "marker": {
             "colorbar": {
              "outlinewidth": 0,
              "ticks": ""
             }
            },
            "type": "scatterpolar"
           }
          ],
          "scatterpolargl": [
           {
            "marker": {
             "colorbar": {
              "outlinewidth": 0,
              "ticks": ""
             }
            },
            "type": "scatterpolargl"
           }
          ],
          "scatterternary": [
           {
            "marker": {
             "colorbar": {
              "outlinewidth": 0,
              "ticks": ""
             }
            },
            "type": "scatterternary"
           }
          ],
          "surface": [
           {
            "colorbar": {
             "outlinewidth": 0,
             "ticks": ""
            },
            "colorscale": [
             [
              0,
              "#0d0887"
             ],
             [
              0.1111111111111111,
              "#46039f"
             ],
             [
              0.2222222222222222,
              "#7201a8"
             ],
             [
              0.3333333333333333,
              "#9c179e"
             ],
             [
              0.4444444444444444,
              "#bd3786"
             ],
             [
              0.5555555555555556,
              "#d8576b"
             ],
             [
              0.6666666666666666,
              "#ed7953"
             ],
             [
              0.7777777777777778,
              "#fb9f3a"
             ],
             [
              0.8888888888888888,
              "#fdca26"
             ],
             [
              1,
              "#f0f921"
             ]
            ],
            "type": "surface"
           }
          ],
          "table": [
           {
            "cells": {
             "fill": {
              "color": "#EBF0F8"
             },
             "line": {
              "color": "white"
             }
            },
            "header": {
             "fill": {
              "color": "#C8D4E3"
             },
             "line": {
              "color": "white"
             }
            },
            "type": "table"
           }
          ]
         },
         "layout": {
          "annotationdefaults": {
           "arrowcolor": "#2a3f5f",
           "arrowhead": 0,
           "arrowwidth": 1
          },
          "autotypenumbers": "strict",
          "coloraxis": {
           "colorbar": {
            "outlinewidth": 0,
            "ticks": ""
           }
          },
          "colorscale": {
           "diverging": [
            [
             0,
             "#8e0152"
            ],
            [
             0.1,
             "#c51b7d"
            ],
            [
             0.2,
             "#de77ae"
            ],
            [
             0.3,
             "#f1b6da"
            ],
            [
             0.4,
             "#fde0ef"
            ],
            [
             0.5,
             "#f7f7f7"
            ],
            [
             0.6,
             "#e6f5d0"
            ],
            [
             0.7,
             "#b8e186"
            ],
            [
             0.8,
             "#7fbc41"
            ],
            [
             0.9,
             "#4d9221"
            ],
            [
             1,
             "#276419"
            ]
           ],
           "sequential": [
            [
             0,
             "#0d0887"
            ],
            [
             0.1111111111111111,
             "#46039f"
            ],
            [
             0.2222222222222222,
             "#7201a8"
            ],
            [
             0.3333333333333333,
             "#9c179e"
            ],
            [
             0.4444444444444444,
             "#bd3786"
            ],
            [
             0.5555555555555556,
             "#d8576b"
            ],
            [
             0.6666666666666666,
             "#ed7953"
            ],
            [
             0.7777777777777778,
             "#fb9f3a"
            ],
            [
             0.8888888888888888,
             "#fdca26"
            ],
            [
             1,
             "#f0f921"
            ]
           ],
           "sequentialminus": [
            [
             0,
             "#0d0887"
            ],
            [
             0.1111111111111111,
             "#46039f"
            ],
            [
             0.2222222222222222,
             "#7201a8"
            ],
            [
             0.3333333333333333,
             "#9c179e"
            ],
            [
             0.4444444444444444,
             "#bd3786"
            ],
            [
             0.5555555555555556,
             "#d8576b"
            ],
            [
             0.6666666666666666,
             "#ed7953"
            ],
            [
             0.7777777777777778,
             "#fb9f3a"
            ],
            [
             0.8888888888888888,
             "#fdca26"
            ],
            [
             1,
             "#f0f921"
            ]
           ]
          },
          "colorway": [
           "#636efa",
           "#EF553B",
           "#00cc96",
           "#ab63fa",
           "#FFA15A",
           "#19d3f3",
           "#FF6692",
           "#B6E880",
           "#FF97FF",
           "#FECB52"
          ],
          "font": {
           "color": "#2a3f5f"
          },
          "geo": {
           "bgcolor": "white",
           "lakecolor": "white",
           "landcolor": "#E5ECF6",
           "showlakes": true,
           "showland": true,
           "subunitcolor": "white"
          },
          "hoverlabel": {
           "align": "left"
          },
          "hovermode": "closest",
          "mapbox": {
           "style": "light"
          },
          "paper_bgcolor": "white",
          "plot_bgcolor": "#E5ECF6",
          "polar": {
           "angularaxis": {
            "gridcolor": "white",
            "linecolor": "white",
            "ticks": ""
           },
           "bgcolor": "#E5ECF6",
           "radialaxis": {
            "gridcolor": "white",
            "linecolor": "white",
            "ticks": ""
           }
          },
          "scene": {
           "xaxis": {
            "backgroundcolor": "#E5ECF6",
            "gridcolor": "white",
            "gridwidth": 2,
            "linecolor": "white",
            "showbackground": true,
            "ticks": "",
            "zerolinecolor": "white"
           },
           "yaxis": {
            "backgroundcolor": "#E5ECF6",
            "gridcolor": "white",
            "gridwidth": 2,
            "linecolor": "white",
            "showbackground": true,
            "ticks": "",
            "zerolinecolor": "white"
           },
           "zaxis": {
            "backgroundcolor": "#E5ECF6",
            "gridcolor": "white",
            "gridwidth": 2,
            "linecolor": "white",
            "showbackground": true,
            "ticks": "",
            "zerolinecolor": "white"
           }
          },
          "shapedefaults": {
           "line": {
            "color": "#2a3f5f"
           }
          },
          "ternary": {
           "aaxis": {
            "gridcolor": "white",
            "linecolor": "white",
            "ticks": ""
           },
           "baxis": {
            "gridcolor": "white",
            "linecolor": "white",
            "ticks": ""
           },
           "bgcolor": "#E5ECF6",
           "caxis": {
            "gridcolor": "white",
            "linecolor": "white",
            "ticks": ""
           }
          },
          "title": {
           "x": 0.05
          },
          "xaxis": {
           "automargin": true,
           "gridcolor": "white",
           "linecolor": "white",
           "ticks": "",
           "title": {
            "standoff": 15
           },
           "zerolinecolor": "white",
           "zerolinewidth": 2
          },
          "yaxis": {
           "automargin": true,
           "gridcolor": "white",
           "linecolor": "white",
           "ticks": "",
           "title": {
            "standoff": 15
           },
           "zerolinecolor": "white",
           "zerolinewidth": 2
          }
         }
        },
        "title": {
         "text": "Error in Velocity (ft/s) v Time Graph"
        },
        "xaxis": {
         "anchor": "y",
         "domain": [
          0,
          1
         ],
         "title": {
          "text": "x"
         }
        },
        "yaxis": {
         "anchor": "x",
         "domain": [
          0,
          1
         ],
         "title": {
          "text": "y"
         }
        }
       }
      }
     },
     "metadata": {},
     "output_type": "display_data"
    },
    {
     "data": {
      "application/vnd.plotly.v1+json": {
       "config": {
        "plotlyServerURL": "https://plot.ly"
       },
       "data": [
        {
         "hovertemplate": "x=%{x}<br>y=%{y}<extra></extra>",
         "legendgroup": "",
         "line": {
          "color": "#636efa",
          "dash": "solid"
         },
         "marker": {
          "symbol": "circle"
         },
         "mode": "lines",
         "name": "",
         "orientation": "v",
         "showlegend": false,
         "type": "scatter",
         "x": [
          1,
          2,
          3,
          4,
          5,
          6,
          7,
          8,
          9,
          10,
          11,
          12,
          13,
          14,
          15,
          16,
          17,
          18,
          19,
          20,
          21,
          22,
          23,
          24,
          25,
          26,
          27,
          28,
          29,
          30,
          31,
          32,
          33,
          34,
          35,
          36,
          37,
          38,
          39,
          40,
          41,
          42,
          43,
          44,
          45,
          46,
          47,
          48,
          49,
          50,
          51,
          52,
          53,
          54,
          55,
          56,
          57,
          58,
          59,
          60,
          61,
          62,
          63,
          64,
          65,
          66,
          67,
          68,
          69,
          70,
          71,
          72,
          73,
          74,
          75,
          76,
          77,
          78,
          79,
          80,
          81,
          82,
          83,
          84,
          85,
          86,
          87,
          88,
          89,
          90,
          91,
          92,
          93,
          94,
          95,
          96,
          97,
          98,
          99,
          100,
          101,
          102,
          103,
          104,
          105,
          106,
          107,
          108,
          109,
          110,
          111,
          112,
          113,
          114,
          115,
          116,
          117,
          118,
          119,
          120,
          121,
          122,
          123,
          124,
          125,
          126,
          127,
          128,
          129,
          130,
          131,
          132,
          133,
          134,
          135,
          136,
          137,
          138,
          139,
          140,
          141,
          142,
          143,
          144,
          145,
          146,
          147,
          148,
          149,
          150,
          151,
          152,
          153,
          154,
          155,
          156,
          157,
          158,
          159,
          160,
          161,
          162,
          163,
          164,
          165,
          166,
          167,
          168,
          169,
          170,
          171,
          172,
          173,
          174,
          175,
          176,
          177,
          178,
          179,
          180,
          181,
          182,
          183,
          184,
          185,
          186,
          187,
          188,
          189,
          190,
          191,
          192,
          193,
          194,
          195,
          196,
          197,
          198,
          199,
          200
         ],
         "xaxis": "x",
         "y": [
          null,
          null,
          null,
          null,
          null,
          null,
          null,
          null,
          null,
          null,
          null,
          null,
          null,
          null,
          null,
          null,
          null,
          null,
          null,
          null,
          null,
          null,
          null,
          null,
          null,
          null,
          null,
          null,
          null,
          null,
          null,
          null,
          null,
          null,
          null,
          null,
          null,
          null,
          null,
          null,
          null,
          null,
          null,
          null,
          null,
          null,
          null,
          null,
          null,
          null,
          null,
          null,
          null,
          null,
          null,
          null,
          null,
          null,
          null,
          null,
          null,
          null,
          null,
          null,
          null,
          null,
          null,
          null,
          null,
          null,
          null,
          null,
          null,
          null,
          null,
          null,
          null,
          null,
          null,
          null,
          null,
          null,
          null,
          null,
          null,
          null,
          null,
          null,
          null,
          null,
          null,
          null,
          null,
          null,
          null,
          null,
          null,
          null,
          null,
          null,
          null,
          null,
          null,
          null,
          null,
          null,
          null,
          null,
          null,
          null,
          null,
          null,
          null,
          null,
          null,
          null,
          null,
          null,
          null,
          null,
          null,
          null,
          null,
          null,
          null,
          null,
          null,
          null,
          null,
          null,
          null,
          null,
          null,
          null,
          null,
          null,
          null,
          null,
          null,
          null,
          null,
          null,
          null,
          null,
          null,
          null,
          null,
          null,
          null,
          null,
          null,
          null,
          null,
          null,
          null,
          null,
          null,
          null,
          null,
          null,
          null,
          null,
          null,
          null,
          null,
          null,
          null,
          null,
          null,
          null,
          null,
          null,
          null,
          null,
          null,
          null,
          null,
          null,
          null,
          null,
          null,
          null,
          null,
          null,
          null,
          null,
          null,
          null,
          null,
          null,
          null,
          null,
          null,
          null,
          null,
          null,
          null,
          null,
          null,
          null
         ],
         "yaxis": "y"
        }
       ],
       "layout": {
        "legend": {
         "tracegroupgap": 0
        },
        "template": {
         "data": {
          "bar": [
           {
            "error_x": {
             "color": "#2a3f5f"
            },
            "error_y": {
             "color": "#2a3f5f"
            },
            "marker": {
             "line": {
              "color": "#E5ECF6",
              "width": 0.5
             },
             "pattern": {
              "fillmode": "overlay",
              "size": 10,
              "solidity": 0.2
             }
            },
            "type": "bar"
           }
          ],
          "barpolar": [
           {
            "marker": {
             "line": {
              "color": "#E5ECF6",
              "width": 0.5
             },
             "pattern": {
              "fillmode": "overlay",
              "size": 10,
              "solidity": 0.2
             }
            },
            "type": "barpolar"
           }
          ],
          "carpet": [
           {
            "aaxis": {
             "endlinecolor": "#2a3f5f",
             "gridcolor": "white",
             "linecolor": "white",
             "minorgridcolor": "white",
             "startlinecolor": "#2a3f5f"
            },
            "baxis": {
             "endlinecolor": "#2a3f5f",
             "gridcolor": "white",
             "linecolor": "white",
             "minorgridcolor": "white",
             "startlinecolor": "#2a3f5f"
            },
            "type": "carpet"
           }
          ],
          "choropleth": [
           {
            "colorbar": {
             "outlinewidth": 0,
             "ticks": ""
            },
            "type": "choropleth"
           }
          ],
          "contour": [
           {
            "colorbar": {
             "outlinewidth": 0,
             "ticks": ""
            },
            "colorscale": [
             [
              0,
              "#0d0887"
             ],
             [
              0.1111111111111111,
              "#46039f"
             ],
             [
              0.2222222222222222,
              "#7201a8"
             ],
             [
              0.3333333333333333,
              "#9c179e"
             ],
             [
              0.4444444444444444,
              "#bd3786"
             ],
             [
              0.5555555555555556,
              "#d8576b"
             ],
             [
              0.6666666666666666,
              "#ed7953"
             ],
             [
              0.7777777777777778,
              "#fb9f3a"
             ],
             [
              0.8888888888888888,
              "#fdca26"
             ],
             [
              1,
              "#f0f921"
             ]
            ],
            "type": "contour"
           }
          ],
          "contourcarpet": [
           {
            "colorbar": {
             "outlinewidth": 0,
             "ticks": ""
            },
            "type": "contourcarpet"
           }
          ],
          "heatmap": [
           {
            "colorbar": {
             "outlinewidth": 0,
             "ticks": ""
            },
            "colorscale": [
             [
              0,
              "#0d0887"
             ],
             [
              0.1111111111111111,
              "#46039f"
             ],
             [
              0.2222222222222222,
              "#7201a8"
             ],
             [
              0.3333333333333333,
              "#9c179e"
             ],
             [
              0.4444444444444444,
              "#bd3786"
             ],
             [
              0.5555555555555556,
              "#d8576b"
             ],
             [
              0.6666666666666666,
              "#ed7953"
             ],
             [
              0.7777777777777778,
              "#fb9f3a"
             ],
             [
              0.8888888888888888,
              "#fdca26"
             ],
             [
              1,
              "#f0f921"
             ]
            ],
            "type": "heatmap"
           }
          ],
          "heatmapgl": [
           {
            "colorbar": {
             "outlinewidth": 0,
             "ticks": ""
            },
            "colorscale": [
             [
              0,
              "#0d0887"
             ],
             [
              0.1111111111111111,
              "#46039f"
             ],
             [
              0.2222222222222222,
              "#7201a8"
             ],
             [
              0.3333333333333333,
              "#9c179e"
             ],
             [
              0.4444444444444444,
              "#bd3786"
             ],
             [
              0.5555555555555556,
              "#d8576b"
             ],
             [
              0.6666666666666666,
              "#ed7953"
             ],
             [
              0.7777777777777778,
              "#fb9f3a"
             ],
             [
              0.8888888888888888,
              "#fdca26"
             ],
             [
              1,
              "#f0f921"
             ]
            ],
            "type": "heatmapgl"
           }
          ],
          "histogram": [
           {
            "marker": {
             "pattern": {
              "fillmode": "overlay",
              "size": 10,
              "solidity": 0.2
             }
            },
            "type": "histogram"
           }
          ],
          "histogram2d": [
           {
            "colorbar": {
             "outlinewidth": 0,
             "ticks": ""
            },
            "colorscale": [
             [
              0,
              "#0d0887"
             ],
             [
              0.1111111111111111,
              "#46039f"
             ],
             [
              0.2222222222222222,
              "#7201a8"
             ],
             [
              0.3333333333333333,
              "#9c179e"
             ],
             [
              0.4444444444444444,
              "#bd3786"
             ],
             [
              0.5555555555555556,
              "#d8576b"
             ],
             [
              0.6666666666666666,
              "#ed7953"
             ],
             [
              0.7777777777777778,
              "#fb9f3a"
             ],
             [
              0.8888888888888888,
              "#fdca26"
             ],
             [
              1,
              "#f0f921"
             ]
            ],
            "type": "histogram2d"
           }
          ],
          "histogram2dcontour": [
           {
            "colorbar": {
             "outlinewidth": 0,
             "ticks": ""
            },
            "colorscale": [
             [
              0,
              "#0d0887"
             ],
             [
              0.1111111111111111,
              "#46039f"
             ],
             [
              0.2222222222222222,
              "#7201a8"
             ],
             [
              0.3333333333333333,
              "#9c179e"
             ],
             [
              0.4444444444444444,
              "#bd3786"
             ],
             [
              0.5555555555555556,
              "#d8576b"
             ],
             [
              0.6666666666666666,
              "#ed7953"
             ],
             [
              0.7777777777777778,
              "#fb9f3a"
             ],
             [
              0.8888888888888888,
              "#fdca26"
             ],
             [
              1,
              "#f0f921"
             ]
            ],
            "type": "histogram2dcontour"
           }
          ],
          "mesh3d": [
           {
            "colorbar": {
             "outlinewidth": 0,
             "ticks": ""
            },
            "type": "mesh3d"
           }
          ],
          "parcoords": [
           {
            "line": {
             "colorbar": {
              "outlinewidth": 0,
              "ticks": ""
             }
            },
            "type": "parcoords"
           }
          ],
          "pie": [
           {
            "automargin": true,
            "type": "pie"
           }
          ],
          "scatter": [
           {
            "fillpattern": {
             "fillmode": "overlay",
             "size": 10,
             "solidity": 0.2
            },
            "type": "scatter"
           }
          ],
          "scatter3d": [
           {
            "line": {
             "colorbar": {
              "outlinewidth": 0,
              "ticks": ""
             }
            },
            "marker": {
             "colorbar": {
              "outlinewidth": 0,
              "ticks": ""
             }
            },
            "type": "scatter3d"
           }
          ],
          "scattercarpet": [
           {
            "marker": {
             "colorbar": {
              "outlinewidth": 0,
              "ticks": ""
             }
            },
            "type": "scattercarpet"
           }
          ],
          "scattergeo": [
           {
            "marker": {
             "colorbar": {
              "outlinewidth": 0,
              "ticks": ""
             }
            },
            "type": "scattergeo"
           }
          ],
          "scattergl": [
           {
            "marker": {
             "colorbar": {
              "outlinewidth": 0,
              "ticks": ""
             }
            },
            "type": "scattergl"
           }
          ],
          "scattermapbox": [
           {
            "marker": {
             "colorbar": {
              "outlinewidth": 0,
              "ticks": ""
             }
            },
            "type": "scattermapbox"
           }
          ],
          "scatterpolar": [
           {
            "marker": {
             "colorbar": {
              "outlinewidth": 0,
              "ticks": ""
             }
            },
            "type": "scatterpolar"
           }
          ],
          "scatterpolargl": [
           {
            "marker": {
             "colorbar": {
              "outlinewidth": 0,
              "ticks": ""
             }
            },
            "type": "scatterpolargl"
           }
          ],
          "scatterternary": [
           {
            "marker": {
             "colorbar": {
              "outlinewidth": 0,
              "ticks": ""
             }
            },
            "type": "scatterternary"
           }
          ],
          "surface": [
           {
            "colorbar": {
             "outlinewidth": 0,
             "ticks": ""
            },
            "colorscale": [
             [
              0,
              "#0d0887"
             ],
             [
              0.1111111111111111,
              "#46039f"
             ],
             [
              0.2222222222222222,
              "#7201a8"
             ],
             [
              0.3333333333333333,
              "#9c179e"
             ],
             [
              0.4444444444444444,
              "#bd3786"
             ],
             [
              0.5555555555555556,
              "#d8576b"
             ],
             [
              0.6666666666666666,
              "#ed7953"
             ],
             [
              0.7777777777777778,
              "#fb9f3a"
             ],
             [
              0.8888888888888888,
              "#fdca26"
             ],
             [
              1,
              "#f0f921"
             ]
            ],
            "type": "surface"
           }
          ],
          "table": [
           {
            "cells": {
             "fill": {
              "color": "#EBF0F8"
             },
             "line": {
              "color": "white"
             }
            },
            "header": {
             "fill": {
              "color": "#C8D4E3"
             },
             "line": {
              "color": "white"
             }
            },
            "type": "table"
           }
          ]
         },
         "layout": {
          "annotationdefaults": {
           "arrowcolor": "#2a3f5f",
           "arrowhead": 0,
           "arrowwidth": 1
          },
          "autotypenumbers": "strict",
          "coloraxis": {
           "colorbar": {
            "outlinewidth": 0,
            "ticks": ""
           }
          },
          "colorscale": {
           "diverging": [
            [
             0,
             "#8e0152"
            ],
            [
             0.1,
             "#c51b7d"
            ],
            [
             0.2,
             "#de77ae"
            ],
            [
             0.3,
             "#f1b6da"
            ],
            [
             0.4,
             "#fde0ef"
            ],
            [
             0.5,
             "#f7f7f7"
            ],
            [
             0.6,
             "#e6f5d0"
            ],
            [
             0.7,
             "#b8e186"
            ],
            [
             0.8,
             "#7fbc41"
            ],
            [
             0.9,
             "#4d9221"
            ],
            [
             1,
             "#276419"
            ]
           ],
           "sequential": [
            [
             0,
             "#0d0887"
            ],
            [
             0.1111111111111111,
             "#46039f"
            ],
            [
             0.2222222222222222,
             "#7201a8"
            ],
            [
             0.3333333333333333,
             "#9c179e"
            ],
            [
             0.4444444444444444,
             "#bd3786"
            ],
            [
             0.5555555555555556,
             "#d8576b"
            ],
            [
             0.6666666666666666,
             "#ed7953"
            ],
            [
             0.7777777777777778,
             "#fb9f3a"
            ],
            [
             0.8888888888888888,
             "#fdca26"
            ],
            [
             1,
             "#f0f921"
            ]
           ],
           "sequentialminus": [
            [
             0,
             "#0d0887"
            ],
            [
             0.1111111111111111,
             "#46039f"
            ],
            [
             0.2222222222222222,
             "#7201a8"
            ],
            [
             0.3333333333333333,
             "#9c179e"
            ],
            [
             0.4444444444444444,
             "#bd3786"
            ],
            [
             0.5555555555555556,
             "#d8576b"
            ],
            [
             0.6666666666666666,
             "#ed7953"
            ],
            [
             0.7777777777777778,
             "#fb9f3a"
            ],
            [
             0.8888888888888888,
             "#fdca26"
            ],
            [
             1,
             "#f0f921"
            ]
           ]
          },
          "colorway": [
           "#636efa",
           "#EF553B",
           "#00cc96",
           "#ab63fa",
           "#FFA15A",
           "#19d3f3",
           "#FF6692",
           "#B6E880",
           "#FF97FF",
           "#FECB52"
          ],
          "font": {
           "color": "#2a3f5f"
          },
          "geo": {
           "bgcolor": "white",
           "lakecolor": "white",
           "landcolor": "#E5ECF6",
           "showlakes": true,
           "showland": true,
           "subunitcolor": "white"
          },
          "hoverlabel": {
           "align": "left"
          },
          "hovermode": "closest",
          "mapbox": {
           "style": "light"
          },
          "paper_bgcolor": "white",
          "plot_bgcolor": "#E5ECF6",
          "polar": {
           "angularaxis": {
            "gridcolor": "white",
            "linecolor": "white",
            "ticks": ""
           },
           "bgcolor": "#E5ECF6",
           "radialaxis": {
            "gridcolor": "white",
            "linecolor": "white",
            "ticks": ""
           }
          },
          "scene": {
           "xaxis": {
            "backgroundcolor": "#E5ECF6",
            "gridcolor": "white",
            "gridwidth": 2,
            "linecolor": "white",
            "showbackground": true,
            "ticks": "",
            "zerolinecolor": "white"
           },
           "yaxis": {
            "backgroundcolor": "#E5ECF6",
            "gridcolor": "white",
            "gridwidth": 2,
            "linecolor": "white",
            "showbackground": true,
            "ticks": "",
            "zerolinecolor": "white"
           },
           "zaxis": {
            "backgroundcolor": "#E5ECF6",
            "gridcolor": "white",
            "gridwidth": 2,
            "linecolor": "white",
            "showbackground": true,
            "ticks": "",
            "zerolinecolor": "white"
           }
          },
          "shapedefaults": {
           "line": {
            "color": "#2a3f5f"
           }
          },
          "ternary": {
           "aaxis": {
            "gridcolor": "white",
            "linecolor": "white",
            "ticks": ""
           },
           "baxis": {
            "gridcolor": "white",
            "linecolor": "white",
            "ticks": ""
           },
           "bgcolor": "#E5ECF6",
           "caxis": {
            "gridcolor": "white",
            "linecolor": "white",
            "ticks": ""
           }
          },
          "title": {
           "x": 0.05
          },
          "xaxis": {
           "automargin": true,
           "gridcolor": "white",
           "linecolor": "white",
           "ticks": "",
           "title": {
            "standoff": 15
           },
           "zerolinecolor": "white",
           "zerolinewidth": 2
          },
          "yaxis": {
           "automargin": true,
           "gridcolor": "white",
           "linecolor": "white",
           "ticks": "",
           "title": {
            "standoff": 15
           },
           "zerolinecolor": "white",
           "zerolinewidth": 2
          }
         }
        },
        "title": {
         "text": "Angular Velocity Delta (rad/s)v Time Graph"
        },
        "xaxis": {
         "anchor": "y",
         "domain": [
          0,
          1
         ],
         "title": {
          "text": "x"
         }
        },
        "yaxis": {
         "anchor": "x",
         "domain": [
          0,
          1
         ],
         "title": {
          "text": "y"
         }
        }
       }
      }
     },
     "metadata": {},
     "output_type": "display_data"
    },
    {
     "data": {
      "application/vnd.plotly.v1+json": {
       "config": {
        "plotlyServerURL": "https://plot.ly"
       },
       "data": [
        {
         "hovertemplate": "x=%{x}<br>y=%{y}<extra></extra>",
         "legendgroup": "",
         "line": {
          "color": "#636efa",
          "dash": "solid"
         },
         "marker": {
          "symbol": "circle"
         },
         "mode": "lines",
         "name": "",
         "orientation": "v",
         "showlegend": false,
         "type": "scatter",
         "x": [
          1,
          2,
          3,
          4,
          5,
          6,
          7,
          8,
          9,
          10,
          11,
          12,
          13,
          14,
          15,
          16,
          17,
          18,
          19,
          20,
          21,
          22,
          23,
          24,
          25,
          26,
          27,
          28,
          29,
          30,
          31,
          32,
          33,
          34,
          35,
          36,
          37,
          38,
          39,
          40,
          41,
          42,
          43,
          44,
          45,
          46,
          47,
          48,
          49,
          50,
          51,
          52,
          53,
          54,
          55,
          56,
          57,
          58,
          59,
          60,
          61,
          62,
          63,
          64,
          65,
          66,
          67,
          68,
          69,
          70,
          71,
          72,
          73,
          74,
          75,
          76,
          77,
          78,
          79,
          80,
          81,
          82,
          83,
          84,
          85,
          86,
          87,
          88,
          89,
          90,
          91,
          92,
          93,
          94,
          95,
          96,
          97,
          98,
          99,
          100,
          101,
          102,
          103,
          104,
          105,
          106,
          107,
          108,
          109,
          110,
          111,
          112,
          113,
          114,
          115,
          116,
          117,
          118,
          119,
          120,
          121,
          122,
          123,
          124,
          125,
          126,
          127,
          128,
          129,
          130,
          131,
          132,
          133,
          134,
          135,
          136,
          137,
          138,
          139,
          140,
          141,
          142,
          143,
          144,
          145,
          146,
          147,
          148,
          149,
          150,
          151,
          152,
          153,
          154,
          155,
          156,
          157,
          158,
          159,
          160,
          161,
          162,
          163,
          164,
          165,
          166,
          167,
          168,
          169,
          170,
          171,
          172,
          173,
          174,
          175,
          176,
          177,
          178,
          179,
          180,
          181,
          182,
          183,
          184,
          185,
          186,
          187,
          188,
          189,
          190,
          191,
          192,
          193,
          194,
          195,
          196,
          197,
          198,
          199,
          200
         ],
         "xaxis": "x",
         "y": [
          null,
          null,
          null,
          null,
          null,
          null,
          null,
          null,
          null,
          null,
          null,
          null,
          null,
          null,
          null,
          null,
          null,
          null,
          null,
          null,
          null,
          null,
          null,
          null,
          null,
          null,
          null,
          null,
          null,
          null,
          null,
          null,
          null,
          null,
          null,
          null,
          null,
          null,
          null,
          null,
          null,
          null,
          null,
          null,
          null,
          null,
          null,
          null,
          null,
          null,
          null,
          null,
          null,
          null,
          null,
          null,
          null,
          null,
          null,
          null,
          null,
          null,
          null,
          null,
          null,
          null,
          null,
          null,
          null,
          null,
          null,
          null,
          null,
          null,
          null,
          null,
          null,
          null,
          null,
          null,
          null,
          null,
          null,
          null,
          null,
          null,
          null,
          null,
          null,
          null,
          null,
          null,
          null,
          null,
          null,
          null,
          null,
          null,
          null,
          null,
          null,
          null,
          null,
          null,
          null,
          null,
          null,
          null,
          null,
          null,
          null,
          null,
          null,
          null,
          null,
          null,
          null,
          null,
          null,
          null,
          null,
          null,
          null,
          null,
          null,
          null,
          null,
          null,
          null,
          null,
          null,
          null,
          null,
          null,
          null,
          null,
          null,
          null,
          null,
          null,
          null,
          null,
          null,
          null,
          null,
          null,
          null,
          null,
          null,
          null,
          null,
          null,
          null,
          null,
          null,
          null,
          null,
          null,
          null,
          null,
          null,
          null,
          null,
          null,
          null,
          null,
          null,
          null,
          null,
          null,
          null,
          null,
          null,
          null,
          null,
          null,
          null,
          null,
          null,
          null,
          null,
          null,
          null,
          null,
          null,
          null,
          null,
          null,
          null,
          null,
          null,
          null,
          null,
          null,
          null,
          null,
          null,
          null,
          null,
          null
         ],
         "yaxis": "y"
        }
       ],
       "layout": {
        "legend": {
         "tracegroupgap": 0
        },
        "template": {
         "data": {
          "bar": [
           {
            "error_x": {
             "color": "#2a3f5f"
            },
            "error_y": {
             "color": "#2a3f5f"
            },
            "marker": {
             "line": {
              "color": "#E5ECF6",
              "width": 0.5
             },
             "pattern": {
              "fillmode": "overlay",
              "size": 10,
              "solidity": 0.2
             }
            },
            "type": "bar"
           }
          ],
          "barpolar": [
           {
            "marker": {
             "line": {
              "color": "#E5ECF6",
              "width": 0.5
             },
             "pattern": {
              "fillmode": "overlay",
              "size": 10,
              "solidity": 0.2
             }
            },
            "type": "barpolar"
           }
          ],
          "carpet": [
           {
            "aaxis": {
             "endlinecolor": "#2a3f5f",
             "gridcolor": "white",
             "linecolor": "white",
             "minorgridcolor": "white",
             "startlinecolor": "#2a3f5f"
            },
            "baxis": {
             "endlinecolor": "#2a3f5f",
             "gridcolor": "white",
             "linecolor": "white",
             "minorgridcolor": "white",
             "startlinecolor": "#2a3f5f"
            },
            "type": "carpet"
           }
          ],
          "choropleth": [
           {
            "colorbar": {
             "outlinewidth": 0,
             "ticks": ""
            },
            "type": "choropleth"
           }
          ],
          "contour": [
           {
            "colorbar": {
             "outlinewidth": 0,
             "ticks": ""
            },
            "colorscale": [
             [
              0,
              "#0d0887"
             ],
             [
              0.1111111111111111,
              "#46039f"
             ],
             [
              0.2222222222222222,
              "#7201a8"
             ],
             [
              0.3333333333333333,
              "#9c179e"
             ],
             [
              0.4444444444444444,
              "#bd3786"
             ],
             [
              0.5555555555555556,
              "#d8576b"
             ],
             [
              0.6666666666666666,
              "#ed7953"
             ],
             [
              0.7777777777777778,
              "#fb9f3a"
             ],
             [
              0.8888888888888888,
              "#fdca26"
             ],
             [
              1,
              "#f0f921"
             ]
            ],
            "type": "contour"
           }
          ],
          "contourcarpet": [
           {
            "colorbar": {
             "outlinewidth": 0,
             "ticks": ""
            },
            "type": "contourcarpet"
           }
          ],
          "heatmap": [
           {
            "colorbar": {
             "outlinewidth": 0,
             "ticks": ""
            },
            "colorscale": [
             [
              0,
              "#0d0887"
             ],
             [
              0.1111111111111111,
              "#46039f"
             ],
             [
              0.2222222222222222,
              "#7201a8"
             ],
             [
              0.3333333333333333,
              "#9c179e"
             ],
             [
              0.4444444444444444,
              "#bd3786"
             ],
             [
              0.5555555555555556,
              "#d8576b"
             ],
             [
              0.6666666666666666,
              "#ed7953"
             ],
             [
              0.7777777777777778,
              "#fb9f3a"
             ],
             [
              0.8888888888888888,
              "#fdca26"
             ],
             [
              1,
              "#f0f921"
             ]
            ],
            "type": "heatmap"
           }
          ],
          "heatmapgl": [
           {
            "colorbar": {
             "outlinewidth": 0,
             "ticks": ""
            },
            "colorscale": [
             [
              0,
              "#0d0887"
             ],
             [
              0.1111111111111111,
              "#46039f"
             ],
             [
              0.2222222222222222,
              "#7201a8"
             ],
             [
              0.3333333333333333,
              "#9c179e"
             ],
             [
              0.4444444444444444,
              "#bd3786"
             ],
             [
              0.5555555555555556,
              "#d8576b"
             ],
             [
              0.6666666666666666,
              "#ed7953"
             ],
             [
              0.7777777777777778,
              "#fb9f3a"
             ],
             [
              0.8888888888888888,
              "#fdca26"
             ],
             [
              1,
              "#f0f921"
             ]
            ],
            "type": "heatmapgl"
           }
          ],
          "histogram": [
           {
            "marker": {
             "pattern": {
              "fillmode": "overlay",
              "size": 10,
              "solidity": 0.2
             }
            },
            "type": "histogram"
           }
          ],
          "histogram2d": [
           {
            "colorbar": {
             "outlinewidth": 0,
             "ticks": ""
            },
            "colorscale": [
             [
              0,
              "#0d0887"
             ],
             [
              0.1111111111111111,
              "#46039f"
             ],
             [
              0.2222222222222222,
              "#7201a8"
             ],
             [
              0.3333333333333333,
              "#9c179e"
             ],
             [
              0.4444444444444444,
              "#bd3786"
             ],
             [
              0.5555555555555556,
              "#d8576b"
             ],
             [
              0.6666666666666666,
              "#ed7953"
             ],
             [
              0.7777777777777778,
              "#fb9f3a"
             ],
             [
              0.8888888888888888,
              "#fdca26"
             ],
             [
              1,
              "#f0f921"
             ]
            ],
            "type": "histogram2d"
           }
          ],
          "histogram2dcontour": [
           {
            "colorbar": {
             "outlinewidth": 0,
             "ticks": ""
            },
            "colorscale": [
             [
              0,
              "#0d0887"
             ],
             [
              0.1111111111111111,
              "#46039f"
             ],
             [
              0.2222222222222222,
              "#7201a8"
             ],
             [
              0.3333333333333333,
              "#9c179e"
             ],
             [
              0.4444444444444444,
              "#bd3786"
             ],
             [
              0.5555555555555556,
              "#d8576b"
             ],
             [
              0.6666666666666666,
              "#ed7953"
             ],
             [
              0.7777777777777778,
              "#fb9f3a"
             ],
             [
              0.8888888888888888,
              "#fdca26"
             ],
             [
              1,
              "#f0f921"
             ]
            ],
            "type": "histogram2dcontour"
           }
          ],
          "mesh3d": [
           {
            "colorbar": {
             "outlinewidth": 0,
             "ticks": ""
            },
            "type": "mesh3d"
           }
          ],
          "parcoords": [
           {
            "line": {
             "colorbar": {
              "outlinewidth": 0,
              "ticks": ""
             }
            },
            "type": "parcoords"
           }
          ],
          "pie": [
           {
            "automargin": true,
            "type": "pie"
           }
          ],
          "scatter": [
           {
            "fillpattern": {
             "fillmode": "overlay",
             "size": 10,
             "solidity": 0.2
            },
            "type": "scatter"
           }
          ],
          "scatter3d": [
           {
            "line": {
             "colorbar": {
              "outlinewidth": 0,
              "ticks": ""
             }
            },
            "marker": {
             "colorbar": {
              "outlinewidth": 0,
              "ticks": ""
             }
            },
            "type": "scatter3d"
           }
          ],
          "scattercarpet": [
           {
            "marker": {
             "colorbar": {
              "outlinewidth": 0,
              "ticks": ""
             }
            },
            "type": "scattercarpet"
           }
          ],
          "scattergeo": [
           {
            "marker": {
             "colorbar": {
              "outlinewidth": 0,
              "ticks": ""
             }
            },
            "type": "scattergeo"
           }
          ],
          "scattergl": [
           {
            "marker": {
             "colorbar": {
              "outlinewidth": 0,
              "ticks": ""
             }
            },
            "type": "scattergl"
           }
          ],
          "scattermapbox": [
           {
            "marker": {
             "colorbar": {
              "outlinewidth": 0,
              "ticks": ""
             }
            },
            "type": "scattermapbox"
           }
          ],
          "scatterpolar": [
           {
            "marker": {
             "colorbar": {
              "outlinewidth": 0,
              "ticks": ""
             }
            },
            "type": "scatterpolar"
           }
          ],
          "scatterpolargl": [
           {
            "marker": {
             "colorbar": {
              "outlinewidth": 0,
              "ticks": ""
             }
            },
            "type": "scatterpolargl"
           }
          ],
          "scatterternary": [
           {
            "marker": {
             "colorbar": {
              "outlinewidth": 0,
              "ticks": ""
             }
            },
            "type": "scatterternary"
           }
          ],
          "surface": [
           {
            "colorbar": {
             "outlinewidth": 0,
             "ticks": ""
            },
            "colorscale": [
             [
              0,
              "#0d0887"
             ],
             [
              0.1111111111111111,
              "#46039f"
             ],
             [
              0.2222222222222222,
              "#7201a8"
             ],
             [
              0.3333333333333333,
              "#9c179e"
             ],
             [
              0.4444444444444444,
              "#bd3786"
             ],
             [
              0.5555555555555556,
              "#d8576b"
             ],
             [
              0.6666666666666666,
              "#ed7953"
             ],
             [
              0.7777777777777778,
              "#fb9f3a"
             ],
             [
              0.8888888888888888,
              "#fdca26"
             ],
             [
              1,
              "#f0f921"
             ]
            ],
            "type": "surface"
           }
          ],
          "table": [
           {
            "cells": {
             "fill": {
              "color": "#EBF0F8"
             },
             "line": {
              "color": "white"
             }
            },
            "header": {
             "fill": {
              "color": "#C8D4E3"
             },
             "line": {
              "color": "white"
             }
            },
            "type": "table"
           }
          ]
         },
         "layout": {
          "annotationdefaults": {
           "arrowcolor": "#2a3f5f",
           "arrowhead": 0,
           "arrowwidth": 1
          },
          "autotypenumbers": "strict",
          "coloraxis": {
           "colorbar": {
            "outlinewidth": 0,
            "ticks": ""
           }
          },
          "colorscale": {
           "diverging": [
            [
             0,
             "#8e0152"
            ],
            [
             0.1,
             "#c51b7d"
            ],
            [
             0.2,
             "#de77ae"
            ],
            [
             0.3,
             "#f1b6da"
            ],
            [
             0.4,
             "#fde0ef"
            ],
            [
             0.5,
             "#f7f7f7"
            ],
            [
             0.6,
             "#e6f5d0"
            ],
            [
             0.7,
             "#b8e186"
            ],
            [
             0.8,
             "#7fbc41"
            ],
            [
             0.9,
             "#4d9221"
            ],
            [
             1,
             "#276419"
            ]
           ],
           "sequential": [
            [
             0,
             "#0d0887"
            ],
            [
             0.1111111111111111,
             "#46039f"
            ],
            [
             0.2222222222222222,
             "#7201a8"
            ],
            [
             0.3333333333333333,
             "#9c179e"
            ],
            [
             0.4444444444444444,
             "#bd3786"
            ],
            [
             0.5555555555555556,
             "#d8576b"
            ],
            [
             0.6666666666666666,
             "#ed7953"
            ],
            [
             0.7777777777777778,
             "#fb9f3a"
            ],
            [
             0.8888888888888888,
             "#fdca26"
            ],
            [
             1,
             "#f0f921"
            ]
           ],
           "sequentialminus": [
            [
             0,
             "#0d0887"
            ],
            [
             0.1111111111111111,
             "#46039f"
            ],
            [
             0.2222222222222222,
             "#7201a8"
            ],
            [
             0.3333333333333333,
             "#9c179e"
            ],
            [
             0.4444444444444444,
             "#bd3786"
            ],
            [
             0.5555555555555556,
             "#d8576b"
            ],
            [
             0.6666666666666666,
             "#ed7953"
            ],
            [
             0.7777777777777778,
             "#fb9f3a"
            ],
            [
             0.8888888888888888,
             "#fdca26"
            ],
            [
             1,
             "#f0f921"
            ]
           ]
          },
          "colorway": [
           "#636efa",
           "#EF553B",
           "#00cc96",
           "#ab63fa",
           "#FFA15A",
           "#19d3f3",
           "#FF6692",
           "#B6E880",
           "#FF97FF",
           "#FECB52"
          ],
          "font": {
           "color": "#2a3f5f"
          },
          "geo": {
           "bgcolor": "white",
           "lakecolor": "white",
           "landcolor": "#E5ECF6",
           "showlakes": true,
           "showland": true,
           "subunitcolor": "white"
          },
          "hoverlabel": {
           "align": "left"
          },
          "hovermode": "closest",
          "mapbox": {
           "style": "light"
          },
          "paper_bgcolor": "white",
          "plot_bgcolor": "#E5ECF6",
          "polar": {
           "angularaxis": {
            "gridcolor": "white",
            "linecolor": "white",
            "ticks": ""
           },
           "bgcolor": "#E5ECF6",
           "radialaxis": {
            "gridcolor": "white",
            "linecolor": "white",
            "ticks": ""
           }
          },
          "scene": {
           "xaxis": {
            "backgroundcolor": "#E5ECF6",
            "gridcolor": "white",
            "gridwidth": 2,
            "linecolor": "white",
            "showbackground": true,
            "ticks": "",
            "zerolinecolor": "white"
           },
           "yaxis": {
            "backgroundcolor": "#E5ECF6",
            "gridcolor": "white",
            "gridwidth": 2,
            "linecolor": "white",
            "showbackground": true,
            "ticks": "",
            "zerolinecolor": "white"
           },
           "zaxis": {
            "backgroundcolor": "#E5ECF6",
            "gridcolor": "white",
            "gridwidth": 2,
            "linecolor": "white",
            "showbackground": true,
            "ticks": "",
            "zerolinecolor": "white"
           }
          },
          "shapedefaults": {
           "line": {
            "color": "#2a3f5f"
           }
          },
          "ternary": {
           "aaxis": {
            "gridcolor": "white",
            "linecolor": "white",
            "ticks": ""
           },
           "baxis": {
            "gridcolor": "white",
            "linecolor": "white",
            "ticks": ""
           },
           "bgcolor": "#E5ECF6",
           "caxis": {
            "gridcolor": "white",
            "linecolor": "white",
            "ticks": ""
           }
          },
          "title": {
           "x": 0.05
          },
          "xaxis": {
           "automargin": true,
           "gridcolor": "white",
           "linecolor": "white",
           "ticks": "",
           "title": {
            "standoff": 15
           },
           "zerolinecolor": "white",
           "zerolinewidth": 2
          },
          "yaxis": {
           "automargin": true,
           "gridcolor": "white",
           "linecolor": "white",
           "ticks": "",
           "title": {
            "standoff": 15
           },
           "zerolinecolor": "white",
           "zerolinewidth": 2
          }
         }
        },
        "title": {
         "text": "Velocity in MPH v Time Graph"
        },
        "xaxis": {
         "anchor": "y",
         "domain": [
          0,
          1
         ],
         "title": {
          "text": "x"
         }
        },
        "yaxis": {
         "anchor": "x",
         "domain": [
          0,
          1
         ],
         "title": {
          "text": "y"
         }
        }
       }
      }
     },
     "metadata": {},
     "output_type": "display_data"
    },
    {
     "data": {
      "application/vnd.plotly.v1+json": {
       "config": {
        "plotlyServerURL": "https://plot.ly"
       },
       "data": [
        {
         "hovertemplate": "x=%{x}<br>y=%{y}<extra></extra>",
         "legendgroup": "",
         "line": {
          "color": "#636efa",
          "dash": "solid"
         },
         "marker": {
          "symbol": "circle"
         },
         "mode": "lines",
         "name": "",
         "orientation": "v",
         "showlegend": false,
         "type": "scatter",
         "x": [
          1,
          2,
          3,
          4,
          5,
          6,
          7,
          8,
          9,
          10,
          11,
          12,
          13,
          14,
          15,
          16,
          17,
          18,
          19,
          20,
          21,
          22,
          23,
          24,
          25,
          26,
          27,
          28,
          29,
          30,
          31,
          32,
          33,
          34,
          35,
          36,
          37,
          38,
          39,
          40,
          41,
          42,
          43,
          44,
          45,
          46,
          47,
          48,
          49,
          50,
          51,
          52,
          53,
          54,
          55,
          56,
          57,
          58,
          59,
          60,
          61,
          62,
          63,
          64,
          65,
          66,
          67,
          68,
          69,
          70,
          71,
          72,
          73,
          74,
          75,
          76,
          77,
          78,
          79,
          80,
          81,
          82,
          83,
          84,
          85,
          86,
          87,
          88,
          89,
          90,
          91,
          92,
          93,
          94,
          95,
          96,
          97,
          98,
          99,
          100,
          101,
          102,
          103,
          104,
          105,
          106,
          107,
          108,
          109,
          110,
          111,
          112,
          113,
          114,
          115,
          116,
          117,
          118,
          119,
          120,
          121,
          122,
          123,
          124,
          125,
          126,
          127,
          128,
          129,
          130,
          131,
          132,
          133,
          134,
          135,
          136,
          137,
          138,
          139,
          140,
          141,
          142,
          143,
          144,
          145,
          146,
          147,
          148,
          149,
          150,
          151,
          152,
          153,
          154,
          155,
          156,
          157,
          158,
          159,
          160,
          161,
          162,
          163,
          164,
          165,
          166,
          167,
          168,
          169,
          170,
          171,
          172,
          173,
          174,
          175,
          176,
          177,
          178,
          179,
          180,
          181,
          182,
          183,
          184,
          185,
          186,
          187,
          188,
          189,
          190,
          191,
          192,
          193,
          194,
          195,
          196,
          197,
          198,
          199,
          200
         ],
         "xaxis": "x",
         "y": [
          null,
          null,
          null,
          null,
          null,
          null,
          null,
          null,
          null,
          null,
          null,
          null,
          null,
          null,
          null,
          null,
          null,
          null,
          null,
          null,
          null,
          null,
          null,
          null,
          null,
          null,
          null,
          null,
          null,
          null,
          null,
          null,
          null,
          null,
          null,
          null,
          null,
          null,
          null,
          null,
          null,
          null,
          null,
          null,
          null,
          null,
          null,
          null,
          null,
          null,
          null,
          null,
          null,
          null,
          null,
          null,
          null,
          null,
          null,
          null,
          null,
          null,
          null,
          null,
          null,
          null,
          null,
          null,
          null,
          null,
          null,
          null,
          null,
          null,
          null,
          null,
          null,
          null,
          null,
          null,
          null,
          null,
          null,
          null,
          null,
          null,
          null,
          null,
          null,
          null,
          null,
          null,
          null,
          null,
          null,
          null,
          null,
          null,
          null,
          null,
          null,
          null,
          null,
          null,
          null,
          null,
          null,
          null,
          null,
          null,
          null,
          null,
          null,
          null,
          null,
          null,
          null,
          null,
          null,
          null,
          null,
          null,
          null,
          null,
          null,
          null,
          null,
          null,
          null,
          null,
          null,
          null,
          null,
          null,
          null,
          null,
          null,
          null,
          null,
          null,
          null,
          null,
          null,
          null,
          null,
          null,
          null,
          null,
          null,
          null,
          null,
          null,
          null,
          null,
          null,
          null,
          null,
          null,
          null,
          null,
          null,
          null,
          null,
          null,
          null,
          null,
          null,
          null,
          null,
          null,
          null,
          null,
          null,
          null,
          null,
          null,
          null,
          null,
          null,
          null,
          null,
          null,
          null,
          null,
          null,
          null,
          null,
          null,
          null,
          null,
          null,
          null,
          null,
          null,
          null,
          null,
          null,
          null,
          null,
          null
         ],
         "yaxis": "y"
        }
       ],
       "layout": {
        "legend": {
         "tracegroupgap": 0
        },
        "template": {
         "data": {
          "bar": [
           {
            "error_x": {
             "color": "#2a3f5f"
            },
            "error_y": {
             "color": "#2a3f5f"
            },
            "marker": {
             "line": {
              "color": "#E5ECF6",
              "width": 0.5
             },
             "pattern": {
              "fillmode": "overlay",
              "size": 10,
              "solidity": 0.2
             }
            },
            "type": "bar"
           }
          ],
          "barpolar": [
           {
            "marker": {
             "line": {
              "color": "#E5ECF6",
              "width": 0.5
             },
             "pattern": {
              "fillmode": "overlay",
              "size": 10,
              "solidity": 0.2
             }
            },
            "type": "barpolar"
           }
          ],
          "carpet": [
           {
            "aaxis": {
             "endlinecolor": "#2a3f5f",
             "gridcolor": "white",
             "linecolor": "white",
             "minorgridcolor": "white",
             "startlinecolor": "#2a3f5f"
            },
            "baxis": {
             "endlinecolor": "#2a3f5f",
             "gridcolor": "white",
             "linecolor": "white",
             "minorgridcolor": "white",
             "startlinecolor": "#2a3f5f"
            },
            "type": "carpet"
           }
          ],
          "choropleth": [
           {
            "colorbar": {
             "outlinewidth": 0,
             "ticks": ""
            },
            "type": "choropleth"
           }
          ],
          "contour": [
           {
            "colorbar": {
             "outlinewidth": 0,
             "ticks": ""
            },
            "colorscale": [
             [
              0,
              "#0d0887"
             ],
             [
              0.1111111111111111,
              "#46039f"
             ],
             [
              0.2222222222222222,
              "#7201a8"
             ],
             [
              0.3333333333333333,
              "#9c179e"
             ],
             [
              0.4444444444444444,
              "#bd3786"
             ],
             [
              0.5555555555555556,
              "#d8576b"
             ],
             [
              0.6666666666666666,
              "#ed7953"
             ],
             [
              0.7777777777777778,
              "#fb9f3a"
             ],
             [
              0.8888888888888888,
              "#fdca26"
             ],
             [
              1,
              "#f0f921"
             ]
            ],
            "type": "contour"
           }
          ],
          "contourcarpet": [
           {
            "colorbar": {
             "outlinewidth": 0,
             "ticks": ""
            },
            "type": "contourcarpet"
           }
          ],
          "heatmap": [
           {
            "colorbar": {
             "outlinewidth": 0,
             "ticks": ""
            },
            "colorscale": [
             [
              0,
              "#0d0887"
             ],
             [
              0.1111111111111111,
              "#46039f"
             ],
             [
              0.2222222222222222,
              "#7201a8"
             ],
             [
              0.3333333333333333,
              "#9c179e"
             ],
             [
              0.4444444444444444,
              "#bd3786"
             ],
             [
              0.5555555555555556,
              "#d8576b"
             ],
             [
              0.6666666666666666,
              "#ed7953"
             ],
             [
              0.7777777777777778,
              "#fb9f3a"
             ],
             [
              0.8888888888888888,
              "#fdca26"
             ],
             [
              1,
              "#f0f921"
             ]
            ],
            "type": "heatmap"
           }
          ],
          "heatmapgl": [
           {
            "colorbar": {
             "outlinewidth": 0,
             "ticks": ""
            },
            "colorscale": [
             [
              0,
              "#0d0887"
             ],
             [
              0.1111111111111111,
              "#46039f"
             ],
             [
              0.2222222222222222,
              "#7201a8"
             ],
             [
              0.3333333333333333,
              "#9c179e"
             ],
             [
              0.4444444444444444,
              "#bd3786"
             ],
             [
              0.5555555555555556,
              "#d8576b"
             ],
             [
              0.6666666666666666,
              "#ed7953"
             ],
             [
              0.7777777777777778,
              "#fb9f3a"
             ],
             [
              0.8888888888888888,
              "#fdca26"
             ],
             [
              1,
              "#f0f921"
             ]
            ],
            "type": "heatmapgl"
           }
          ],
          "histogram": [
           {
            "marker": {
             "pattern": {
              "fillmode": "overlay",
              "size": 10,
              "solidity": 0.2
             }
            },
            "type": "histogram"
           }
          ],
          "histogram2d": [
           {
            "colorbar": {
             "outlinewidth": 0,
             "ticks": ""
            },
            "colorscale": [
             [
              0,
              "#0d0887"
             ],
             [
              0.1111111111111111,
              "#46039f"
             ],
             [
              0.2222222222222222,
              "#7201a8"
             ],
             [
              0.3333333333333333,
              "#9c179e"
             ],
             [
              0.4444444444444444,
              "#bd3786"
             ],
             [
              0.5555555555555556,
              "#d8576b"
             ],
             [
              0.6666666666666666,
              "#ed7953"
             ],
             [
              0.7777777777777778,
              "#fb9f3a"
             ],
             [
              0.8888888888888888,
              "#fdca26"
             ],
             [
              1,
              "#f0f921"
             ]
            ],
            "type": "histogram2d"
           }
          ],
          "histogram2dcontour": [
           {
            "colorbar": {
             "outlinewidth": 0,
             "ticks": ""
            },
            "colorscale": [
             [
              0,
              "#0d0887"
             ],
             [
              0.1111111111111111,
              "#46039f"
             ],
             [
              0.2222222222222222,
              "#7201a8"
             ],
             [
              0.3333333333333333,
              "#9c179e"
             ],
             [
              0.4444444444444444,
              "#bd3786"
             ],
             [
              0.5555555555555556,
              "#d8576b"
             ],
             [
              0.6666666666666666,
              "#ed7953"
             ],
             [
              0.7777777777777778,
              "#fb9f3a"
             ],
             [
              0.8888888888888888,
              "#fdca26"
             ],
             [
              1,
              "#f0f921"
             ]
            ],
            "type": "histogram2dcontour"
           }
          ],
          "mesh3d": [
           {
            "colorbar": {
             "outlinewidth": 0,
             "ticks": ""
            },
            "type": "mesh3d"
           }
          ],
          "parcoords": [
           {
            "line": {
             "colorbar": {
              "outlinewidth": 0,
              "ticks": ""
             }
            },
            "type": "parcoords"
           }
          ],
          "pie": [
           {
            "automargin": true,
            "type": "pie"
           }
          ],
          "scatter": [
           {
            "fillpattern": {
             "fillmode": "overlay",
             "size": 10,
             "solidity": 0.2
            },
            "type": "scatter"
           }
          ],
          "scatter3d": [
           {
            "line": {
             "colorbar": {
              "outlinewidth": 0,
              "ticks": ""
             }
            },
            "marker": {
             "colorbar": {
              "outlinewidth": 0,
              "ticks": ""
             }
            },
            "type": "scatter3d"
           }
          ],
          "scattercarpet": [
           {
            "marker": {
             "colorbar": {
              "outlinewidth": 0,
              "ticks": ""
             }
            },
            "type": "scattercarpet"
           }
          ],
          "scattergeo": [
           {
            "marker": {
             "colorbar": {
              "outlinewidth": 0,
              "ticks": ""
             }
            },
            "type": "scattergeo"
           }
          ],
          "scattergl": [
           {
            "marker": {
             "colorbar": {
              "outlinewidth": 0,
              "ticks": ""
             }
            },
            "type": "scattergl"
           }
          ],
          "scattermapbox": [
           {
            "marker": {
             "colorbar": {
              "outlinewidth": 0,
              "ticks": ""
             }
            },
            "type": "scattermapbox"
           }
          ],
          "scatterpolar": [
           {
            "marker": {
             "colorbar": {
              "outlinewidth": 0,
              "ticks": ""
             }
            },
            "type": "scatterpolar"
           }
          ],
          "scatterpolargl": [
           {
            "marker": {
             "colorbar": {
              "outlinewidth": 0,
              "ticks": ""
             }
            },
            "type": "scatterpolargl"
           }
          ],
          "scatterternary": [
           {
            "marker": {
             "colorbar": {
              "outlinewidth": 0,
              "ticks": ""
             }
            },
            "type": "scatterternary"
           }
          ],
          "surface": [
           {
            "colorbar": {
             "outlinewidth": 0,
             "ticks": ""
            },
            "colorscale": [
             [
              0,
              "#0d0887"
             ],
             [
              0.1111111111111111,
              "#46039f"
             ],
             [
              0.2222222222222222,
              "#7201a8"
             ],
             [
              0.3333333333333333,
              "#9c179e"
             ],
             [
              0.4444444444444444,
              "#bd3786"
             ],
             [
              0.5555555555555556,
              "#d8576b"
             ],
             [
              0.6666666666666666,
              "#ed7953"
             ],
             [
              0.7777777777777778,
              "#fb9f3a"
             ],
             [
              0.8888888888888888,
              "#fdca26"
             ],
             [
              1,
              "#f0f921"
             ]
            ],
            "type": "surface"
           }
          ],
          "table": [
           {
            "cells": {
             "fill": {
              "color": "#EBF0F8"
             },
             "line": {
              "color": "white"
             }
            },
            "header": {
             "fill": {
              "color": "#C8D4E3"
             },
             "line": {
              "color": "white"
             }
            },
            "type": "table"
           }
          ]
         },
         "layout": {
          "annotationdefaults": {
           "arrowcolor": "#2a3f5f",
           "arrowhead": 0,
           "arrowwidth": 1
          },
          "autotypenumbers": "strict",
          "coloraxis": {
           "colorbar": {
            "outlinewidth": 0,
            "ticks": ""
           }
          },
          "colorscale": {
           "diverging": [
            [
             0,
             "#8e0152"
            ],
            [
             0.1,
             "#c51b7d"
            ],
            [
             0.2,
             "#de77ae"
            ],
            [
             0.3,
             "#f1b6da"
            ],
            [
             0.4,
             "#fde0ef"
            ],
            [
             0.5,
             "#f7f7f7"
            ],
            [
             0.6,
             "#e6f5d0"
            ],
            [
             0.7,
             "#b8e186"
            ],
            [
             0.8,
             "#7fbc41"
            ],
            [
             0.9,
             "#4d9221"
            ],
            [
             1,
             "#276419"
            ]
           ],
           "sequential": [
            [
             0,
             "#0d0887"
            ],
            [
             0.1111111111111111,
             "#46039f"
            ],
            [
             0.2222222222222222,
             "#7201a8"
            ],
            [
             0.3333333333333333,
             "#9c179e"
            ],
            [
             0.4444444444444444,
             "#bd3786"
            ],
            [
             0.5555555555555556,
             "#d8576b"
            ],
            [
             0.6666666666666666,
             "#ed7953"
            ],
            [
             0.7777777777777778,
             "#fb9f3a"
            ],
            [
             0.8888888888888888,
             "#fdca26"
            ],
            [
             1,
             "#f0f921"
            ]
           ],
           "sequentialminus": [
            [
             0,
             "#0d0887"
            ],
            [
             0.1111111111111111,
             "#46039f"
            ],
            [
             0.2222222222222222,
             "#7201a8"
            ],
            [
             0.3333333333333333,
             "#9c179e"
            ],
            [
             0.4444444444444444,
             "#bd3786"
            ],
            [
             0.5555555555555556,
             "#d8576b"
            ],
            [
             0.6666666666666666,
             "#ed7953"
            ],
            [
             0.7777777777777778,
             "#fb9f3a"
            ],
            [
             0.8888888888888888,
             "#fdca26"
            ],
            [
             1,
             "#f0f921"
            ]
           ]
          },
          "colorway": [
           "#636efa",
           "#EF553B",
           "#00cc96",
           "#ab63fa",
           "#FFA15A",
           "#19d3f3",
           "#FF6692",
           "#B6E880",
           "#FF97FF",
           "#FECB52"
          ],
          "font": {
           "color": "#2a3f5f"
          },
          "geo": {
           "bgcolor": "white",
           "lakecolor": "white",
           "landcolor": "#E5ECF6",
           "showlakes": true,
           "showland": true,
           "subunitcolor": "white"
          },
          "hoverlabel": {
           "align": "left"
          },
          "hovermode": "closest",
          "mapbox": {
           "style": "light"
          },
          "paper_bgcolor": "white",
          "plot_bgcolor": "#E5ECF6",
          "polar": {
           "angularaxis": {
            "gridcolor": "white",
            "linecolor": "white",
            "ticks": ""
           },
           "bgcolor": "#E5ECF6",
           "radialaxis": {
            "gridcolor": "white",
            "linecolor": "white",
            "ticks": ""
           }
          },
          "scene": {
           "xaxis": {
            "backgroundcolor": "#E5ECF6",
            "gridcolor": "white",
            "gridwidth": 2,
            "linecolor": "white",
            "showbackground": true,
            "ticks": "",
            "zerolinecolor": "white"
           },
           "yaxis": {
            "backgroundcolor": "#E5ECF6",
            "gridcolor": "white",
            "gridwidth": 2,
            "linecolor": "white",
            "showbackground": true,
            "ticks": "",
            "zerolinecolor": "white"
           },
           "zaxis": {
            "backgroundcolor": "#E5ECF6",
            "gridcolor": "white",
            "gridwidth": 2,
            "linecolor": "white",
            "showbackground": true,
            "ticks": "",
            "zerolinecolor": "white"
           }
          },
          "shapedefaults": {
           "line": {
            "color": "#2a3f5f"
           }
          },
          "ternary": {
           "aaxis": {
            "gridcolor": "white",
            "linecolor": "white",
            "ticks": ""
           },
           "baxis": {
            "gridcolor": "white",
            "linecolor": "white",
            "ticks": ""
           },
           "bgcolor": "#E5ECF6",
           "caxis": {
            "gridcolor": "white",
            "linecolor": "white",
            "ticks": ""
           }
          },
          "title": {
           "x": 0.05
          },
          "xaxis": {
           "automargin": true,
           "gridcolor": "white",
           "linecolor": "white",
           "ticks": "",
           "title": {
            "standoff": 15
           },
           "zerolinecolor": "white",
           "zerolinewidth": 2
          },
          "yaxis": {
           "automargin": true,
           "gridcolor": "white",
           "linecolor": "white",
           "ticks": "",
           "title": {
            "standoff": 15
           },
           "zerolinecolor": "white",
           "zerolinewidth": 2
          }
         }
        },
        "title": {
         "text": "Acceleration in RPM Graph"
        },
        "xaxis": {
         "anchor": "y",
         "domain": [
          0,
          1
         ],
         "title": {
          "text": "x"
         }
        },
        "yaxis": {
         "anchor": "x",
         "domain": [
          0,
          1
         ],
         "title": {
          "text": "y"
         }
        }
       }
      }
     },
     "metadata": {},
     "output_type": "display_data"
    }
   ],
   "source": [
    "plot_xy_values(time, x_ValuesNum,'Position (ft)v Time Graph') #x1 v time\n",
    "plot_xy_values(time, y_ValuesNum,'Velocity (ft/s) v Time Graph') #x2 v time\n",
    "plot_xy_values(time, z_ValuesNum, 'Angular Velocity (rad/sec)v Time Graph') #x3 v time\n",
    "plot_xy_values(time, Tcon_ValuesNum, 'Lyapunov Control Torque (ft-lbs)v Time Graph') #Torque control v time\n",
    "plot_xy_values(time, x2Error_ValuesNum, 'Error in Velocity (ft/s) v Time Graph') #error in velocity v time\n",
    "plot_xy_values(time, x3kError_ValuesNum, 'Angular Velocity Delta (rad/s)v Time Graph') #error in acceleration v time\n",
    "plot_xy_values(time, x2MPH_ValuesNum, 'Velocity in MPH v Time Graph')\n",
    "plot_xy_values(time, x3MPH_ValuesNum, 'Acceleration in RPM Graph')\n"
   ]
  }
 ],
 "metadata": {
  "kernelspec": {
   "display_name": "Python 3 (ipykernel)",
   "language": "python",
   "name": "python3"
  },
  "language_info": {
   "codemirror_mode": {
    "name": "ipython",
    "version": 3
   },
   "file_extension": ".py",
   "mimetype": "text/x-python",
   "name": "python",
   "nbconvert_exporter": "python",
   "pygments_lexer": "ipython3",
   "version": "3.11.6"
  }
 },
 "nbformat": 4,
 "nbformat_minor": 5
}
